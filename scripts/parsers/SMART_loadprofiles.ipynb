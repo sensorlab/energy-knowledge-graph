{
 "cells": [
  {
   "cell_type": "code",
   "execution_count": 1,
   "metadata": {},
   "outputs": [],
   "source": [
    "import pandas as pd\n",
    "import os"
   ]
  },
  {
   "cell_type": "code",
   "execution_count": 2,
   "metadata": {},
   "outputs": [],
   "source": [
    "# convert to kWh\n",
    "def convert2kWh(df):\n",
    "    df['power[kW]'] = df['power[kW]'] * 0.25 # 15 min interval -> *4\n",
    "    df.columns = ['time', 'power[kWh]']\n",
    "    return df\n",
    "\n",
    "# read the file and convert to kWh \n",
    "def process_file(file_path):\n",
    "    df = pd.read_csv(file_path, header=None, names=[\"time\", \"power[kW]\"])\n",
    "    df = convert2kWh(df)\n",
    "    df[\"time\"] = pd.to_datetime(df[\"time\"])\n",
    "    df = df.set_index('time')\n",
    "    return df\n",
    "\n",
    "# get apartment name from file path\n",
    "def apartment_name(file_path : str):\n",
    "    return file_path.split(\"_\")[0]\n",
    "\n",
    "\n",
    "def sort_key(s):\n",
    "    return int(s[3:])  # Extract the number part of the string and convert to int\n",
    "\n",
    "\n",
    "def calculate_loadprofiles(df):\n",
    "    # resample to daily and hourly\n",
    "    hourly = df.resample('H').sum()\n",
    "    daily = df.resample('D').sum()\n",
    "\n",
    "\n",
    "        \n",
    "    # daily load profile\n",
    "    loadprofile_daily = hourly.groupby(hourly.index.hour).mean()\n",
    "\n",
    "    # weekly load profile\n",
    "    loadprofile_weekly = daily.groupby(daily.index.dayofweek).mean()\n",
    "\n",
    "    # monthly load profile\n",
    "    loadprofile_monthly = daily.groupby(daily.index.day).mean()\n",
    "\n",
    "    # save to dictioanry\n",
    "    loadprofiles = {\n",
    "        \"daily\": loadprofile_daily,\n",
    "        \"weekly\": loadprofile_weekly,\n",
    "        \"monthly\": loadprofile_monthly\n",
    "    }\n",
    "    return loadprofiles\n",
    "\n"
   ]
  },
  {
   "cell_type": "code",
   "execution_count": 6,
   "metadata": {},
   "outputs": [],
   "source": [
    "# path to the folder including the year folders\n",
    "folder_path = \"../../data/SMART/\"\n",
    "\n",
    "# sets to store apartment names for each year\n",
    "apartments = []\n",
    " \n",
    "\n",
    "for file in os.listdir(folder_path + \"2015\"):\n",
    "    if not file.endswith(\".csv\"):\n",
    "        continue\n",
    "    # read apartment name from file name\n",
    "    apt_name = apartment_name(file)\n",
    "    apartments.append(apt_name)\n",
    "    \n",
    "        \n",
    "\n",
    "# sort apartments by number\n",
    "apartments = sorted(list(apartments), key=sort_key)\n"
   ]
  },
  {
   "cell_type": "code",
   "execution_count": 4,
   "metadata": {},
   "outputs": [
    {
     "ename": "NameError",
     "evalue": "name 'apartments_2015' is not defined",
     "output_type": "error",
     "traceback": [
      "\u001b[1;31m---------------------------------------------------------------------------\u001b[0m",
      "\u001b[1;31mNameError\u001b[0m                                 Traceback (most recent call last)",
      "Cell \u001b[1;32mIn[4], line 2\u001b[0m\n\u001b[0;32m      1\u001b[0m \u001b[39m# print apartments that appear in 2015 but not in 2014\u001b[39;00m\n\u001b[1;32m----> 2\u001b[0m \u001b[39mprint\u001b[39m(\u001b[39m\"\u001b[39m\u001b[39m2015 but not 2014:\u001b[39m\u001b[39m\"\u001b[39m, apartments_2015\u001b[39m.\u001b[39mdifference(apartments_2014))\n",
      "\u001b[1;31mNameError\u001b[0m: name 'apartments_2015' is not defined"
     ]
    }
   ],
   "source": [
    "# print apartments that appear in 2015 but not in 2014\n",
    "print(\"2015 but not 2014:\", apartments_2015.difference(apartments_2014))"
   ]
  },
  {
   "cell_type": "code",
   "execution_count": 7,
   "metadata": {},
   "outputs": [
    {
     "name": "stderr",
     "output_type": "stream",
     "text": [
      "100%|██████████| 114/114 [01:36<00:00,  1.18it/s]\n"
     ]
    }
   ],
   "source": [
    "# stores load profiles for all apartments with the following structure: {apartment_name: load_profiles}\n",
    "loadprofiles_for_all_apartments = {}\n",
    "# these 6 apartments are missing in 2014 data but appear in 2015 and 2016\n",
    "apartments_missing2014 = ['Apt65', 'Apt6', 'Apt21', 'Apt112', 'Apt94', 'Apt3']\n",
    "from tqdm import tqdm\n",
    "for apt in tqdm(apartments):\n",
    "    # handle missing 2014 data\n",
    "    if apt in apartments_missing2014:\n",
    "        df_2015 = process_file(folder_path + \"2015/\" + apt + \"_2015.csv\")\n",
    "        df_2016 = process_file(folder_path + \"2016/\" + apt + \"_2016.csv\")\n",
    "        df = pd.concat([df_2015, df_2016])\n",
    "    else:\n",
    "        df_2014 = process_file(folder_path + \"2014/\" + apt + \"_2014.csv\")\n",
    "        df_2015 = process_file(folder_path + \"2015/\" + apt + \"_2015.csv\")\n",
    "        df_2016 = process_file(folder_path + \"2016/\" + apt + \"_2016.csv\")\n",
    "        df = pd.concat([df_2014, df_2015, df_2016])\n",
    "        \n",
    "    # merge dataframes\n",
    "    \n",
    "    lp = calculate_loadprofiles(df)\n",
    "\n",
    "    loadprofiles_for_all_apartments[apt] = lp\n",
    "    \n",
    "\n",
    "\n",
    "\n"
   ]
  },
  {
   "cell_type": "code",
   "execution_count": 8,
   "metadata": {},
   "outputs": [],
   "source": [
    "# save to pickle\n",
    "import pickle\n",
    "with open('../../data/SMART/loadprofiles.pickle', 'wb') as handle:\n",
    "    pickle.dump(loadprofiles_for_all_apartments, handle, protocol=pickle.HIGHEST_PROTOCOL)"
   ]
  }
 ],
 "metadata": {
  "kernelspec": {
   "display_name": "energy-graph",
   "language": "python",
   "name": "python3"
  },
  "language_info": {
   "codemirror_mode": {
    "name": "ipython",
    "version": 3
   },
   "file_extension": ".py",
   "mimetype": "text/x-python",
   "name": "python",
   "nbconvert_exporter": "python",
   "pygments_lexer": "ipython3",
   "version": "3.11.4"
  },
  "orig_nbformat": 4
 },
 "nbformat": 4,
 "nbformat_minor": 2
}
