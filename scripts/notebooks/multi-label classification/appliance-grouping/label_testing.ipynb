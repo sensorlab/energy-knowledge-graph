{
 "cells": [
  {
   "cell_type": "code",
   "execution_count": 64,
   "metadata": {},
   "outputs": [
    {
     "name": "stdout",
     "output_type": "stream",
     "text": [
      "huggingface/tokenizers: The current process just got forked, after parallelism has already been used. Disabling parallelism to avoid deadlocks...\n",
      "To disable this warning, you can either:\n",
      "\t- Avoid using `tokenizers` before the fork if possible\n",
      "\t- Explicitly set the environment variable TOKENIZERS_PARALLELISM=(true | false)\n",
      "Requirement already satisfied: spacy in /opt/conda/lib/python3.10/site-packages (3.6.1)\n",
      "Requirement already satisfied: spacy-transformers in /opt/conda/lib/python3.10/site-packages (1.2.5)\n",
      "Requirement already satisfied: catalogue<2.1.0,>=2.0.6 in /opt/conda/lib/python3.10/site-packages (from spacy) (2.0.9)\n",
      "Requirement already satisfied: cymem<2.1.0,>=2.0.2 in /opt/conda/lib/python3.10/site-packages (from spacy) (2.0.7)\n",
      "Requirement already satisfied: packaging>=20.0 in /opt/conda/lib/python3.10/site-packages (from spacy) (21.3)\n",
      "Requirement already satisfied: smart-open<7.0.0,>=5.2.1 in /opt/conda/lib/python3.10/site-packages (from spacy) (6.3.0)\n",
      "Requirement already satisfied: setuptools in /opt/conda/lib/python3.10/site-packages (from spacy) (65.5.1)\n",
      "Requirement already satisfied: pydantic!=1.8,!=1.8.1,<3.0.0,>=1.7.4 in /opt/conda/lib/python3.10/site-packages (from spacy) (2.3.0)\n",
      "Requirement already satisfied: requests<3.0.0,>=2.13.0 in /opt/conda/lib/python3.10/site-packages (from spacy) (2.28.1)\n",
      "Requirement already satisfied: pathy>=0.10.0 in /opt/conda/lib/python3.10/site-packages (from spacy) (0.10.2)\n",
      "Requirement already satisfied: tqdm<5.0.0,>=4.38.0 in /opt/conda/lib/python3.10/site-packages (from spacy) (4.66.1)\n",
      "Requirement already satisfied: wasabi<1.2.0,>=0.9.1 in /opt/conda/lib/python3.10/site-packages (from spacy) (1.1.2)\n",
      "Requirement already satisfied: jinja2 in /opt/conda/lib/python3.10/site-packages (from spacy) (3.1.2)\n",
      "Requirement already satisfied: typer<0.10.0,>=0.3.0 in /opt/conda/lib/python3.10/site-packages (from spacy) (0.9.0)\n",
      "Requirement already satisfied: thinc<8.2.0,>=8.1.8 in /opt/conda/lib/python3.10/site-packages (from spacy) (8.1.12)\n",
      "Requirement already satisfied: numpy>=1.15.0 in /opt/conda/lib/python3.10/site-packages (from spacy) (1.23.5)\n",
      "Requirement already satisfied: spacy-loggers<2.0.0,>=1.0.0 in /opt/conda/lib/python3.10/site-packages (from spacy) (1.0.4)\n",
      "Requirement already satisfied: langcodes<4.0.0,>=3.2.0 in /opt/conda/lib/python3.10/site-packages (from spacy) (3.3.0)\n",
      "Requirement already satisfied: spacy-legacy<3.1.0,>=3.0.11 in /opt/conda/lib/python3.10/site-packages (from spacy) (3.0.12)\n",
      "Requirement already satisfied: srsly<3.0.0,>=2.4.3 in /opt/conda/lib/python3.10/site-packages (from spacy) (2.4.7)\n",
      "Requirement already satisfied: murmurhash<1.1.0,>=0.28.0 in /opt/conda/lib/python3.10/site-packages (from spacy) (1.0.9)\n",
      "Requirement already satisfied: preshed<3.1.0,>=3.0.2 in /opt/conda/lib/python3.10/site-packages (from spacy) (3.0.8)\n",
      "Requirement already satisfied: transformers<4.31.0,>=3.4.0 in /opt/conda/lib/python3.10/site-packages (from spacy-transformers) (4.30.2)\n",
      "Requirement already satisfied: torch>=1.8.0 in /opt/conda/lib/python3.10/site-packages (from spacy-transformers) (2.0.1)\n",
      "Requirement already satisfied: spacy-alignments<1.0.0,>=0.7.2 in /opt/conda/lib/python3.10/site-packages (from spacy-transformers) (0.9.0)\n",
      "Requirement already satisfied: pyparsing!=3.0.5,>=2.0.2 in /opt/conda/lib/python3.10/site-packages (from packaging>=20.0->spacy) (3.0.9)\n",
      "Requirement already satisfied: pydantic-core==2.6.3 in /opt/conda/lib/python3.10/site-packages (from pydantic!=1.8,!=1.8.1,<3.0.0,>=1.7.4->spacy) (2.6.3)\n",
      "Requirement already satisfied: annotated-types>=0.4.0 in /opt/conda/lib/python3.10/site-packages (from pydantic!=1.8,!=1.8.1,<3.0.0,>=1.7.4->spacy) (0.5.0)\n",
      "Requirement already satisfied: typing-extensions>=4.6.1 in /opt/conda/lib/python3.10/site-packages (from pydantic!=1.8,!=1.8.1,<3.0.0,>=1.7.4->spacy) (4.7.1)\n",
      "Requirement already satisfied: charset-normalizer<3,>=2 in /opt/conda/lib/python3.10/site-packages (from requests<3.0.0,>=2.13.0->spacy) (2.1.1)\n",
      "Requirement already satisfied: urllib3<1.27,>=1.21.1 in /opt/conda/lib/python3.10/site-packages (from requests<3.0.0,>=2.13.0->spacy) (1.26.13)\n",
      "Requirement already satisfied: idna<4,>=2.5 in /opt/conda/lib/python3.10/site-packages (from requests<3.0.0,>=2.13.0->spacy) (3.4)\n",
      "Requirement already satisfied: certifi>=2017.4.17 in /opt/conda/lib/python3.10/site-packages (from requests<3.0.0,>=2.13.0->spacy) (2023.7.22)\n",
      "Requirement already satisfied: confection<1.0.0,>=0.0.1 in /opt/conda/lib/python3.10/site-packages (from thinc<8.2.0,>=8.1.8->spacy) (0.1.2)\n",
      "Requirement already satisfied: blis<0.8.0,>=0.7.8 in /opt/conda/lib/python3.10/site-packages (from thinc<8.2.0,>=8.1.8->spacy) (0.7.10)\n",
      "Requirement already satisfied: nvidia-cuda-runtime-cu11==11.7.99 in /opt/conda/lib/python3.10/site-packages (from torch>=1.8.0->spacy-transformers) (11.7.99)\n",
      "Requirement already satisfied: triton==2.0.0 in /opt/conda/lib/python3.10/site-packages (from torch>=1.8.0->spacy-transformers) (2.0.0)\n",
      "Requirement already satisfied: nvidia-cuda-nvrtc-cu11==11.7.99 in /opt/conda/lib/python3.10/site-packages (from torch>=1.8.0->spacy-transformers) (11.7.99)\n",
      "Requirement already satisfied: nvidia-cudnn-cu11==8.5.0.96 in /opt/conda/lib/python3.10/site-packages (from torch>=1.8.0->spacy-transformers) (8.5.0.96)\n",
      "Requirement already satisfied: filelock in /opt/conda/lib/python3.10/site-packages (from torch>=1.8.0->spacy-transformers) (3.12.3)\n",
      "Requirement already satisfied: sympy in /opt/conda/lib/python3.10/site-packages (from torch>=1.8.0->spacy-transformers) (1.11.1)\n",
      "Requirement already satisfied: networkx in /opt/conda/lib/python3.10/site-packages (from torch>=1.8.0->spacy-transformers) (2.8.8)\n",
      "Requirement already satisfied: nvidia-cufft-cu11==10.9.0.58 in /opt/conda/lib/python3.10/site-packages (from torch>=1.8.0->spacy-transformers) (10.9.0.58)\n",
      "Requirement already satisfied: nvidia-curand-cu11==10.2.10.91 in /opt/conda/lib/python3.10/site-packages (from torch>=1.8.0->spacy-transformers) (10.2.10.91)\n",
      "Requirement already satisfied: nvidia-nvtx-cu11==11.7.91 in /opt/conda/lib/python3.10/site-packages (from torch>=1.8.0->spacy-transformers) (11.7.91)\n",
      "Requirement already satisfied: nvidia-cusolver-cu11==11.4.0.1 in /opt/conda/lib/python3.10/site-packages (from torch>=1.8.0->spacy-transformers) (11.4.0.1)\n",
      "Requirement already satisfied: nvidia-nccl-cu11==2.14.3 in /opt/conda/lib/python3.10/site-packages (from torch>=1.8.0->spacy-transformers) (2.14.3)\n",
      "Requirement already satisfied: nvidia-cuda-cupti-cu11==11.7.101 in /opt/conda/lib/python3.10/site-packages (from torch>=1.8.0->spacy-transformers) (11.7.101)\n",
      "Requirement already satisfied: nvidia-cusparse-cu11==11.7.4.91 in /opt/conda/lib/python3.10/site-packages (from torch>=1.8.0->spacy-transformers) (11.7.4.91)\n",
      "Requirement already satisfied: nvidia-cublas-cu11==11.10.3.66 in /opt/conda/lib/python3.10/site-packages (from torch>=1.8.0->spacy-transformers) (11.10.3.66)\n",
      "Requirement already satisfied: wheel in /opt/conda/lib/python3.10/site-packages (from nvidia-cublas-cu11==11.10.3.66->torch>=1.8.0->spacy-transformers) (0.38.4)\n",
      "Requirement already satisfied: lit in /opt/conda/lib/python3.10/site-packages (from triton==2.0.0->torch>=1.8.0->spacy-transformers) (16.0.6)\n",
      "Requirement already satisfied: cmake in /opt/conda/lib/python3.10/site-packages (from triton==2.0.0->torch>=1.8.0->spacy-transformers) (3.27.4.1)\n",
      "Requirement already satisfied: tokenizers!=0.11.3,<0.14,>=0.11.1 in /opt/conda/lib/python3.10/site-packages (from transformers<4.31.0,>=3.4.0->spacy-transformers) (0.13.3)\n",
      "Requirement already satisfied: huggingface-hub<1.0,>=0.14.1 in /opt/conda/lib/python3.10/site-packages (from transformers<4.31.0,>=3.4.0->spacy-transformers) (0.16.4)\n",
      "Requirement already satisfied: pyyaml>=5.1 in /opt/conda/lib/python3.10/site-packages (from transformers<4.31.0,>=3.4.0->spacy-transformers) (6.0)\n",
      "Requirement already satisfied: safetensors>=0.3.1 in /opt/conda/lib/python3.10/site-packages (from transformers<4.31.0,>=3.4.0->spacy-transformers) (0.3.3)\n",
      "Requirement already satisfied: regex!=2019.12.17 in /opt/conda/lib/python3.10/site-packages (from transformers<4.31.0,>=3.4.0->spacy-transformers) (2023.8.8)\n",
      "Requirement already satisfied: click<9.0.0,>=7.1.1 in /opt/conda/lib/python3.10/site-packages (from typer<0.10.0,>=0.3.0->spacy) (8.1.3)\n",
      "Requirement already satisfied: MarkupSafe>=2.0 in /opt/conda/lib/python3.10/site-packages (from jinja2->spacy) (2.1.1)\n",
      "Requirement already satisfied: fsspec in /opt/conda/lib/python3.10/site-packages (from huggingface-hub<1.0,>=0.14.1->transformers<4.31.0,>=3.4.0->spacy-transformers) (2022.11.0)\n",
      "Requirement already satisfied: mpmath>=0.19 in /opt/conda/lib/python3.10/site-packages (from sympy->torch>=1.8.0->spacy-transformers) (1.2.1)\n",
      "Note: you may need to restart the kernel to use updated packages.\n",
      "huggingface/tokenizers: The current process just got forked, after parallelism has already been used. Disabling parallelism to avoid deadlocks...\n",
      "To disable this warning, you can either:\n",
      "\t- Avoid using `tokenizers` before the fork if possible\n",
      "\t- Explicitly set the environment variable TOKENIZERS_PARALLELISM=(true | false)\n",
      "Requirement already satisfied: fuzzywuzzy in /opt/conda/lib/python3.10/site-packages (0.18.0)\n",
      "Note: you may need to restart the kernel to use updated packages.\n",
      "huggingface/tokenizers: The current process just got forked, after parallelism has already been used. Disabling parallelism to avoid deadlocks...\n",
      "To disable this warning, you can either:\n",
      "\t- Avoid using `tokenizers` before the fork if possible\n",
      "\t- Explicitly set the environment variable TOKENIZERS_PARALLELISM=(true | false)\n",
      "Requirement already satisfied: python-Levenshtein in /opt/conda/lib/python3.10/site-packages (0.21.1)\n",
      "Requirement already satisfied: Levenshtein==0.21.1 in /opt/conda/lib/python3.10/site-packages (from python-Levenshtein) (0.21.1)\n",
      "Requirement already satisfied: rapidfuzz<4.0.0,>=2.3.0 in /opt/conda/lib/python3.10/site-packages (from Levenshtein==0.21.1->python-Levenshtein) (3.2.0)\n",
      "Note: you may need to restart the kernel to use updated packages.\n",
      "huggingface/tokenizers: The current process just got forked, after parallelism has already been used. Disabling parallelism to avoid deadlocks...\n",
      "To disable this warning, you can either:\n",
      "\t- Avoid using `tokenizers` before the fork if possible\n",
      "\t- Explicitly set the environment variable TOKENIZERS_PARALLELISM=(true | false)\n",
      "Requirement already satisfied: transformers in /opt/conda/lib/python3.10/site-packages (4.30.2)\n",
      "Requirement already satisfied: regex!=2019.12.17 in /opt/conda/lib/python3.10/site-packages (from transformers) (2023.8.8)\n",
      "Requirement already satisfied: numpy>=1.17 in /opt/conda/lib/python3.10/site-packages (from transformers) (1.23.5)\n",
      "Requirement already satisfied: pyyaml>=5.1 in /opt/conda/lib/python3.10/site-packages (from transformers) (6.0)\n",
      "Requirement already satisfied: requests in /opt/conda/lib/python3.10/site-packages (from transformers) (2.28.1)\n",
      "Requirement already satisfied: tqdm>=4.27 in /opt/conda/lib/python3.10/site-packages (from transformers) (4.66.1)\n",
      "Requirement already satisfied: safetensors>=0.3.1 in /opt/conda/lib/python3.10/site-packages (from transformers) (0.3.3)\n",
      "Requirement already satisfied: packaging>=20.0 in /opt/conda/lib/python3.10/site-packages (from transformers) (21.3)\n",
      "Requirement already satisfied: huggingface-hub<1.0,>=0.14.1 in /opt/conda/lib/python3.10/site-packages (from transformers) (0.16.4)\n",
      "Requirement already satisfied: filelock in /opt/conda/lib/python3.10/site-packages (from transformers) (3.12.3)\n",
      "Requirement already satisfied: tokenizers!=0.11.3,<0.14,>=0.11.1 in /opt/conda/lib/python3.10/site-packages (from transformers) (0.13.3)\n",
      "Requirement already satisfied: typing-extensions>=3.7.4.3 in /opt/conda/lib/python3.10/site-packages (from huggingface-hub<1.0,>=0.14.1->transformers) (4.7.1)\n",
      "Requirement already satisfied: fsspec in /opt/conda/lib/python3.10/site-packages (from huggingface-hub<1.0,>=0.14.1->transformers) (2022.11.0)\n",
      "Requirement already satisfied: pyparsing!=3.0.5,>=2.0.2 in /opt/conda/lib/python3.10/site-packages (from packaging>=20.0->transformers) (3.0.9)\n",
      "Requirement already satisfied: charset-normalizer<3,>=2 in /opt/conda/lib/python3.10/site-packages (from requests->transformers) (2.1.1)\n",
      "Requirement already satisfied: urllib3<1.27,>=1.21.1 in /opt/conda/lib/python3.10/site-packages (from requests->transformers) (1.26.13)\n",
      "Requirement already satisfied: certifi>=2017.4.17 in /opt/conda/lib/python3.10/site-packages (from requests->transformers) (2023.7.22)\n",
      "Requirement already satisfied: idna<4,>=2.5 in /opt/conda/lib/python3.10/site-packages (from requests->transformers) (3.4)\n",
      "Note: you may need to restart the kernel to use updated packages.\n",
      "huggingface/tokenizers: The current process just got forked, after parallelism has already been used. Disabling parallelism to avoid deadlocks...\n",
      "To disable this warning, you can either:\n",
      "\t- Avoid using `tokenizers` before the fork if possible\n",
      "\t- Explicitly set the environment variable TOKENIZERS_PARALLELISM=(true | false)\n",
      "Collecting gensim\n",
      "  Downloading gensim-4.3.2-cp310-cp310-manylinux_2_17_x86_64.manylinux2014_x86_64.whl (26.5 MB)\n",
      "\u001b[2K     \u001b[90m━━━━━━━━━━━━━━━━━━━━━━━━━━━━━━━━━━━━━━━━\u001b[0m \u001b[32m26.5/26.5 MB\u001b[0m \u001b[31m48.2 MB/s\u001b[0m eta \u001b[36m0:00:00\u001b[0m00:01\u001b[0m00:01\u001b[0m\n",
      "\u001b[?25hRequirement already satisfied: numpy>=1.18.5 in /opt/conda/lib/python3.10/site-packages (from gensim) (1.23.5)\n",
      "Requirement already satisfied: scipy>=1.7.0 in /opt/conda/lib/python3.10/site-packages (from gensim) (1.9.3)\n",
      "Requirement already satisfied: smart-open>=1.8.1 in /opt/conda/lib/python3.10/site-packages (from gensim) (6.3.0)\n",
      "Installing collected packages: gensim\n",
      "Successfully installed gensim-4.3.2\n",
      "Note: you may need to restart the kernel to use updated packages.\n"
     ]
    }
   ],
   "source": [
    "%pip install spacy spacy-transformers\n",
    "%pip install fuzzywuzzy\n",
    "%pip install python-Levenshtein\n",
    "%pip install transformers\n",
    "%pip install gensim\n",
    "%pip install nltk"
   ]
  },
  {
   "cell_type": "code",
   "execution_count": 38,
   "metadata": {},
   "outputs": [
    {
     "name": "stdout",
     "output_type": "stream",
     "text": [
      "2023-09-06 12:36:54.476640: I tensorflow/core/platform/cpu_feature_guard.cc:193] This TensorFlow binary is optimized with oneAPI Deep Neural Network Library (oneDNN) to use the following CPU instructions in performance-critical operations:  SSE4.1 SSE4.2 AVX AVX2 FMA\n",
      "To enable them in other operations, rebuild TensorFlow with the appropriate compiler flags.\n",
      "Collecting en-core-web-trf==3.6.1\n",
      "  Downloading https://github.com/explosion/spacy-models/releases/download/en_core_web_trf-3.6.1/en_core_web_trf-3.6.1-py3-none-any.whl (460.3 MB)\n",
      "\u001b[2K     \u001b[90m━━━━━━━━━━━━━━━━━━━━━━━━━━━━━━━━━━━━━━━\u001b[0m \u001b[32m460.3/460.3 MB\u001b[0m \u001b[31m5.1 MB/s\u001b[0m eta \u001b[36m0:00:00\u001b[0m00:01\u001b[0m00:01\u001b[0m\n",
      "\u001b[?25hRequirement already satisfied: spacy<3.7.0,>=3.6.0 in /opt/conda/lib/python3.10/site-packages (from en-core-web-trf==3.6.1) (3.6.1)\n",
      "Requirement already satisfied: spacy-transformers<1.3.0,>=1.2.2 in /opt/conda/lib/python3.10/site-packages (from en-core-web-trf==3.6.1) (1.2.5)\n",
      "Requirement already satisfied: requests<3.0.0,>=2.13.0 in /opt/conda/lib/python3.10/site-packages (from spacy<3.7.0,>=3.6.0->en-core-web-trf==3.6.1) (2.28.1)\n",
      "Requirement already satisfied: pydantic!=1.8,!=1.8.1,<3.0.0,>=1.7.4 in /opt/conda/lib/python3.10/site-packages (from spacy<3.7.0,>=3.6.0->en-core-web-trf==3.6.1) (2.3.0)\n",
      "Requirement already satisfied: wasabi<1.2.0,>=0.9.1 in /opt/conda/lib/python3.10/site-packages (from spacy<3.7.0,>=3.6.0->en-core-web-trf==3.6.1) (1.1.2)\n",
      "Requirement already satisfied: numpy>=1.15.0 in /opt/conda/lib/python3.10/site-packages (from spacy<3.7.0,>=3.6.0->en-core-web-trf==3.6.1) (1.23.5)\n",
      "Requirement already satisfied: typer<0.10.0,>=0.3.0 in /opt/conda/lib/python3.10/site-packages (from spacy<3.7.0,>=3.6.0->en-core-web-trf==3.6.1) (0.9.0)\n",
      "Requirement already satisfied: spacy-loggers<2.0.0,>=1.0.0 in /opt/conda/lib/python3.10/site-packages (from spacy<3.7.0,>=3.6.0->en-core-web-trf==3.6.1) (1.0.4)\n",
      "Requirement already satisfied: setuptools in /opt/conda/lib/python3.10/site-packages (from spacy<3.7.0,>=3.6.0->en-core-web-trf==3.6.1) (65.5.1)\n",
      "Requirement already satisfied: pathy>=0.10.0 in /opt/conda/lib/python3.10/site-packages (from spacy<3.7.0,>=3.6.0->en-core-web-trf==3.6.1) (0.10.2)\n",
      "Requirement already satisfied: packaging>=20.0 in /opt/conda/lib/python3.10/site-packages (from spacy<3.7.0,>=3.6.0->en-core-web-trf==3.6.1) (21.3)\n",
      "Requirement already satisfied: tqdm<5.0.0,>=4.38.0 in /opt/conda/lib/python3.10/site-packages (from spacy<3.7.0,>=3.6.0->en-core-web-trf==3.6.1) (4.66.1)\n",
      "Requirement already satisfied: murmurhash<1.1.0,>=0.28.0 in /opt/conda/lib/python3.10/site-packages (from spacy<3.7.0,>=3.6.0->en-core-web-trf==3.6.1) (1.0.9)\n",
      "Requirement already satisfied: preshed<3.1.0,>=3.0.2 in /opt/conda/lib/python3.10/site-packages (from spacy<3.7.0,>=3.6.0->en-core-web-trf==3.6.1) (3.0.8)\n",
      "Requirement already satisfied: srsly<3.0.0,>=2.4.3 in /opt/conda/lib/python3.10/site-packages (from spacy<3.7.0,>=3.6.0->en-core-web-trf==3.6.1) (2.4.7)\n",
      "Requirement already satisfied: spacy-legacy<3.1.0,>=3.0.11 in /opt/conda/lib/python3.10/site-packages (from spacy<3.7.0,>=3.6.0->en-core-web-trf==3.6.1) (3.0.12)\n",
      "Requirement already satisfied: cymem<2.1.0,>=2.0.2 in /opt/conda/lib/python3.10/site-packages (from spacy<3.7.0,>=3.6.0->en-core-web-trf==3.6.1) (2.0.7)\n",
      "Requirement already satisfied: thinc<8.2.0,>=8.1.8 in /opt/conda/lib/python3.10/site-packages (from spacy<3.7.0,>=3.6.0->en-core-web-trf==3.6.1) (8.1.12)\n",
      "Requirement already satisfied: catalogue<2.1.0,>=2.0.6 in /opt/conda/lib/python3.10/site-packages (from spacy<3.7.0,>=3.6.0->en-core-web-trf==3.6.1) (2.0.9)\n",
      "Requirement already satisfied: jinja2 in /opt/conda/lib/python3.10/site-packages (from spacy<3.7.0,>=3.6.0->en-core-web-trf==3.6.1) (3.1.2)\n",
      "Requirement already satisfied: langcodes<4.0.0,>=3.2.0 in /opt/conda/lib/python3.10/site-packages (from spacy<3.7.0,>=3.6.0->en-core-web-trf==3.6.1) (3.3.0)\n",
      "Requirement already satisfied: smart-open<7.0.0,>=5.2.1 in /opt/conda/lib/python3.10/site-packages (from spacy<3.7.0,>=3.6.0->en-core-web-trf==3.6.1) (6.3.0)\n",
      "Requirement already satisfied: transformers<4.31.0,>=3.4.0 in /opt/conda/lib/python3.10/site-packages (from spacy-transformers<1.3.0,>=1.2.2->en-core-web-trf==3.6.1) (4.30.2)\n",
      "Requirement already satisfied: torch>=1.8.0 in /opt/conda/lib/python3.10/site-packages (from spacy-transformers<1.3.0,>=1.2.2->en-core-web-trf==3.6.1) (2.0.1)\n",
      "Requirement already satisfied: spacy-alignments<1.0.0,>=0.7.2 in /opt/conda/lib/python3.10/site-packages (from spacy-transformers<1.3.0,>=1.2.2->en-core-web-trf==3.6.1) (0.9.0)\n",
      "Requirement already satisfied: pyparsing!=3.0.5,>=2.0.2 in /opt/conda/lib/python3.10/site-packages (from packaging>=20.0->spacy<3.7.0,>=3.6.0->en-core-web-trf==3.6.1) (3.0.9)\n",
      "Requirement already satisfied: typing-extensions>=4.6.1 in /opt/conda/lib/python3.10/site-packages (from pydantic!=1.8,!=1.8.1,<3.0.0,>=1.7.4->spacy<3.7.0,>=3.6.0->en-core-web-trf==3.6.1) (4.7.1)\n",
      "Requirement already satisfied: pydantic-core==2.6.3 in /opt/conda/lib/python3.10/site-packages (from pydantic!=1.8,!=1.8.1,<3.0.0,>=1.7.4->spacy<3.7.0,>=3.6.0->en-core-web-trf==3.6.1) (2.6.3)\n",
      "Requirement already satisfied: annotated-types>=0.4.0 in /opt/conda/lib/python3.10/site-packages (from pydantic!=1.8,!=1.8.1,<3.0.0,>=1.7.4->spacy<3.7.0,>=3.6.0->en-core-web-trf==3.6.1) (0.5.0)\n",
      "Requirement already satisfied: idna<4,>=2.5 in /opt/conda/lib/python3.10/site-packages (from requests<3.0.0,>=2.13.0->spacy<3.7.0,>=3.6.0->en-core-web-trf==3.6.1) (3.4)\n",
      "Requirement already satisfied: charset-normalizer<3,>=2 in /opt/conda/lib/python3.10/site-packages (from requests<3.0.0,>=2.13.0->spacy<3.7.0,>=3.6.0->en-core-web-trf==3.6.1) (2.1.1)\n",
      "Requirement already satisfied: certifi>=2017.4.17 in /opt/conda/lib/python3.10/site-packages (from requests<3.0.0,>=2.13.0->spacy<3.7.0,>=3.6.0->en-core-web-trf==3.6.1) (2023.7.22)\n",
      "Requirement already satisfied: urllib3<1.27,>=1.21.1 in /opt/conda/lib/python3.10/site-packages (from requests<3.0.0,>=2.13.0->spacy<3.7.0,>=3.6.0->en-core-web-trf==3.6.1) (1.26.13)\n",
      "Requirement already satisfied: confection<1.0.0,>=0.0.1 in /opt/conda/lib/python3.10/site-packages (from thinc<8.2.0,>=8.1.8->spacy<3.7.0,>=3.6.0->en-core-web-trf==3.6.1) (0.1.2)\n",
      "Requirement already satisfied: blis<0.8.0,>=0.7.8 in /opt/conda/lib/python3.10/site-packages (from thinc<8.2.0,>=8.1.8->spacy<3.7.0,>=3.6.0->en-core-web-trf==3.6.1) (0.7.10)\n",
      "Requirement already satisfied: nvidia-cuda-nvrtc-cu11==11.7.99 in /opt/conda/lib/python3.10/site-packages (from torch>=1.8.0->spacy-transformers<1.3.0,>=1.2.2->en-core-web-trf==3.6.1) (11.7.99)\n",
      "Requirement already satisfied: nvidia-cuda-runtime-cu11==11.7.99 in /opt/conda/lib/python3.10/site-packages (from torch>=1.8.0->spacy-transformers<1.3.0,>=1.2.2->en-core-web-trf==3.6.1) (11.7.99)\n",
      "Requirement already satisfied: nvidia-cusolver-cu11==11.4.0.1 in /opt/conda/lib/python3.10/site-packages (from torch>=1.8.0->spacy-transformers<1.3.0,>=1.2.2->en-core-web-trf==3.6.1) (11.4.0.1)\n",
      "Requirement already satisfied: nvidia-cublas-cu11==11.10.3.66 in /opt/conda/lib/python3.10/site-packages (from torch>=1.8.0->spacy-transformers<1.3.0,>=1.2.2->en-core-web-trf==3.6.1) (11.10.3.66)\n",
      "Requirement already satisfied: nvidia-cufft-cu11==10.9.0.58 in /opt/conda/lib/python3.10/site-packages (from torch>=1.8.0->spacy-transformers<1.3.0,>=1.2.2->en-core-web-trf==3.6.1) (10.9.0.58)\n",
      "Requirement already satisfied: nvidia-cudnn-cu11==8.5.0.96 in /opt/conda/lib/python3.10/site-packages (from torch>=1.8.0->spacy-transformers<1.3.0,>=1.2.2->en-core-web-trf==3.6.1) (8.5.0.96)\n",
      "Requirement already satisfied: nvidia-nvtx-cu11==11.7.91 in /opt/conda/lib/python3.10/site-packages (from torch>=1.8.0->spacy-transformers<1.3.0,>=1.2.2->en-core-web-trf==3.6.1) (11.7.91)\n",
      "Requirement already satisfied: networkx in /opt/conda/lib/python3.10/site-packages (from torch>=1.8.0->spacy-transformers<1.3.0,>=1.2.2->en-core-web-trf==3.6.1) (2.8.8)\n",
      "Requirement already satisfied: nvidia-curand-cu11==10.2.10.91 in /opt/conda/lib/python3.10/site-packages (from torch>=1.8.0->spacy-transformers<1.3.0,>=1.2.2->en-core-web-trf==3.6.1) (10.2.10.91)\n",
      "Requirement already satisfied: nvidia-cuda-cupti-cu11==11.7.101 in /opt/conda/lib/python3.10/site-packages (from torch>=1.8.0->spacy-transformers<1.3.0,>=1.2.2->en-core-web-trf==3.6.1) (11.7.101)\n",
      "Requirement already satisfied: triton==2.0.0 in /opt/conda/lib/python3.10/site-packages (from torch>=1.8.0->spacy-transformers<1.3.0,>=1.2.2->en-core-web-trf==3.6.1) (2.0.0)\n",
      "Requirement already satisfied: filelock in /opt/conda/lib/python3.10/site-packages (from torch>=1.8.0->spacy-transformers<1.3.0,>=1.2.2->en-core-web-trf==3.6.1) (3.12.3)\n",
      "Requirement already satisfied: nvidia-nccl-cu11==2.14.3 in /opt/conda/lib/python3.10/site-packages (from torch>=1.8.0->spacy-transformers<1.3.0,>=1.2.2->en-core-web-trf==3.6.1) (2.14.3)\n",
      "Requirement already satisfied: nvidia-cusparse-cu11==11.7.4.91 in /opt/conda/lib/python3.10/site-packages (from torch>=1.8.0->spacy-transformers<1.3.0,>=1.2.2->en-core-web-trf==3.6.1) (11.7.4.91)\n",
      "Requirement already satisfied: sympy in /opt/conda/lib/python3.10/site-packages (from torch>=1.8.0->spacy-transformers<1.3.0,>=1.2.2->en-core-web-trf==3.6.1) (1.11.1)\n",
      "Requirement already satisfied: wheel in /opt/conda/lib/python3.10/site-packages (from nvidia-cublas-cu11==11.10.3.66->torch>=1.8.0->spacy-transformers<1.3.0,>=1.2.2->en-core-web-trf==3.6.1) (0.38.4)\n",
      "Requirement already satisfied: cmake in /opt/conda/lib/python3.10/site-packages (from triton==2.0.0->torch>=1.8.0->spacy-transformers<1.3.0,>=1.2.2->en-core-web-trf==3.6.1) (3.27.4.1)\n",
      "Requirement already satisfied: lit in /opt/conda/lib/python3.10/site-packages (from triton==2.0.0->torch>=1.8.0->spacy-transformers<1.3.0,>=1.2.2->en-core-web-trf==3.6.1) (16.0.6)\n",
      "Requirement already satisfied: huggingface-hub<1.0,>=0.14.1 in /opt/conda/lib/python3.10/site-packages (from transformers<4.31.0,>=3.4.0->spacy-transformers<1.3.0,>=1.2.2->en-core-web-trf==3.6.1) (0.16.4)\n",
      "Requirement already satisfied: tokenizers!=0.11.3,<0.14,>=0.11.1 in /opt/conda/lib/python3.10/site-packages (from transformers<4.31.0,>=3.4.0->spacy-transformers<1.3.0,>=1.2.2->en-core-web-trf==3.6.1) (0.13.3)\n",
      "Requirement already satisfied: regex!=2019.12.17 in /opt/conda/lib/python3.10/site-packages (from transformers<4.31.0,>=3.4.0->spacy-transformers<1.3.0,>=1.2.2->en-core-web-trf==3.6.1) (2023.8.8)\n",
      "Requirement already satisfied: pyyaml>=5.1 in /opt/conda/lib/python3.10/site-packages (from transformers<4.31.0,>=3.4.0->spacy-transformers<1.3.0,>=1.2.2->en-core-web-trf==3.6.1) (6.0)\n",
      "Requirement already satisfied: safetensors>=0.3.1 in /opt/conda/lib/python3.10/site-packages (from transformers<4.31.0,>=3.4.0->spacy-transformers<1.3.0,>=1.2.2->en-core-web-trf==3.6.1) (0.3.3)\n",
      "Requirement already satisfied: click<9.0.0,>=7.1.1 in /opt/conda/lib/python3.10/site-packages (from typer<0.10.0,>=0.3.0->spacy<3.7.0,>=3.6.0->en-core-web-trf==3.6.1) (8.1.3)\n",
      "Requirement already satisfied: MarkupSafe>=2.0 in /opt/conda/lib/python3.10/site-packages (from jinja2->spacy<3.7.0,>=3.6.0->en-core-web-trf==3.6.1) (2.1.1)\n",
      "Requirement already satisfied: fsspec in /opt/conda/lib/python3.10/site-packages (from huggingface-hub<1.0,>=0.14.1->transformers<4.31.0,>=3.4.0->spacy-transformers<1.3.0,>=1.2.2->en-core-web-trf==3.6.1) (2022.11.0)\n",
      "Requirement already satisfied: mpmath>=0.19 in /opt/conda/lib/python3.10/site-packages (from sympy->torch>=1.8.0->spacy-transformers<1.3.0,>=1.2.2->en-core-web-trf==3.6.1) (1.2.1)\n",
      "Installing collected packages: en-core-web-trf\n",
      "Successfully installed en-core-web-trf-3.6.1\n",
      "\u001b[38;5;2m✔ Download and installation successful\u001b[0m\n",
      "You can now load the package via spacy.load('en_core_web_trf')\n"
     ]
    }
   ],
   "source": [
    "\n",
    "# !python -m spacy download en_core_web_lg\n",
    "!python -m spacy download en_core_web_trf\n",
    "\n"
   ]
  },
  {
   "cell_type": "code",
   "execution_count": 6,
   "metadata": {},
   "outputs": [
    {
     "name": "stderr",
     "output_type": "stream",
     "text": [
      "2023-09-06 13:28:51.130168: I tensorflow/core/platform/cpu_feature_guard.cc:193] This TensorFlow binary is optimized with oneAPI Deep Neural Network Library (oneDNN) to use the following CPU instructions in performance-critical operations:  SSE4.1 SSE4.2 AVX AVX2 FMA\n",
      "To enable them in other operations, rebuild TensorFlow with the appropriate compiler flags.\n"
     ]
    }
   ],
   "source": [
    "import spacy\n",
    "import pandas as pd\n",
    "from tqdm import tqdm\n",
    "import numpy as np\n",
    "import os\n",
    "from fuzzywuzzy import fuzz\n",
    "from collections import defaultdict\n",
    "import re"
   ]
  },
  {
   "cell_type": "markdown",
   "metadata": {},
   "source": [
    "### Functions"
   ]
  },
  {
   "cell_type": "code",
   "execution_count": 4,
   "metadata": {},
   "outputs": [],
   "source": [
    "def preprocess_string(string : str) -> str:\n",
    "    string = string.lower().strip()\n",
    "    string = re.sub(' +', ' ', string)\n",
    "    string = string.replace(\"_\", \" \")\n",
    "    string = string.replace(\"-\", \" \")\n",
    "    string = string.replace(\"&\", \" \")\n",
    "    string = string.split(\"(\")[0]\n",
    "\n",
    "    # special cases\n",
    "    if \"computer\" in string:\n",
    "        string = \"pc\"\n",
    "\n",
    "    if \"tv\" in string:\n",
    "        string = \"television\"\n",
    "\n",
    "    if \"television\" in string:\n",
    "        string = \"television\"\n",
    "\n",
    "    if \"macbook\" in string:\n",
    "        string = \"laptop\"\n",
    "        \n",
    "    if \"ev\" == string:\n",
    "        string = \"car charger\"\n",
    "    \n",
    "    if \"toast\" in string:\n",
    "        string = \"toaster\"\n",
    "    \n",
    "    if \"modem\" in string:\n",
    "        string = \"router\"\n",
    "\n",
    "    # we treat all audio devices as speakers so subwoofer is also a speaker\n",
    "    if \"subwoofer\" in string:\n",
    "        string = \"speaker\"\n",
    "\n",
    "    if \"speaker\" in string:\n",
    "        string = \"speaker\"\n",
    "\n",
    "    if \"iron\" in string:\n",
    "        string = \"iron\"\n",
    "    \n",
    "    string = re.sub(' +', ' ', string)\n",
    "    return string"
   ]
  },
  {
   "cell_type": "markdown",
   "metadata": {},
   "source": [
    "### Get device list"
   ]
  },
  {
   "cell_type": "code",
   "execution_count": 7,
   "metadata": {},
   "outputs": [
    {
     "name": "stderr",
     "output_type": "stream",
     "text": [
      "  8%|▊         | 1/12 [00:00<00:01,  6.35it/s]"
     ]
    },
    {
     "name": "stdout",
     "output_type": "stream",
     "text": [
      "REDD.pkl\n",
      "ECO.pkl\n"
     ]
    },
    {
     "name": "stderr",
     "output_type": "stream",
     "text": [
      " 17%|█▋        | 2/12 [00:04<00:24,  2.42s/it]"
     ]
    },
    {
     "name": "stdout",
     "output_type": "stream",
     "text": [
      "REFIT.pkl\n"
     ]
    },
    {
     "name": "stderr",
     "output_type": "stream",
     "text": [
      " 25%|██▌       | 3/12 [00:07<00:26,  2.94s/it]"
     ]
    },
    {
     "name": "stdout",
     "output_type": "stream",
     "text": [
      "UK-DALE.pkl\n"
     ]
    },
    {
     "name": "stderr",
     "output_type": "stream",
     "text": [
      " 33%|███▎      | 4/12 [00:11<00:25,  3.18s/it]"
     ]
    },
    {
     "name": "stdout",
     "output_type": "stream",
     "text": [
      "SUST2.pkl\n"
     ]
    },
    {
     "name": "stderr",
     "output_type": "stream",
     "text": [
      " 42%|████▏     | 5/12 [00:11<00:15,  2.19s/it]"
     ]
    },
    {
     "name": "stdout",
     "output_type": "stream",
     "text": [
      "ENERTALK.pkl\n"
     ]
    },
    {
     "name": "stderr",
     "output_type": "stream",
     "text": [
      " 50%|█████     | 6/12 [00:14<00:15,  2.54s/it]"
     ]
    },
    {
     "name": "stdout",
     "output_type": "stream",
     "text": [
      "DEDDIAG.pkl\n"
     ]
    },
    {
     "name": "stderr",
     "output_type": "stream",
     "text": [
      " 58%|█████▊    | 7/12 [00:16<00:10,  2.10s/it]"
     ]
    },
    {
     "name": "stdout",
     "output_type": "stream",
     "text": [
      "HEART.pkl\n"
     ]
    },
    {
     "name": "stderr",
     "output_type": "stream",
     "text": [
      " 67%|██████▋   | 8/12 [00:16<00:06,  1.60s/it]"
     ]
    },
    {
     "name": "stdout",
     "output_type": "stream",
     "text": [
      "IAWE.pkl\n",
      "HES.pkl\n"
     ]
    },
    {
     "name": "stderr",
     "output_type": "stream",
     "text": [
      " 83%|████████▎ | 10/12 [00:17<00:01,  1.02it/s]"
     ]
    },
    {
     "name": "stdout",
     "output_type": "stream",
     "text": [
      "DRED.pkl\n"
     ]
    },
    {
     "name": "stderr",
     "output_type": "stream",
     "text": [
      "100%|██████████| 12/12 [00:17<00:00,  1.47s/it]\n"
     ]
    }
   ],
   "source": [
    "device_list = []\n",
    "path = \"./Energy_graph/data/training_data/\"\n",
    "for file in tqdm(os.listdir(path)):\n",
    "    if not file.endswith(\".pkl\"):\n",
    "        continue\n",
    "    \n",
    "    print(file)\n",
    "    data = pd.read_pickle(path + file)\n",
    "    for house in data:\n",
    "        \n",
    "        for device in data[house]:\n",
    "            device = preprocess_string(device)\n",
    "            if device == \"aggregate\" or \"outlet\" in device or \"sockets\" in device or \"lamp\" in device or \"light\" in device or \"plug\" in device:\n",
    "                continue\n",
    "            test = device\n",
    "            if \"lamp\" in device:\n",
    "                print(\"HERE: \",house, device , test)\n",
    "            if device not in device_list:\n",
    "                device_list.append(device)\n",
    "\n",
    "\n",
    "device_list = list(set(device_list))\n",
    "    "
   ]
  },
  {
   "cell_type": "markdown",
   "metadata": {},
   "source": [
    "### Fuzzy wuzzy"
   ]
  },
  {
   "cell_type": "code",
   "execution_count": 82,
   "metadata": {},
   "outputs": [
    {
     "data": {
      "text/plain": [
       "({'fridge': ['fridge'],\n",
       "  'dish washer': ['dish washer', 'dishwasher'],\n",
       "  'microwave': ['microwave'],\n",
       "  'electric space heater': ['electric space heater',\n",
       "   'electric heater',\n",
       "   'electric heater '],\n",
       "  'electric stove': ['electric stove', 'electric oven'],\n",
       "  'washer dryer': ['washer dryer'],\n",
       "  'waste disposal unit': ['waste disposal unit'],\n",
       "  'ce appliance': ['ce appliance', 'wet appliance'],\n",
       "  'electric furnace': ['electric furnace'],\n",
       "  'smoke alarm': ['smoke alarm'],\n",
       "  'air conditioner': ['air conditioner', 'air conditioning'],\n",
       "  'subpanel': ['subpanel'],\n",
       "  'air handling unit': ['air handling unit'],\n",
       "  'pc': ['pc'],\n",
       "  'washing machine': ['washing machine', 'washing machine '],\n",
       "  'dryer': ['dryer'],\n",
       "  'freezer': ['freezer', 'freezer '],\n",
       "  'coffee machine': ['coffee machine', 'coffeemachine'],\n",
       "  'kettle': ['kettle'],\n",
       "  'laptop': ['laptop', 'laptops'],\n",
       "  'router': ['router'],\n",
       "  'air exhaust': ['air exhaust'],\n",
       "  'stove': ['stove'],\n",
       "  'stereo': ['stereo'],\n",
       "  'tablet': ['tablet'],\n",
       "  'television': ['television'],\n",
       "  'fountain': ['fountain'],\n",
       "  'television site': ['television site',\n",
       "   'television site2',\n",
       "   'television site '],\n",
       "  'tumble dryer': ['tumble dryer', 'tumble dryer ', 'tumble dryer 3'],\n",
       "  'toaster': ['toaster'],\n",
       "  'chest freezer': ['chest freezer', 'chest freezer '],\n",
       "  'upright freezer': ['upright freezer'],\n",
       "  'fridge freezer': ['fridge freezer', 'fridge freezer ', 'fridge   freezer'],\n",
       "  'food mixer': ['food mixer'],\n",
       "  'kettle/toaster': ['kettle/toaster'],\n",
       "  'vivarium': ['vivarium'],\n",
       "  'pond pump': ['pond pump'],\n",
       "  'hi fi': ['hi fi'],\n",
       "  'dehumidifier/heater': ['dehumidifier/heater'],\n",
       "  'plug site ': ['plug site '],\n",
       "  'blender': ['blender'],\n",
       "  'food processor': ['food processor'],\n",
       "  'bread maker': ['bread maker', 'breadmaker'],\n",
       "  'oven extractor fan': ['oven extractor fan'],\n",
       "  'combination microwave': ['combination microwave'],\n",
       "  'coffee maker': ['coffee maker'],\n",
       "  'running machine': ['running machine'],\n",
       "  'clothes iron': ['clothes iron'],\n",
       "  'network attached storage': ['network attached storage'],\n",
       "  'active speaker': ['active speaker'],\n",
       "  'audio amplifier': ['audio amplifier'],\n",
       "  'games console': ['games console'],\n",
       "  'hair dryer': ['hair dryer'],\n",
       "  'set top box': ['set top box'],\n",
       "  'vacuum cleaner': ['vacuum cleaner', 'vaccumcleaner'],\n",
       "  'cooker': ['cooker'],\n",
       "  'modem': ['modem'],\n",
       "  'broadband router': ['broadband router'],\n",
       "  'rice cooker': ['rice cooker'],\n",
       "  'external hard disk': ['external hard disk'],\n",
       "  'audio system': ['audio system'],\n",
       "  'fan': ['fan'],\n",
       "  'soldering iron': ['soldering iron'],\n",
       "  'radio': ['radio'],\n",
       "  'usb hub': ['usb hub'],\n",
       "  'active subwoofer': ['active subwoofer'],\n",
       "  'printer': ['printer'],\n",
       "  'htpc': ['htpc'],\n",
       "  'oven': ['oven'],\n",
       "  'baby monitor': ['baby monitor'],\n",
       "  'mobile phone charger': ['mobile phone charger'],\n",
       "  'bouncy castle pump': ['bouncy castle pump'],\n",
       "  'solar thermal pumping station': ['solar thermal pumping station'],\n",
       "  'toasted sandwich maker': ['toasted sandwich maker'],\n",
       "  'hair straighteners': ['hair straighteners', 'hairdryer straightener'],\n",
       "  'charger': ['charger'],\n",
       "  'boiler': ['boiler'],\n",
       "  'projector': ['projector'],\n",
       "  'handmixer': ['handmixer'],\n",
       "  'stove oven': ['stove oven'],\n",
       "  'kimchi fridge': ['kimchi fridge'],\n",
       "  'water purifier': ['water purifier'],\n",
       "  'circulation pump': ['circulation pump'],\n",
       "  'car charger': ['car charger'],\n",
       "  'heat pump': ['heat pump'],\n",
       "  'refrigerator': ['refrigerator'],\n",
       "  'office desk': ['office desk'],\n",
       "  'iron': ['iron'],\n",
       "  'minioven': ['minioven'],\n",
       "  'monitor': ['monitor', 'motor'],\n",
       "  'watercooker': ['watercooker'],\n",
       "  'heater': ['heater'],\n",
       "  'gaming pc': ['gaming pc'],\n",
       "  'treadmill': ['treadmill'],\n",
       "  'air exchanger': ['air exchanger'],\n",
       "  'heat bedroom #1': ['heat bedroom #1', 'heat bedroom #2', 'heat bedroom #3'],\n",
       "  'heat kitchen': ['heat kitchen'],\n",
       "  'heat living room': ['heat living room', 'heat dining room'],\n",
       "  'water heater': ['water heater'],\n",
       "  'heat basement': ['heat basement'],\n",
       "  'heat garage': ['heat garage'],\n",
       "  'whirlpool bath': ['whirlpool bath'],\n",
       "  'towel dryer': ['towel dryer'],\n",
       "  'electric heating element': ['electric heating element']},\n",
       " 104)"
      ]
     },
     "execution_count": 82,
     "metadata": {},
     "output_type": "execute_result"
    }
   ],
   "source": [
    "\n",
    "labels = device_list\n",
    "grouped_labels = {}\n",
    "threshold = 80 # Set a threshold for similarity\n",
    "\n",
    "for label in labels:\n",
    "    found = False\n",
    "    for key in grouped_labels:\n",
    "        if fuzz.ratio(label.lower(), key.lower()) > threshold:\n",
    "            grouped_labels[key].append(label)\n",
    "            found = True\n",
    "            break\n",
    "    if not found:\n",
    "        grouped_labels[label] = [label]\n",
    "\n",
    "# grouped_labels[\"fridge\"].append(\"refrigerator\")\n",
    "# grouped_labels.pop(\"refrigerator\")\n",
    "grouped_labels, len(grouped_labels)"
   ]
  },
  {
   "cell_type": "markdown",
   "metadata": {},
   "source": [
    "### Spacy using kmeans"
   ]
  },
  {
   "cell_type": "code",
   "execution_count": 62,
   "metadata": {},
   "outputs": [
    {
     "name": "stdout",
     "output_type": "stream",
     "text": [
      "Group 7: ['fridge', 'freezer', 'fridge freezer', 'kimchi fridge', 'fridge freezer ', 'refrigerator', 'freezer ']\n",
      "Group 36: ['broadband router', 'router']\n",
      "Group 28: ['rice cooker', 'cooker']\n",
      "Group 9: ['minioven', 'vaccumcleaner', 'subpanel', 'breadmaker', 'vivarium', 'coffeemachine', 'watercooker', 'handmixer', 'htpc']\n",
      "Group 29: ['heat garage', 'heat basement', 'heat kitchen']\n",
      "Group 45: ['wet appliance']\n",
      "Group 49: ['upright freezer', 'chest freezer ', 'chest freezer']\n",
      "Group 21: ['laptops', 'laptop', 'tablet']\n",
      "Group 27: ['motor']\n",
      "Group 50: ['waste disposal unit']\n",
      "Group 4: ['heat bedroom #1', 'heat bedroom #2', 'heat bedroom #3']\n",
      "Group 51: ['bouncy castle pump', 'pond pump']\n",
      "Group 6: ['charger', 'mobile phone charger']\n",
      "Group 25: ['washing machine', 'running machine', 'washing machine ']\n",
      "Group 3: ['electric heating element', 'solar thermal pumping station', 'electric heater', 'electric heater ', 'heater', 'electric space heater', 'electric furnace', 'electric stove']\n",
      "Group 38: ['tumble dryer 3']\n",
      "Group 48: ['microwave', 'combination microwave']\n",
      "Group 2: ['air handling unit', 'air conditioner', 'air exhaust', 'air exchanger', 'air conditioning']\n",
      "Group 15: ['towel dryer', 'washer dryer', 'dryer', 'tumble dryer ', 'tumble dryer']\n",
      "Group 23: ['electric oven', 'oven', 'stove oven', 'stove']\n",
      "Group 31: ['smoke alarm']\n",
      "Group 16: ['audio amplifier', 'audio system', 'stereo']\n",
      "Group 1: ['dishwasher', 'dish washer', 'vacuum cleaner']\n",
      "Group 17: ['television']\n",
      "Group 30: ['water heater', 'water purifier']\n",
      "Group 39: ['baby monitor', 'monitor']\n",
      "Group 42: ['blender']\n",
      "Group 8: ['hi fi']\n",
      "Group 0: ['hairdryer straightener', 'whirlpool bath', 'toaster', 'treadmill']\n",
      "Group 46: ['speaker']\n",
      "Group 26: ['coffee maker', 'coffee machine', 'bread maker']\n",
      "Group 14: ['heat dining room', 'heat living room']\n",
      "Group 34: ['projector']\n",
      "Group 22: ['printer']\n",
      "Group 18: ['games console']\n",
      "Group 52: ['oven extractor fan']\n",
      "Group 13: ['food processor', 'food mixer']\n",
      "Group 53: ['kettle']\n",
      "Group 20: ['iron']\n",
      "Group 19: ['hair dryer', 'hair straighteners']\n",
      "Group 43: ['dehumidifier/heater']\n",
      "Group 12: ['fan']\n",
      "Group 47: ['external hard disk']\n",
      "Group 11: ['pc']\n",
      "Group 32: ['usb hub']\n",
      "Group 24: ['car charger']\n",
      "Group 40: ['boiler']\n",
      "Group 5: ['network attached storage']\n",
      "Group 41: ['gaming pc']\n",
      "Group 35: ['fountain']\n",
      "Group 33: ['office desk']\n",
      "Group 10: ['set top box']\n",
      "Group 44: ['ce appliance']\n",
      "Group 37: ['radio']\n"
     ]
    }
   ],
   "source": [
    "import spacy\n",
    "from sklearn.cluster import KMeans\n",
    "import numpy as np\n",
    "\n",
    "N_CLUSTERS = 54\n",
    "\n",
    "# Load the largge English model in spaCy (contains word vectors)\n",
    "# nlp = spacy.load('en_core_web_trf')\n",
    "nlp = spacy.load('en_core_web_lg')\n",
    "\n",
    "# List of devices\n",
    "devices = device_list\n",
    "\n",
    "# Create vectors for each device name\n",
    "device_vectors = np.array([nlp(device).vector for device in devices])\n",
    "\n",
    "# Use KMeans clustering to group devices\n",
    "kmeans = KMeans(n_clusters=N_CLUSTERS)  # Choose an appropriate number of clusters\n",
    "kmeans.fit(device_vectors)\n",
    "labels = kmeans.labels_\n",
    "\n",
    "# Print out the devices grouped by their cluster\n",
    "grouped_devices = {}\n",
    "for label, device in zip(labels, devices):\n",
    "    if label not in grouped_devices:\n",
    "        grouped_devices[label] = []\n",
    "    grouped_devices[label].append(device)\n",
    "\n",
    "for label, devices in grouped_devices.items():\n",
    "    print(f\"Group {label}: {devices}\")\n"
   ]
  },
  {
   "cell_type": "markdown",
   "metadata": {},
   "source": [
    "### Spacy using kmeans using transformer"
   ]
  },
  {
   "cell_type": "code",
   "execution_count": 58,
   "metadata": {},
   "outputs": [
    {
     "name": "stdout",
     "output_type": "stream",
     "text": [
      "Group 0: ['motor', 'air handling unit', 'smoke alarm', 'fridge freezer', 'blender', 'projector', 'car charger', 'air conditioning', 'set top box', 'fridge freezer ', 'bread maker']\n",
      "Group 1: ['broadband router', 'dehumidifier/heater', 'gaming pc']\n",
      "Group 2: ['solar thermal pumping station', 'tumble dryer ', 'tumble dryer']\n",
      "Group 3: ['minioven', 'vivarium', 'heat kitchen']\n",
      "Group 4: ['tablet', 'stereo', 'dish washer', 'handmixer']\n",
      "Group 5: ['upright freezer', 'freezer', 'baby monitor', 'pc', 'electric furnace', 'freezer ', 'stove']\n",
      "Group 6: ['fridge', 'waste disposal unit', 'charger', 'speaker', 'running machine', 'heat dining room', 'combination microwave', 'coffee machine', 'electric space heater', 'vacuum cleaner', 'pond pump', 'radio']\n",
      "Group 7: ['wet appliance', 'microwave', 'audio amplifier', 'air conditioner', 'oven extractor fan', 'food mixer', 'watercooker']\n",
      "Group 8: ['chest freezer ', 'washing machine', 'breadmaker', 'kimchi fridge', 'washing machine ', 'printer', 'coffeemachine', 'chest freezer', 'hair dryer', 'office desk', 'cooker']\n",
      "Group 9: ['router', 'external hard disk']\n",
      "Group 10: ['toaster', 'fan']\n",
      "Group 11: ['electric heating element', 'television', 'whirlpool bath', 'games console', 'audio system', 'air exchanger', 'water purifier', 'network attached storage', 'refrigerator']\n",
      "Group 12: ['usb hub', 'hair straighteners']\n",
      "Group 13: ['rice cooker', 'electric heater', 'electric heater ', 'coffee maker', 'heat basement', 'air exhaust', 'mobile phone charger', 'food processor', 'heater', 'heat living room', 'heat bedroom #2', 'fountain', 'heat bedroom #3', 'electric stove']\n",
      "Group 14: ['dishwasher', 'subpanel', 'hairdryer straightener', 'boiler', 'ce appliance']\n",
      "Group 15: ['tumble dryer 3', 'electric oven', 'iron', 'stove oven', 'treadmill']\n",
      "Group 16: ['heat bedroom #1', 'bouncy castle pump', 'water heater', 'hi fi', 'kettle', 'htpc']\n",
      "Group 17: ['vaccumcleaner', 'washer dryer', 'oven']\n",
      "Group 18: ['laptops', 'laptop']\n",
      "Group 19: ['heat garage', 'towel dryer', 'dryer', 'monitor']\n"
     ]
    }
   ],
   "source": [
    "import spacy\n",
    "from sklearn.cluster import KMeans\n",
    "import numpy as np\n",
    "\n",
    "# Initialize spaCy model with transformer\n",
    "nlp = spacy.load(\"en_core_web_trf\")\n",
    "\n",
    "# Add the transformer component to the pipeline\n",
    "if \"transformer\" not in nlp.pipe_names:\n",
    "    transformer = nlp.add_pipe(\"transformer\", name=\"transformer\", last=True)\n",
    "\n",
    "# Get vectors from transformer output\n",
    "def get_vector_from_transformer_output(doc):\n",
    "    tensor = doc._.trf_data.tensors[-1]\n",
    "    return tensor.mean(axis=1).squeeze()\n",
    "\n",
    "# Your list of devices\n",
    "# device_list = [\"laptop\", \"mobile\", \"tablet\", \"desktop\"]\n",
    "\n",
    "# Generate vectors\n",
    "device_vectors = np.array([get_vector_from_transformer_output(nlp(device)) for device in device_list])\n",
    "\n",
    "\n",
    "# KMeans clustering\n",
    "# N_CLUSTERS = 2  # or however many clusters you'd like\n",
    "kmeans = KMeans(n_clusters=N_CLUSTERS)\n",
    "kmeans.fit(device_vectors.reshape(-1, 1))\n",
    "labels = kmeans.labels_\n",
    "\n",
    "# Group by labels\n",
    "grouped_devices = {i: [] for i in set(labels)}\n",
    "for label, device in zip(labels, device_list):\n",
    "    grouped_devices[label].append(device)\n",
    "\n",
    "# Display the groups\n",
    "for label, devices in grouped_devices.items():\n",
    "    print(f\"Group {label}: {devices}\")\n"
   ]
  },
  {
   "cell_type": "markdown",
   "metadata": {},
   "source": [
    "### Genism k-means using google news word2vec"
   ]
  },
  {
   "cell_type": "code",
   "execution_count": 9,
   "metadata": {},
   "outputs": [
    {
     "name": "stdout",
     "output_type": "stream",
     "text": [
      "Note: The following words are not in the model: ['coffeemachine', 'food mixer', 'electric oven', 'games console', 'electric stove', 'air conditioner', 'bouncy castle pump', 'electric heating element', 'food processor', 'hair straighteners', 'water purifier', 'audio system', 'tumble dryer', 'heat kitchen', 'heat bedroom #3', 'electric heater ', 'fridge freezer', 'kimchi fridge', 'heat basement', 'washing machine ', 'heat garage', 'whirlpool bath', 'office desk', 'combination microwave', 'electric heater', 'hi fi', 'solar thermal pumping station', 'htpc', 'air conditioning', 'usb hub', 'ce appliance', 'audio amplifier', 'air exhaust', 'handmixer', 'coffee maker', 'mobile phone charger', 'heat bedroom #2', 'tumble dryer ', 'set top box', 'stove oven', 'coffee machine', 'dish washer', 'air exchanger', 'baby monitor', 'running machine', 'hairdryer straightener', 'gaming pc', 'broadband router', 'chest freezer ', 'heat dining room', 'oven extractor fan', 'hair dryer', 'washing machine', 'pond pump', 'chest freezer', 'rice cooker', 'fridge freezer ', 'heat living room', 'vacuum cleaner', 'electric space heater', 'minioven', 'vaccumcleaner', 'car charger', 'waste disposal unit', 'upright freezer', 'air handling unit', 'electric furnace', 'water heater', 'watercooker', 'dehumidifier/heater', 'towel dryer', 'external hard disk', 'smoke alarm', 'network attached storage', 'heat bedroom #1', 'tumble dryer 3', 'bread maker', 'wet appliance', 'washer dryer', 'freezer ']\n",
      "Group 4: ['coffeemachine', 'refrigerator', 'air conditioner']\n",
      "Group 15: ['food mixer']\n",
      "Group 5: ['electric oven']\n",
      "Group 10: ['games console', 'bouncy castle pump', 'freezer', 'office desk']\n",
      "Group 1: ['electric stove']\n",
      "Group 18: ['stereo']\n",
      "Group 8: ['treadmill']\n",
      "Group 7: ['electric heating element', 'electric heater']\n",
      "Group 0: ['food processor', 'electric heater ']\n",
      "Group 13: ['hair straighteners']\n",
      "Group 24: ['oven', 'heat garage']\n",
      "Group 19: ['water purifier']\n",
      "Group 12: ['audio system']\n",
      "Group 2: ['tumble dryer', 'fridge freezer', 'heat basement']\n",
      "Group 3: ['heat kitchen']\n",
      "Group 22: ['heat bedroom #3']\n",
      "Group 11: ['kimchi fridge']\n",
      "Group 9: ['router']\n",
      "Group 6: ['washing machine ']\n",
      "Group 16: ['whirlpool bath']\n",
      "Group 14: ['microwave']\n",
      "Group 20: ['combination microwave']\n",
      "Group 21: ['hi fi']\n",
      "Group 23: ['solar thermal pumping station']\n",
      "Group 17: ['htpc']\n"
     ]
    }
   ],
   "source": [
    "from gensim.models import KeyedVectors\n",
    "from sklearn.cluster import KMeans\n",
    "import numpy as np\n",
    "\n",
    "N_CLUSTERS = 25\n",
    "# Load pre-trained Word2Vec model\n",
    "# Replace 'path/to/GoogleNews-vectors-negative300.bin' with the actual path to the pre-trained model\n",
    "model = KeyedVectors.load_word2vec_format('./Energy_graph/google_word2vec/GoogleNews-vectors-negative300.bin', binary=True)\n",
    "\n",
    "# List of words to cluster\n",
    "words = device_list\n",
    "\n",
    "# Create an array of word vectors\n",
    "word_vectors = np.array([model[word] for word in words if word in model])\n",
    "\n",
    "# Check for words not in the model\n",
    "not_in_model = [word for word in words if word not in model]\n",
    "if not_in_model:\n",
    "    print(f\"Note: The following words are not in the model: {not_in_model}\")\n",
    "\n",
    "# Perform KMeans clustering\n",
    " # You can choose a different number of clusters\n",
    "kmeans = KMeans(n_clusters=N_CLUSTERS)\n",
    "kmeans.fit(word_vectors)\n",
    "labels = kmeans.labels_\n",
    "\n",
    "# Print out the words grouped by their cluster\n",
    "grouped_words = {}\n",
    "for label, word in zip(labels, words):\n",
    "    if label not in grouped_words:\n",
    "        grouped_words[label] = []\n",
    "    grouped_words[label].append(word)\n",
    "\n",
    "for label, grouped_word in grouped_words.items():\n",
    "    print(f\"Group {label}: {grouped_word}\")\n"
   ]
  }
 ],
 "metadata": {
  "kernelspec": {
   "display_name": "Python 3 (ipykernel)",
   "language": "python",
   "name": "python3"
  },
  "language_info": {
   "codemirror_mode": {
    "name": "ipython",
    "version": 3
   },
   "file_extension": ".py",
   "mimetype": "text/x-python",
   "name": "python",
   "nbconvert_exporter": "python",
   "pygments_lexer": "ipython3",
   "version": "3.10.8"
  },
  "orig_nbformat": 4
 },
 "nbformat": 4,
 "nbformat_minor": 2
}
