{
 "cells": [
  {
   "cell_type": "code",
   "execution_count": 1,
   "metadata": {},
   "outputs": [
    {
     "name": "stdout",
     "output_type": "stream",
     "text": [
      "Collecting spacy\n",
      "  Using cached spacy-3.6.1-cp310-cp310-manylinux_2_17_x86_64.manylinux2014_x86_64.whl (6.6 MB)\n",
      "Collecting spacy-transformers\n",
      "  Using cached spacy_transformers-1.2.5-cp310-cp310-manylinux_2_17_x86_64.manylinux2014_x86_64.whl (190 kB)\n",
      "Collecting typer<0.10.0,>=0.3.0\n",
      "  Using cached typer-0.9.0-py3-none-any.whl (45 kB)\n",
      "Requirement already satisfied: setuptools in /opt/conda/lib/python3.10/site-packages (from spacy) (65.5.1)\n",
      "Requirement already satisfied: requests<3.0.0,>=2.13.0 in /opt/conda/lib/python3.10/site-packages (from spacy) (2.28.1)\n",
      "Collecting thinc<8.2.0,>=8.1.8\n",
      "  Using cached thinc-8.1.12-cp310-cp310-manylinux_2_17_x86_64.manylinux2014_x86_64.whl (919 kB)\n",
      "Requirement already satisfied: numpy>=1.15.0 in /opt/conda/lib/python3.10/site-packages (from spacy) (1.23.5)\n",
      "Collecting spacy-legacy<3.1.0,>=3.0.11\n",
      "  Using cached spacy_legacy-3.0.12-py2.py3-none-any.whl (29 kB)\n",
      "Collecting preshed<3.1.0,>=3.0.2\n",
      "  Using cached preshed-3.0.8-cp310-cp310-manylinux_2_5_x86_64.manylinux1_x86_64.manylinux_2_17_x86_64.manylinux2014_x86_64.whl (124 kB)\n",
      "Collecting langcodes<4.0.0,>=3.2.0\n",
      "  Using cached langcodes-3.3.0-py3-none-any.whl (181 kB)\n",
      "Requirement already satisfied: jinja2 in /opt/conda/lib/python3.10/site-packages (from spacy) (3.1.2)\n",
      "Collecting murmurhash<1.1.0,>=0.28.0\n",
      "  Using cached murmurhash-1.0.9-cp310-cp310-manylinux_2_5_x86_64.manylinux1_x86_64.manylinux_2_17_x86_64.manylinux2014_x86_64.whl (21 kB)\n",
      "Collecting tqdm<5.0.0,>=4.38.0\n",
      "  Using cached tqdm-4.66.1-py3-none-any.whl (78 kB)\n",
      "Requirement already satisfied: packaging>=20.0 in /opt/conda/lib/python3.10/site-packages (from spacy) (21.3)\n",
      "Collecting spacy-loggers<2.0.0,>=1.0.0\n",
      "  Using cached spacy_loggers-1.0.4-py3-none-any.whl (11 kB)\n",
      "Collecting pydantic!=1.8,!=1.8.1,<3.0.0,>=1.7.4\n",
      "  Using cached pydantic-2.3.0-py3-none-any.whl (374 kB)\n",
      "Collecting srsly<3.0.0,>=2.4.3\n",
      "  Using cached srsly-2.4.7-cp310-cp310-manylinux_2_17_x86_64.manylinux2014_x86_64.whl (492 kB)\n",
      "Collecting catalogue<2.1.0,>=2.0.6\n",
      "  Using cached catalogue-2.0.9-py3-none-any.whl (17 kB)\n",
      "Collecting smart-open<7.0.0,>=5.2.1\n",
      "  Using cached smart_open-6.3.0-py3-none-any.whl (56 kB)\n",
      "Collecting cymem<2.1.0,>=2.0.2\n",
      "  Using cached cymem-2.0.7-cp310-cp310-manylinux_2_17_x86_64.manylinux2014_x86_64.whl (34 kB)\n",
      "Collecting pathy>=0.10.0\n",
      "  Using cached pathy-0.10.2-py3-none-any.whl (48 kB)\n",
      "Collecting wasabi<1.2.0,>=0.9.1\n",
      "  Using cached wasabi-1.1.2-py3-none-any.whl (27 kB)\n",
      "Collecting transformers<4.31.0,>=3.4.0\n",
      "  Using cached transformers-4.30.2-py3-none-any.whl (7.2 MB)\n",
      "Collecting torch>=1.8.0\n",
      "  Using cached torch-2.0.1-cp310-cp310-manylinux1_x86_64.whl (619.9 MB)\n",
      "Collecting spacy-alignments<1.0.0,>=0.7.2\n",
      "  Using cached spacy_alignments-0.9.0-cp310-cp310-manylinux_2_17_x86_64.manylinux2014_x86_64.whl (1.2 MB)\n",
      "Requirement already satisfied: pyparsing!=3.0.5,>=2.0.2 in /opt/conda/lib/python3.10/site-packages (from packaging>=20.0->spacy) (3.0.9)\n",
      "Collecting typing-extensions>=4.6.1\n",
      "  Using cached typing_extensions-4.7.1-py3-none-any.whl (33 kB)\n",
      "Collecting pydantic-core==2.6.3\n",
      "  Using cached pydantic_core-2.6.3-cp310-cp310-manylinux_2_17_x86_64.manylinux2014_x86_64.whl (1.9 MB)\n",
      "Collecting annotated-types>=0.4.0\n",
      "  Using cached annotated_types-0.5.0-py3-none-any.whl (11 kB)\n",
      "Requirement already satisfied: charset-normalizer<3,>=2 in /opt/conda/lib/python3.10/site-packages (from requests<3.0.0,>=2.13.0->spacy) (2.1.1)\n",
      "Requirement already satisfied: idna<4,>=2.5 in /opt/conda/lib/python3.10/site-packages (from requests<3.0.0,>=2.13.0->spacy) (3.4)\n",
      "Requirement already satisfied: certifi>=2017.4.17 in /opt/conda/lib/python3.10/site-packages (from requests<3.0.0,>=2.13.0->spacy) (2022.9.24)\n",
      "Requirement already satisfied: urllib3<1.27,>=1.21.1 in /opt/conda/lib/python3.10/site-packages (from requests<3.0.0,>=2.13.0->spacy) (1.26.13)\n",
      "Collecting confection<1.0.0,>=0.0.1\n",
      "  Using cached confection-0.1.1-py3-none-any.whl (34 kB)\n",
      "Collecting blis<0.8.0,>=0.7.8\n",
      "  Using cached blis-0.7.10-cp310-cp310-manylinux_2_17_x86_64.manylinux2014_x86_64.whl (10.2 MB)\n",
      "Collecting nvidia-cuda-nvrtc-cu11==11.7.99\n",
      "  Using cached nvidia_cuda_nvrtc_cu11-11.7.99-2-py3-none-manylinux1_x86_64.whl (21.0 MB)\n",
      "Collecting nvidia-cuda-cupti-cu11==11.7.101\n",
      "  Using cached nvidia_cuda_cupti_cu11-11.7.101-py3-none-manylinux1_x86_64.whl (11.8 MB)\n",
      "Requirement already satisfied: sympy in /opt/conda/lib/python3.10/site-packages (from torch>=1.8.0->spacy-transformers) (1.11.1)\n",
      "Collecting nvidia-nvtx-cu11==11.7.91\n",
      "  Using cached nvidia_nvtx_cu11-11.7.91-py3-none-manylinux1_x86_64.whl (98 kB)\n",
      "Collecting triton==2.0.0\n",
      "  Using cached triton-2.0.0-1-cp310-cp310-manylinux2014_x86_64.manylinux_2_17_x86_64.whl (63.3 MB)\n",
      "Collecting nvidia-cuda-runtime-cu11==11.7.99\n",
      "  Using cached nvidia_cuda_runtime_cu11-11.7.99-py3-none-manylinux1_x86_64.whl (849 kB)\n",
      "Collecting nvidia-cudnn-cu11==8.5.0.96\n",
      "  Using cached nvidia_cudnn_cu11-8.5.0.96-2-py3-none-manylinux1_x86_64.whl (557.1 MB)\n",
      "Requirement already satisfied: networkx in /opt/conda/lib/python3.10/site-packages (from torch>=1.8.0->spacy-transformers) (2.8.8)\n",
      "Collecting nvidia-curand-cu11==10.2.10.91\n",
      "  Using cached nvidia_curand_cu11-10.2.10.91-py3-none-manylinux1_x86_64.whl (54.6 MB)\n",
      "Collecting nvidia-cusolver-cu11==11.4.0.1\n",
      "  Using cached nvidia_cusolver_cu11-11.4.0.1-2-py3-none-manylinux1_x86_64.whl (102.6 MB)\n",
      "Collecting filelock\n",
      "  Using cached filelock-3.12.3-py3-none-any.whl (11 kB)\n",
      "Collecting nvidia-cusparse-cu11==11.7.4.91\n",
      "  Using cached nvidia_cusparse_cu11-11.7.4.91-py3-none-manylinux1_x86_64.whl (173.2 MB)\n",
      "Collecting nvidia-nccl-cu11==2.14.3\n",
      "  Using cached nvidia_nccl_cu11-2.14.3-py3-none-manylinux1_x86_64.whl (177.1 MB)\n",
      "Collecting nvidia-cublas-cu11==11.10.3.66\n",
      "  Using cached nvidia_cublas_cu11-11.10.3.66-py3-none-manylinux1_x86_64.whl (317.1 MB)\n",
      "Collecting nvidia-cufft-cu11==10.9.0.58\n",
      "  Using cached nvidia_cufft_cu11-10.9.0.58-py3-none-manylinux1_x86_64.whl (168.4 MB)\n",
      "Requirement already satisfied: wheel in /opt/conda/lib/python3.10/site-packages (from nvidia-cublas-cu11==11.10.3.66->torch>=1.8.0->spacy-transformers) (0.38.4)\n",
      "Collecting lit\n",
      "  Using cached lit-16.0.6-py3-none-any.whl\n",
      "Collecting cmake\n",
      "  Using cached cmake-3.27.2-py2.py3-none-manylinux2014_x86_64.manylinux_2_17_x86_64.whl (26.1 MB)\n",
      "Collecting huggingface-hub<1.0,>=0.14.1\n",
      "  Using cached huggingface_hub-0.16.4-py3-none-any.whl (268 kB)\n",
      "Collecting safetensors>=0.3.1\n",
      "  Using cached safetensors-0.3.3-cp310-cp310-manylinux_2_17_x86_64.manylinux2014_x86_64.whl (1.3 MB)\n",
      "Collecting tokenizers!=0.11.3,<0.14,>=0.11.1\n",
      "  Using cached tokenizers-0.13.3-cp310-cp310-manylinux_2_17_x86_64.manylinux2014_x86_64.whl (7.8 MB)\n",
      "Collecting regex!=2019.12.17\n",
      "  Using cached regex-2023.8.8-cp310-cp310-manylinux_2_17_x86_64.manylinux2014_x86_64.whl (771 kB)\n",
      "Requirement already satisfied: pyyaml>=5.1 in /opt/conda/lib/python3.10/site-packages (from transformers<4.31.0,>=3.4.0->spacy-transformers) (6.0)\n",
      "Requirement already satisfied: click<9.0.0,>=7.1.1 in /opt/conda/lib/python3.10/site-packages (from typer<0.10.0,>=0.3.0->spacy) (8.1.3)\n",
      "Requirement already satisfied: MarkupSafe>=2.0 in /opt/conda/lib/python3.10/site-packages (from jinja2->spacy) (2.1.1)\n",
      "Requirement already satisfied: fsspec in /opt/conda/lib/python3.10/site-packages (from huggingface-hub<1.0,>=0.14.1->transformers<4.31.0,>=3.4.0->spacy-transformers) (2022.11.0)\n",
      "Requirement already satisfied: mpmath>=0.19 in /opt/conda/lib/python3.10/site-packages (from sympy->torch>=1.8.0->spacy-transformers) (1.2.1)\n",
      "Installing collected packages: tokenizers, safetensors, lit, cymem, cmake, wasabi, typing-extensions, tqdm, spacy-loggers, spacy-legacy, spacy-alignments, smart-open, regex, nvidia-nvtx-cu11, nvidia-nccl-cu11, nvidia-cusparse-cu11, nvidia-curand-cu11, nvidia-cufft-cu11, nvidia-cuda-runtime-cu11, nvidia-cuda-nvrtc-cu11, nvidia-cuda-cupti-cu11, nvidia-cublas-cu11, murmurhash, langcodes, catalogue, blis, annotated-types, typer, srsly, pydantic-core, preshed, nvidia-cusolver-cu11, nvidia-cudnn-cu11, filelock, pydantic, pathy, huggingface-hub, transformers, confection, thinc, spacy, triton, torch, spacy-transformers\n",
      "  Attempting uninstall: typing-extensions\n",
      "    Found existing installation: typing_extensions 4.4.0\n",
      "    Uninstalling typing_extensions-4.4.0:\n",
      "      Successfully uninstalled typing_extensions-4.4.0\n",
      "Successfully installed annotated-types-0.5.0 blis-0.7.10 catalogue-2.0.9 cmake-3.27.2 confection-0.1.1 cymem-2.0.7 filelock-3.12.3 huggingface-hub-0.16.4 langcodes-3.3.0 lit-16.0.6 murmurhash-1.0.9 nvidia-cublas-cu11-11.10.3.66 nvidia-cuda-cupti-cu11-11.7.101 nvidia-cuda-nvrtc-cu11-11.7.99 nvidia-cuda-runtime-cu11-11.7.99 nvidia-cudnn-cu11-8.5.0.96 nvidia-cufft-cu11-10.9.0.58 nvidia-curand-cu11-10.2.10.91 nvidia-cusolver-cu11-11.4.0.1 nvidia-cusparse-cu11-11.7.4.91 nvidia-nccl-cu11-2.14.3 nvidia-nvtx-cu11-11.7.91 pathy-0.10.2 preshed-3.0.8 pydantic-2.3.0 pydantic-core-2.6.3 regex-2023.8.8 safetensors-0.3.3 smart-open-6.3.0 spacy-3.6.1 spacy-alignments-0.9.0 spacy-legacy-3.0.12 spacy-loggers-1.0.4 spacy-transformers-1.2.5 srsly-2.4.7 thinc-8.1.12 tokenizers-0.13.3 torch-2.0.1 tqdm-4.66.1 transformers-4.30.2 triton-2.0.0 typer-0.9.0 typing-extensions-4.7.1 wasabi-1.1.2\n",
      "Note: you may need to restart the kernel to use updated packages.\n",
      "Collecting fuzzywuzzy\n",
      "  Using cached fuzzywuzzy-0.18.0-py2.py3-none-any.whl (18 kB)\n",
      "Installing collected packages: fuzzywuzzy\n",
      "Successfully installed fuzzywuzzy-0.18.0\n",
      "Note: you may need to restart the kernel to use updated packages.\n",
      "Collecting python-Levenshtein\n",
      "  Using cached python_Levenshtein-0.21.1-py3-none-any.whl (9.4 kB)\n",
      "Collecting Levenshtein==0.21.1\n",
      "  Using cached Levenshtein-0.21.1-cp310-cp310-manylinux_2_17_x86_64.manylinux2014_x86_64.whl (172 kB)\n",
      "Collecting rapidfuzz<4.0.0,>=2.3.0\n",
      "  Using cached rapidfuzz-3.2.0-cp310-cp310-manylinux_2_17_x86_64.manylinux2014_x86_64.whl (3.1 MB)\n",
      "Installing collected packages: rapidfuzz, Levenshtein, python-Levenshtein\n",
      "Successfully installed Levenshtein-0.21.1 python-Levenshtein-0.21.1 rapidfuzz-3.2.0\n",
      "Note: you may need to restart the kernel to use updated packages.\n"
     ]
    }
   ],
   "source": [
    "%pip install spacy spacy-transformers\n",
    "%pip install fuzzywuzzy\n",
    "%pip install python-Levenshtein"
   ]
  },
  {
   "cell_type": "code",
   "execution_count": 2,
   "metadata": {},
   "outputs": [
    {
     "name": "stdout",
     "output_type": "stream",
     "text": [
      "2023-09-04 07:12:31.456108: I tensorflow/core/platform/cpu_feature_guard.cc:193] This TensorFlow binary is optimized with oneAPI Deep Neural Network Library (oneDNN) to use the following CPU instructions in performance-critical operations:  SSE4.1 SSE4.2 AVX AVX2 FMA\n",
      "To enable them in other operations, rebuild TensorFlow with the appropriate compiler flags.\n",
      "Collecting en-core-web-lg==3.6.0\n",
      "  Downloading https://github.com/explosion/spacy-models/releases/download/en_core_web_lg-3.6.0/en_core_web_lg-3.6.0-py3-none-any.whl (587.7 MB)\n",
      "\u001b[2K     \u001b[90m━━━━━━━━━━━━━━━━━━━━━━━━━━━━━━━━━━━━━━━\u001b[0m \u001b[32m587.7/587.7 MB\u001b[0m \u001b[31m4.4 MB/s\u001b[0m eta \u001b[36m0:00:00\u001b[0m00:01\u001b[0m00:01\u001b[0m\n",
      "\u001b[?25hRequirement already satisfied: spacy<3.7.0,>=3.6.0 in /opt/conda/lib/python3.10/site-packages (from en-core-web-lg==3.6.0) (3.6.1)\n",
      "Requirement already satisfied: pydantic!=1.8,!=1.8.1,<3.0.0,>=1.7.4 in /opt/conda/lib/python3.10/site-packages (from spacy<3.7.0,>=3.6.0->en-core-web-lg==3.6.0) (2.3.0)\n",
      "Requirement already satisfied: packaging>=20.0 in /opt/conda/lib/python3.10/site-packages (from spacy<3.7.0,>=3.6.0->en-core-web-lg==3.6.0) (21.3)\n",
      "Requirement already satisfied: cymem<2.1.0,>=2.0.2 in /opt/conda/lib/python3.10/site-packages (from spacy<3.7.0,>=3.6.0->en-core-web-lg==3.6.0) (2.0.7)\n",
      "Requirement already satisfied: tqdm<5.0.0,>=4.38.0 in /opt/conda/lib/python3.10/site-packages (from spacy<3.7.0,>=3.6.0->en-core-web-lg==3.6.0) (4.66.1)\n",
      "Requirement already satisfied: murmurhash<1.1.0,>=0.28.0 in /opt/conda/lib/python3.10/site-packages (from spacy<3.7.0,>=3.6.0->en-core-web-lg==3.6.0) (1.0.9)\n",
      "Requirement already satisfied: jinja2 in /opt/conda/lib/python3.10/site-packages (from spacy<3.7.0,>=3.6.0->en-core-web-lg==3.6.0) (3.1.2)\n",
      "Requirement already satisfied: numpy>=1.15.0 in /opt/conda/lib/python3.10/site-packages (from spacy<3.7.0,>=3.6.0->en-core-web-lg==3.6.0) (1.23.5)\n",
      "Requirement already satisfied: pathy>=0.10.0 in /opt/conda/lib/python3.10/site-packages (from spacy<3.7.0,>=3.6.0->en-core-web-lg==3.6.0) (0.10.2)\n",
      "Requirement already satisfied: catalogue<2.1.0,>=2.0.6 in /opt/conda/lib/python3.10/site-packages (from spacy<3.7.0,>=3.6.0->en-core-web-lg==3.6.0) (2.0.9)\n",
      "Requirement already satisfied: typer<0.10.0,>=0.3.0 in /opt/conda/lib/python3.10/site-packages (from spacy<3.7.0,>=3.6.0->en-core-web-lg==3.6.0) (0.9.0)\n",
      "Requirement already satisfied: srsly<3.0.0,>=2.4.3 in /opt/conda/lib/python3.10/site-packages (from spacy<3.7.0,>=3.6.0->en-core-web-lg==3.6.0) (2.4.7)\n",
      "Requirement already satisfied: thinc<8.2.0,>=8.1.8 in /opt/conda/lib/python3.10/site-packages (from spacy<3.7.0,>=3.6.0->en-core-web-lg==3.6.0) (8.1.12)\n",
      "Requirement already satisfied: wasabi<1.2.0,>=0.9.1 in /opt/conda/lib/python3.10/site-packages (from spacy<3.7.0,>=3.6.0->en-core-web-lg==3.6.0) (1.1.2)\n",
      "Requirement already satisfied: spacy-loggers<2.0.0,>=1.0.0 in /opt/conda/lib/python3.10/site-packages (from spacy<3.7.0,>=3.6.0->en-core-web-lg==3.6.0) (1.0.4)\n",
      "Requirement already satisfied: spacy-legacy<3.1.0,>=3.0.11 in /opt/conda/lib/python3.10/site-packages (from spacy<3.7.0,>=3.6.0->en-core-web-lg==3.6.0) (3.0.12)\n",
      "Requirement already satisfied: setuptools in /opt/conda/lib/python3.10/site-packages (from spacy<3.7.0,>=3.6.0->en-core-web-lg==3.6.0) (65.5.1)\n",
      "Requirement already satisfied: requests<3.0.0,>=2.13.0 in /opt/conda/lib/python3.10/site-packages (from spacy<3.7.0,>=3.6.0->en-core-web-lg==3.6.0) (2.28.1)\n",
      "Requirement already satisfied: langcodes<4.0.0,>=3.2.0 in /opt/conda/lib/python3.10/site-packages (from spacy<3.7.0,>=3.6.0->en-core-web-lg==3.6.0) (3.3.0)\n",
      "Requirement already satisfied: smart-open<7.0.0,>=5.2.1 in /opt/conda/lib/python3.10/site-packages (from spacy<3.7.0,>=3.6.0->en-core-web-lg==3.6.0) (6.3.0)\n",
      "Requirement already satisfied: preshed<3.1.0,>=3.0.2 in /opt/conda/lib/python3.10/site-packages (from spacy<3.7.0,>=3.6.0->en-core-web-lg==3.6.0) (3.0.8)\n",
      "Requirement already satisfied: pyparsing!=3.0.5,>=2.0.2 in /opt/conda/lib/python3.10/site-packages (from packaging>=20.0->spacy<3.7.0,>=3.6.0->en-core-web-lg==3.6.0) (3.0.9)\n",
      "Requirement already satisfied: pydantic-core==2.6.3 in /opt/conda/lib/python3.10/site-packages (from pydantic!=1.8,!=1.8.1,<3.0.0,>=1.7.4->spacy<3.7.0,>=3.6.0->en-core-web-lg==3.6.0) (2.6.3)\n",
      "Requirement already satisfied: annotated-types>=0.4.0 in /opt/conda/lib/python3.10/site-packages (from pydantic!=1.8,!=1.8.1,<3.0.0,>=1.7.4->spacy<3.7.0,>=3.6.0->en-core-web-lg==3.6.0) (0.5.0)\n",
      "Requirement already satisfied: typing-extensions>=4.6.1 in /opt/conda/lib/python3.10/site-packages (from pydantic!=1.8,!=1.8.1,<3.0.0,>=1.7.4->spacy<3.7.0,>=3.6.0->en-core-web-lg==3.6.0) (4.7.1)\n",
      "Requirement already satisfied: certifi>=2017.4.17 in /opt/conda/lib/python3.10/site-packages (from requests<3.0.0,>=2.13.0->spacy<3.7.0,>=3.6.0->en-core-web-lg==3.6.0) (2022.9.24)\n",
      "Requirement already satisfied: urllib3<1.27,>=1.21.1 in /opt/conda/lib/python3.10/site-packages (from requests<3.0.0,>=2.13.0->spacy<3.7.0,>=3.6.0->en-core-web-lg==3.6.0) (1.26.13)\n",
      "Requirement already satisfied: idna<4,>=2.5 in /opt/conda/lib/python3.10/site-packages (from requests<3.0.0,>=2.13.0->spacy<3.7.0,>=3.6.0->en-core-web-lg==3.6.0) (3.4)\n",
      "Requirement already satisfied: charset-normalizer<3,>=2 in /opt/conda/lib/python3.10/site-packages (from requests<3.0.0,>=2.13.0->spacy<3.7.0,>=3.6.0->en-core-web-lg==3.6.0) (2.1.1)\n",
      "Requirement already satisfied: confection<1.0.0,>=0.0.1 in /opt/conda/lib/python3.10/site-packages (from thinc<8.2.0,>=8.1.8->spacy<3.7.0,>=3.6.0->en-core-web-lg==3.6.0) (0.1.1)\n",
      "Requirement already satisfied: blis<0.8.0,>=0.7.8 in /opt/conda/lib/python3.10/site-packages (from thinc<8.2.0,>=8.1.8->spacy<3.7.0,>=3.6.0->en-core-web-lg==3.6.0) (0.7.10)\n",
      "Requirement already satisfied: click<9.0.0,>=7.1.1 in /opt/conda/lib/python3.10/site-packages (from typer<0.10.0,>=0.3.0->spacy<3.7.0,>=3.6.0->en-core-web-lg==3.6.0) (8.1.3)\n",
      "Requirement already satisfied: MarkupSafe>=2.0 in /opt/conda/lib/python3.10/site-packages (from jinja2->spacy<3.7.0,>=3.6.0->en-core-web-lg==3.6.0) (2.1.1)\n",
      "Installing collected packages: en-core-web-lg\n",
      "Successfully installed en-core-web-lg-3.6.0\n",
      "\u001b[38;5;2m✔ Download and installation successful\u001b[0m\n",
      "You can now load the package via spacy.load('en_core_web_lg')\n"
     ]
    }
   ],
   "source": [
    "\n",
    "!python -m spacy download en_core_web_lg"
   ]
  },
  {
   "cell_type": "code",
   "execution_count": 65,
   "metadata": {},
   "outputs": [],
   "source": [
    "import spacy\n",
    "import pandas as pd\n",
    "from tqdm import tqdm\n",
    "import numpy as np\n",
    "import os\n",
    "from fuzzywuzzy import fuzz\n",
    "from collections import defaultdict\n",
    "import re"
   ]
  },
  {
   "cell_type": "code",
   "execution_count": 66,
   "metadata": {},
   "outputs": [],
   "source": [
    "\n",
    "def preprocess_string(string : str) -> str:\n",
    "    string = string.lower().strip()\n",
    "    string = re.sub(' +', ' ', string)\n",
    "    string = string.replace(\"_\", \" \")\n",
    "    string = string.replace(\"-\", \" \")\n",
    "    string = string.replace(\"&\", \" \")\n",
    "    string = string.split(\"(\")[0]\n",
    "\n",
    "    # special cases\n",
    "    if \"computer\" in string:\n",
    "        string = \"pc\"\n",
    "    if \"tv\" in string:\n",
    "        string = \"television\"\n",
    "    if \"macbook\" in string:\n",
    "        string = \"laptop\"\n",
    "    if \"ev\" == string:\n",
    "        string = \"car charger\"\n",
    "    \n",
    "    \n",
    "\n",
    "    return string"
   ]
  },
  {
   "cell_type": "code",
   "execution_count": 79,
   "metadata": {},
   "outputs": [
    {
     "name": "stderr",
     "output_type": "stream",
     "text": [
      "  8%|▊         | 1/13 [00:00<00:02,  5.95it/s]"
     ]
    },
    {
     "name": "stdout",
     "output_type": "stream",
     "text": [
      "REDD.pkl\n",
      "ECO.pkl\n"
     ]
    },
    {
     "name": "stderr",
     "output_type": "stream",
     "text": [
      " 15%|█▌        | 2/13 [00:03<00:22,  2.05s/it]"
     ]
    },
    {
     "name": "stdout",
     "output_type": "stream",
     "text": [
      "REFIT.pkl\n"
     ]
    },
    {
     "name": "stderr",
     "output_type": "stream",
     "text": [
      " 23%|██▎       | 3/13 [00:06<00:23,  2.35s/it]"
     ]
    },
    {
     "name": "stdout",
     "output_type": "stream",
     "text": [
      "UK-DALE.pkl\n"
     ]
    },
    {
     "name": "stderr",
     "output_type": "stream",
     "text": [
      " 31%|███       | 4/13 [00:08<00:22,  2.46s/it]"
     ]
    },
    {
     "name": "stdout",
     "output_type": "stream",
     "text": [
      "SUST2.pkl\n"
     ]
    },
    {
     "name": "stderr",
     "output_type": "stream",
     "text": [
      " 38%|███▊      | 5/13 [00:09<00:13,  1.71s/it]"
     ]
    },
    {
     "name": "stdout",
     "output_type": "stream",
     "text": [
      "ENERTALK.pkl\n"
     ]
    },
    {
     "name": "stderr",
     "output_type": "stream",
     "text": [
      " 46%|████▌     | 6/13 [00:11<00:14,  2.00s/it]"
     ]
    },
    {
     "name": "stdout",
     "output_type": "stream",
     "text": [
      "DEKN.pkl\n"
     ]
    },
    {
     "name": "stderr",
     "output_type": "stream",
     "text": [
      " 54%|█████▍    | 7/13 [00:12<00:08,  1.44s/it]"
     ]
    },
    {
     "name": "stdout",
     "output_type": "stream",
     "text": [
      "DEDDIAG.pkl\n"
     ]
    },
    {
     "name": "stderr",
     "output_type": "stream",
     "text": [
      " 62%|██████▏   | 8/13 [00:13<00:06,  1.38s/it]"
     ]
    },
    {
     "name": "stdout",
     "output_type": "stream",
     "text": [
      "HEART.pkl\n"
     ]
    },
    {
     "name": "stderr",
     "output_type": "stream",
     "text": [
      " 77%|███████▋  | 10/13 [00:14<00:02,  1.21it/s]"
     ]
    },
    {
     "name": "stdout",
     "output_type": "stream",
     "text": [
      "IAWE.pkl\n",
      "HES.pkl\n"
     ]
    },
    {
     "name": "stderr",
     "output_type": "stream",
     "text": [
      " 85%|████████▍ | 11/13 [00:14<00:01,  1.52it/s]"
     ]
    },
    {
     "name": "stdout",
     "output_type": "stream",
     "text": [
      "DRED.pkl\n"
     ]
    },
    {
     "name": "stderr",
     "output_type": "stream",
     "text": [
      "100%|██████████| 13/13 [00:14<00:00,  1.14s/it]\n"
     ]
    }
   ],
   "source": [
    "device_list = []\n",
    "path = \"./Energy_graph/data/training_data/\"\n",
    "for file in tqdm(os.listdir(path)):\n",
    "    if not file.endswith(\".pkl\"):\n",
    "        continue\n",
    "    \n",
    "    print(file)\n",
    "    data = pd.read_pickle(path + file)\n",
    "    for house in data:\n",
    "        \n",
    "        for device in data[house]:\n",
    "            device = preprocess_string(device)\n",
    "            if device == \"aggregate\" or \"outlet\" in device or \"sockets\" in device or \"lamp\" in device or \"light\" in device:\n",
    "                continue\n",
    "            test = device\n",
    "            if \"lamp\" in device:\n",
    "                print(\"HERE: \",house, device , test)\n",
    "            if device not in device_list:\n",
    "                device_list.append(device)\n",
    "    "
   ]
  },
  {
   "cell_type": "code",
   "execution_count": 82,
   "metadata": {},
   "outputs": [
    {
     "data": {
      "text/plain": [
       "({'fridge': ['fridge'],\n",
       "  'dish washer': ['dish washer', 'dishwasher'],\n",
       "  'microwave': ['microwave'],\n",
       "  'electric space heater': ['electric space heater',\n",
       "   'electric heater',\n",
       "   'electric heater '],\n",
       "  'electric stove': ['electric stove', 'electric oven'],\n",
       "  'washer dryer': ['washer dryer'],\n",
       "  'waste disposal unit': ['waste disposal unit'],\n",
       "  'ce appliance': ['ce appliance', 'wet appliance'],\n",
       "  'electric furnace': ['electric furnace'],\n",
       "  'smoke alarm': ['smoke alarm'],\n",
       "  'air conditioner': ['air conditioner', 'air conditioning'],\n",
       "  'subpanel': ['subpanel'],\n",
       "  'air handling unit': ['air handling unit'],\n",
       "  'pc': ['pc'],\n",
       "  'washing machine': ['washing machine', 'washing machine '],\n",
       "  'dryer': ['dryer'],\n",
       "  'freezer': ['freezer', 'freezer '],\n",
       "  'coffee machine': ['coffee machine', 'coffeemachine'],\n",
       "  'kettle': ['kettle'],\n",
       "  'laptop': ['laptop', 'laptops'],\n",
       "  'router': ['router'],\n",
       "  'air exhaust': ['air exhaust'],\n",
       "  'stove': ['stove'],\n",
       "  'stereo': ['stereo'],\n",
       "  'tablet': ['tablet'],\n",
       "  'television': ['television'],\n",
       "  'fountain': ['fountain'],\n",
       "  'television site': ['television site',\n",
       "   'television site2',\n",
       "   'television site '],\n",
       "  'tumble dryer': ['tumble dryer', 'tumble dryer ', 'tumble dryer 3'],\n",
       "  'toaster': ['toaster'],\n",
       "  'chest freezer': ['chest freezer', 'chest freezer '],\n",
       "  'upright freezer': ['upright freezer'],\n",
       "  'fridge freezer': ['fridge freezer', 'fridge freezer ', 'fridge   freezer'],\n",
       "  'food mixer': ['food mixer'],\n",
       "  'kettle/toaster': ['kettle/toaster'],\n",
       "  'vivarium': ['vivarium'],\n",
       "  'pond pump': ['pond pump'],\n",
       "  'hi fi': ['hi fi'],\n",
       "  'dehumidifier/heater': ['dehumidifier/heater'],\n",
       "  'plug site ': ['plug site '],\n",
       "  'blender': ['blender'],\n",
       "  'food processor': ['food processor'],\n",
       "  'bread maker': ['bread maker', 'breadmaker'],\n",
       "  'oven extractor fan': ['oven extractor fan'],\n",
       "  'combination microwave': ['combination microwave'],\n",
       "  'coffee maker': ['coffee maker'],\n",
       "  'running machine': ['running machine'],\n",
       "  'clothes iron': ['clothes iron'],\n",
       "  'network attached storage': ['network attached storage'],\n",
       "  'active speaker': ['active speaker'],\n",
       "  'audio amplifier': ['audio amplifier'],\n",
       "  'games console': ['games console'],\n",
       "  'hair dryer': ['hair dryer'],\n",
       "  'set top box': ['set top box'],\n",
       "  'vacuum cleaner': ['vacuum cleaner', 'vaccumcleaner'],\n",
       "  'cooker': ['cooker'],\n",
       "  'modem': ['modem'],\n",
       "  'broadband router': ['broadband router'],\n",
       "  'rice cooker': ['rice cooker'],\n",
       "  'external hard disk': ['external hard disk'],\n",
       "  'audio system': ['audio system'],\n",
       "  'fan': ['fan'],\n",
       "  'soldering iron': ['soldering iron'],\n",
       "  'radio': ['radio'],\n",
       "  'usb hub': ['usb hub'],\n",
       "  'active subwoofer': ['active subwoofer'],\n",
       "  'printer': ['printer'],\n",
       "  'htpc': ['htpc'],\n",
       "  'oven': ['oven'],\n",
       "  'baby monitor': ['baby monitor'],\n",
       "  'mobile phone charger': ['mobile phone charger'],\n",
       "  'bouncy castle pump': ['bouncy castle pump'],\n",
       "  'solar thermal pumping station': ['solar thermal pumping station'],\n",
       "  'toasted sandwich maker': ['toasted sandwich maker'],\n",
       "  'hair straighteners': ['hair straighteners', 'hairdryer straightener'],\n",
       "  'charger': ['charger'],\n",
       "  'boiler': ['boiler'],\n",
       "  'projector': ['projector'],\n",
       "  'handmixer': ['handmixer'],\n",
       "  'stove oven': ['stove oven'],\n",
       "  'kimchi fridge': ['kimchi fridge'],\n",
       "  'water purifier': ['water purifier'],\n",
       "  'circulation pump': ['circulation pump'],\n",
       "  'car charger': ['car charger'],\n",
       "  'heat pump': ['heat pump'],\n",
       "  'refrigerator': ['refrigerator'],\n",
       "  'office desk': ['office desk'],\n",
       "  'iron': ['iron'],\n",
       "  'minioven': ['minioven'],\n",
       "  'monitor': ['monitor', 'motor'],\n",
       "  'watercooker': ['watercooker'],\n",
       "  'heater': ['heater'],\n",
       "  'gaming pc': ['gaming pc'],\n",
       "  'treadmill': ['treadmill'],\n",
       "  'air exchanger': ['air exchanger'],\n",
       "  'heat bedroom #1': ['heat bedroom #1', 'heat bedroom #2', 'heat bedroom #3'],\n",
       "  'heat kitchen': ['heat kitchen'],\n",
       "  'heat living room': ['heat living room', 'heat dining room'],\n",
       "  'water heater': ['water heater'],\n",
       "  'heat basement': ['heat basement'],\n",
       "  'heat garage': ['heat garage'],\n",
       "  'whirlpool bath': ['whirlpool bath'],\n",
       "  'towel dryer': ['towel dryer'],\n",
       "  'electric heating element': ['electric heating element']},\n",
       " 104)"
      ]
     },
     "execution_count": 82,
     "metadata": {},
     "output_type": "execute_result"
    }
   ],
   "source": [
    "\n",
    "labels = device_list\n",
    "grouped_labels = {}\n",
    "threshold = 80 # Set a threshold for similarity\n",
    "\n",
    "for label in labels:\n",
    "    found = False\n",
    "    for key in grouped_labels:\n",
    "        if fuzz.ratio(label.lower(), key.lower()) > threshold:\n",
    "            grouped_labels[key].append(label)\n",
    "            found = True\n",
    "            break\n",
    "    if not found:\n",
    "        grouped_labels[label] = [label]\n",
    "\n",
    "# grouped_labels[\"fridge\"].append(\"refrigerator\")\n",
    "# grouped_labels.pop(\"refrigerator\")\n",
    "grouped_labels, len(grouped_labels)"
   ]
  },
  {
   "cell_type": "code",
   "execution_count": 62,
   "metadata": {},
   "outputs": [],
   "source": [
    "df = pd.read_pickle(\"./Energy_graph/data/training_data/ECO.pkl\")"
   ]
  },
  {
   "cell_type": "code",
   "execution_count": 83,
   "metadata": {},
   "outputs": [
    {
     "data": {
      "text/plain": [
       "{'plug site ': 'plug site ',\n",
       " 'dryer': 'dryer',\n",
       " 'food processor': 'food processor',\n",
       " 'external hard disk': 'external hard disk',\n",
       " 'coffee machine': 'coffeemachine',\n",
       " 'coffeemachine': 'coffeemachine',\n",
       " 'electric stove': 'electric oven',\n",
       " 'electric oven': 'electric oven',\n",
       " 'watercooker': 'watercooker',\n",
       " 'air exhaust': 'air exhaust',\n",
       " 'monitor': 'monitor',\n",
       " 'motor': 'monitor',\n",
       " 'heat living room': 'heat dining room',\n",
       " 'heat dining room': 'heat dining room',\n",
       " 'lights bedroom #1 and #3': 'lights bedroom #1 and #3',\n",
       " 'washing machine': 'washing machine',\n",
       " 'washing machine ': 'washing machine',\n",
       " 'pc': 'pc',\n",
       " 'vacuum cleaner': 'vaccumcleaner',\n",
       " 'vaccumcleaner': 'vaccumcleaner',\n",
       " 'gaming pc': 'gaming pc',\n",
       " 'dish washer': 'dish washer',\n",
       " 'dishwasher': 'dish washer',\n",
       " 'fan': 'fan',\n",
       " 'refrigerator': 'refrigerator',\n",
       " 'hairdryer straightener': 'hair straighteners',\n",
       " 'hair straighteners': 'hair straighteners',\n",
       " 'tumble dryer ': 'tumble dryer',\n",
       " 'tumble dryer': 'tumble dryer',\n",
       " 'tumble dryer 3': 'tumble dryer',\n",
       " 'smoke alarm': 'smoke alarm',\n",
       " 'washer dryer': 'washer dryer',\n",
       " 'boiler': 'boiler',\n",
       " 'air exchanger': 'air exchanger',\n",
       " 'lamp ': 'lamp ',\n",
       " 'lamp': 'lamp ',\n",
       " 'bouncy castle pump': 'bouncy castle pump',\n",
       " 'vivarium': 'vivarium',\n",
       " 'cooker': 'cooker',\n",
       " 'office desk': 'office desk',\n",
       " 'laptop': 'laptops',\n",
       " 'laptops': 'laptops',\n",
       " 'freezer ': 'freezer',\n",
       " 'freezer': 'freezer',\n",
       " 'circulation pump': 'circulation pump',\n",
       " 'fridge': 'refrigerator',\n",
       " 'air conditioner': 'air conditioner',\n",
       " 'air conditioning': 'air conditioner',\n",
       " 'set top box': 'set top box',\n",
       " 'baby monitor': 'baby monitor',\n",
       " 'stove oven': 'stove oven',\n",
       " 'iron': 'iron',\n",
       " 'stove': 'stove',\n",
       " 'combination microwave': 'combination microwave',\n",
       " 'speaker': 'speaker',\n",
       " 'heater': 'heater',\n",
       " 'hair dryer': 'hair dryer',\n",
       " 'network attached storage': 'network attached storage',\n",
       " 'heat bedroom #3': 'heat bedroom #3',\n",
       " 'heat bedroom #1': 'heat bedroom #3',\n",
       " 'heat bedroom #2': 'heat bedroom #3',\n",
       " 'electric heater ': 'electric heater ',\n",
       " 'electric heater': 'electric heater ',\n",
       " 'electric space heater': 'electric heater ',\n",
       " 'solar thermal pumping station': 'solar thermal pumping station',\n",
       " 'mobile phone charger': 'mobile phone charger',\n",
       " 'whirlpool bath': 'whirlpool bath',\n",
       " 'toaster': 'toaster',\n",
       " 'dehumidifier/heater': 'dehumidifier/heater',\n",
       " 'air handling unit': 'air handling unit',\n",
       " 'chest freezer': 'chest freezer ',\n",
       " 'chest freezer ': 'chest freezer ',\n",
       " 'audio amplifier': 'audio amplifier',\n",
       " 'kettle': 'kettle',\n",
       " 'minioven': 'minioven',\n",
       " 'printer': 'printer',\n",
       " 'audio system': 'audio system',\n",
       " 'broadband router': 'broadband router',\n",
       " 'coffee maker': 'coffee maker',\n",
       " 'heat garage': 'heat garage',\n",
       " 'tablet': 'tablet',\n",
       " 'games console': 'games console',\n",
       " 'htpc': 'htpc',\n",
       " 'handmixer': 'handmixer',\n",
       " 'projector': 'projector',\n",
       " 'ce appliance': 'wet appliance',\n",
       " 'wet appliance': 'wet appliance',\n",
       " 'food mixer': 'food mixer',\n",
       " 'microwave': 'microwave',\n",
       " 'blender': 'blender',\n",
       " 'fridge freezer': 'fridge freezer ',\n",
       " 'fridge freezer ': 'fridge freezer ',\n",
       " 'subpanel': 'subpanel',\n",
       " 'electric furnace': 'electric furnace',\n",
       " 'kimchi fridge': 'kimchi fridge',\n",
       " 'heat kitchen': 'heat kitchen',\n",
       " 'running machine': 'running machine',\n",
       " 'waste disposal unit': 'waste disposal unit',\n",
       " 'electric heating element': 'electric heating element',\n",
       " 'towel dryer': 'towel dryer',\n",
       " 'upright freezer': 'upright freezer',\n",
       " 'car charger': 'car charger',\n",
       " 'charger': 'charger',\n",
       " 'heat basement': 'heat basement',\n",
       " 'heat pump': 'heat pump',\n",
       " 'treadmill': 'treadmill',\n",
       " 'light': 'light',\n",
       " 'oven': 'oven',\n",
       " 'bread maker': 'bread maker',\n",
       " 'breadmaker': 'bread maker',\n",
       " 'sockets': 'sockets',\n",
       " 'usb hub': 'usb hub',\n",
       " 'hi fi': 'hi fi',\n",
       " 'pond pump': 'pond pump',\n",
       " 'rice cooker': 'rice cooker',\n",
       " 'lights powder room/kitchen': 'lights powder room/kitchen',\n",
       " 'stereo': 'stereo',\n",
       " 'water purifier': 'water purifier',\n",
       " 'television': 'television',\n",
       " 'radio': 'radio',\n",
       " 'water heater': 'water heater',\n",
       " 'oven extractor fan': 'oven extractor fan',\n",
       " 'fountain': 'fountain',\n",
       " 'router': 'router'}"
      ]
     },
     "execution_count": 83,
     "metadata": {},
     "output_type": "execute_result"
    }
   ],
   "source": [
    "pd.read_pickle(\"./Energy_graph/device_mapping.pkl\")"
   ]
  }
 ],
 "metadata": {
  "kernelspec": {
   "display_name": "Python 3 (ipykernel)",
   "language": "python",
   "name": "python3"
  },
  "language_info": {
   "codemirror_mode": {
    "name": "ipython",
    "version": 3
   },
   "file_extension": ".py",
   "mimetype": "text/x-python",
   "name": "python",
   "nbconvert_exporter": "python",
   "pygments_lexer": "ipython3",
   "version": "3.10.8"
  },
  "orig_nbformat": 4
 },
 "nbformat": 4,
 "nbformat_minor": 2
}
