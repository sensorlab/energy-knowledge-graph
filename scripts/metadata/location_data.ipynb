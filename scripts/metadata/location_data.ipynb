{
 "cells": [
  {
   "cell_type": "code",
   "execution_count": 4,
   "metadata": {},
   "outputs": [
    {
     "name": "stdout",
     "output_type": "stream",
     "text": [
      "Requirement already satisfied: rasterio in /opt/conda/lib/python3.10/site-packages (1.3.8)\n",
      "Requirement already satisfied: cligj>=0.5 in /opt/conda/lib/python3.10/site-packages (from rasterio) (0.7.2)\n",
      "Requirement already satisfied: snuggs>=1.4.1 in /opt/conda/lib/python3.10/site-packages (from rasterio) (1.4.7)\n",
      "Requirement already satisfied: setuptools in /opt/conda/lib/python3.10/site-packages (from rasterio) (65.5.1)\n",
      "Requirement already satisfied: numpy>=1.18 in /opt/conda/lib/python3.10/site-packages (from rasterio) (1.23.5)\n",
      "Requirement already satisfied: click>=4.0 in /opt/conda/lib/python3.10/site-packages (from rasterio) (8.1.3)\n",
      "Requirement already satisfied: click-plugins in /opt/conda/lib/python3.10/site-packages (from rasterio) (1.1.1)\n",
      "Requirement already satisfied: affine in /opt/conda/lib/python3.10/site-packages (from rasterio) (2.4.0)\n",
      "Requirement already satisfied: certifi in /opt/conda/lib/python3.10/site-packages (from rasterio) (2022.9.24)\n",
      "Requirement already satisfied: attrs in /opt/conda/lib/python3.10/site-packages (from rasterio) (22.1.0)\n",
      "Requirement already satisfied: pyparsing>=2.1.6 in /opt/conda/lib/python3.10/site-packages (from snuggs>=1.4.1->rasterio) (3.0.9)\n",
      "Note: you may need to restart the kernel to use updated packages.\n",
      "Requirement already satisfied: pycountry in /opt/conda/lib/python3.10/site-packages (22.3.5)\n",
      "Requirement already satisfied: setuptools in /opt/conda/lib/python3.10/site-packages (from pycountry) (65.5.1)\n",
      "Note: you may need to restart the kernel to use updated packages.\n",
      "Requirement already satisfied: holidays in /opt/conda/lib/python3.10/site-packages (0.29)\n",
      "Requirement already satisfied: python-dateutil in /opt/conda/lib/python3.10/site-packages (from holidays) (2.8.2)\n",
      "Requirement already satisfied: six>=1.5 in /opt/conda/lib/python3.10/site-packages (from python-dateutil->holidays) (1.16.0)\n",
      "Note: you may need to restart the kernel to use updated packages.\n",
      "Requirement already satisfied: pycountry_convert in /opt/conda/lib/python3.10/site-packages (0.7.2)\n",
      "Requirement already satisfied: pytest>=3.4.0 in /opt/conda/lib/python3.10/site-packages (from pycountry_convert) (7.4.0)\n",
      "Requirement already satisfied: pytest-cov>=2.5.1 in /opt/conda/lib/python3.10/site-packages (from pycountry_convert) (4.1.0)\n",
      "Requirement already satisfied: pytest-mock>=1.6.3 in /opt/conda/lib/python3.10/site-packages (from pycountry_convert) (3.11.1)\n",
      "Requirement already satisfied: repoze.lru>=0.7 in /opt/conda/lib/python3.10/site-packages (from pycountry_convert) (0.7)\n",
      "Requirement already satisfied: pycountry>=16.11.27.1 in /opt/conda/lib/python3.10/site-packages (from pycountry_convert) (22.3.5)\n",
      "Requirement already satisfied: wheel>=0.30.0 in /opt/conda/lib/python3.10/site-packages (from pycountry_convert) (0.38.4)\n",
      "Requirement already satisfied: pprintpp>=0.3.0 in /opt/conda/lib/python3.10/site-packages (from pycountry_convert) (0.4.0)\n",
      "Requirement already satisfied: setuptools in /opt/conda/lib/python3.10/site-packages (from pycountry>=16.11.27.1->pycountry_convert) (65.5.1)\n",
      "Requirement already satisfied: pluggy<2.0,>=0.12 in /opt/conda/lib/python3.10/site-packages (from pytest>=3.4.0->pycountry_convert) (1.2.0)\n",
      "Requirement already satisfied: exceptiongroup>=1.0.0rc8 in /opt/conda/lib/python3.10/site-packages (from pytest>=3.4.0->pycountry_convert) (1.1.2)\n",
      "Requirement already satisfied: packaging in /opt/conda/lib/python3.10/site-packages (from pytest>=3.4.0->pycountry_convert) (21.3)\n",
      "Requirement already satisfied: tomli>=1.0.0 in /opt/conda/lib/python3.10/site-packages (from pytest>=3.4.0->pycountry_convert) (2.0.1)\n",
      "Requirement already satisfied: iniconfig in /opt/conda/lib/python3.10/site-packages (from pytest>=3.4.0->pycountry_convert) (2.0.0)\n",
      "Requirement already satisfied: coverage[toml]>=5.2.1 in /opt/conda/lib/python3.10/site-packages (from pytest-cov>=2.5.1->pycountry_convert) (7.2.7)\n",
      "Requirement already satisfied: pyparsing!=3.0.5,>=2.0.2 in /opt/conda/lib/python3.10/site-packages (from packaging->pytest>=3.4.0->pycountry_convert) (3.0.9)\n",
      "Note: you may need to restart the kernel to use updated packages.\n",
      "Collecting timezonefinder\n",
      "  Downloading timezonefinder-6.2.0.tar.gz (46.9 MB)\n",
      "\u001b[2K     \u001b[90m━━━━━━━━━━━━━━━━━━━━━━━━━━━━━━━━━━━━━━━━\u001b[0m \u001b[32m46.9/46.9 MB\u001b[0m \u001b[31m35.3 MB/s\u001b[0m eta \u001b[36m0:00:00\u001b[0m00:01\u001b[0m00:01\u001b[0m\n",
      "\u001b[?25h  Installing build dependencies ... \u001b[?25ldone\n",
      "\u001b[?25h  Getting requirements to build wheel ... \u001b[?25ldone\n",
      "\u001b[?25h  Preparing metadata (pyproject.toml) ... \u001b[?25ldone\n",
      "\u001b[?25hRequirement already satisfied: setuptools>=65.5 in /opt/conda/lib/python3.10/site-packages (from timezonefinder) (65.5.1)\n",
      "Collecting h3<4,>=3.7.6\n",
      "  Downloading h3-3.7.6-cp310-cp310-manylinux_2_17_x86_64.manylinux2014_x86_64.whl (1.1 MB)\n",
      "\u001b[2K     \u001b[90m━━━━━━━━━━━━━━━━━━━━━━━━━━━━━━━━━━━━━━━━\u001b[0m \u001b[32m1.1/1.1 MB\u001b[0m \u001b[31m56.4 MB/s\u001b[0m eta \u001b[36m0:00:00\u001b[0m\n",
      "\u001b[?25hRequirement already satisfied: numpy<2,>=1.18 in /opt/conda/lib/python3.10/site-packages (from timezonefinder) (1.23.5)\n",
      "Requirement already satisfied: cffi<2,>=1.15.1 in /opt/conda/lib/python3.10/site-packages (from timezonefinder) (1.15.1)\n",
      "Requirement already satisfied: pycparser in /opt/conda/lib/python3.10/site-packages (from cffi<2,>=1.15.1->timezonefinder) (2.21)\n",
      "Building wheels for collected packages: timezonefinder\n",
      "  Building wheel for timezonefinder (pyproject.toml) ... \u001b[?25ldone\n",
      "\u001b[?25h  Created wheel for timezonefinder: filename=timezonefinder-6.2.0-cp310-cp310-manylinux_2_35_x86_64.whl size=46894970 sha256=2c02a2532cdaf31d70fb4acf095d54ce908b7ef72639ec67eab18f6869529be3\n",
      "  Stored in directory: /home/jovyan/shared/anaconda/pip/wheels/27/df/c8/0e0c1bf5602ba93be355154b621ae5ac8c3404a729ffda4f36\n",
      "Successfully built timezonefinder\n",
      "Installing collected packages: h3, timezonefinder\n",
      "Successfully installed h3-3.7.6 timezonefinder-6.2.0\n",
      "Note: you may need to restart the kernel to use updated packages.\n"
     ]
    }
   ],
   "source": [
    "%pip install rasterio\n",
    "%pip install pycountry\n",
    "%pip install --upgrade holidays\n",
    "%pip install pycountry_convert\n",
    "%pip install timezonefinder"
   ]
  },
  {
   "cell_type": "code",
   "execution_count": 5,
   "metadata": {},
   "outputs": [],
   "source": [
    "import pandas as pd \n",
    "import os\n",
    "import requests\n",
    "import matplotlib.pyplot as plt \n",
    "import rasterio\n",
    "from datetime import date\n",
    "import pycountry\n",
    "import holidays\n",
    "from rasterio.warp import transform\n",
    "import pycountry_convert as pc\n",
    "from timezonefinder import TimezoneFinder"
   ]
  },
  {
   "cell_type": "code",
   "execution_count": 3,
   "metadata": {},
   "outputs": [
    {
     "data": {
      "text/plain": [
       "{'place_id': 300075813,\n",
       " 'licence': 'Data © OpenStreetMap contributors, ODbL 1.0. https://osm.org/copyright',\n",
       " 'osm_type': 'way',\n",
       " 'osm_id': 1064266207,\n",
       " 'lat': '49.078078',\n",
       " 'lon': '-122.3508038',\n",
       " 'display_name': 'Abbotsford, Fraser Valley Regional District, British Columbia, V4X 2M8, Canada',\n",
       " 'address': {'city': 'Abbotsford',\n",
       "  'county': 'Fraser Valley Regional District',\n",
       "  'state': 'British Columbia',\n",
       "  'ISO3166-2-lvl4': 'CA-BC',\n",
       "  'postcode': 'V4X 2M8',\n",
       "  'country': 'Canada',\n",
       "  'country_code': 'ca'},\n",
       " 'boundingbox': ['49.0745666', '49.078078', '-122.3512118', '-122.3496933']}"
      ]
     },
     "execution_count": 3,
     "metadata": {},
     "output_type": "execute_result"
    }
   ],
   "source": [
    "lat = 49.083333\n",
    "lon = -122.350\n",
    "def get_location_data(lat, lon):\n",
    "    url = f'https://nominatim.openstreetmap.org/reverse?format=json&lat={lat}&lon={lon}&accept-language=en'\n",
    "    try:\n",
    "        res = requests.get(url)\n",
    "        # Raise an exception if the response status is not 200 (HTTP_OK)\n",
    "        res.raise_for_status()\n",
    "    except requests.exceptions.HTTPError as http_err:\n",
    "        print(f'HTTP error occurred: {http_err}')\n",
    "        return None\n",
    "    except requests.exceptions.RequestException as err:\n",
    "        print(f'Error occurred: {err}')\n",
    "        return None\n",
    "\n",
    "    # No error was raised, so we can return the JSON data\n",
    "    return res.json()\n",
    "\n",
    "data= get_location_data(lat, lon)\n",
    "data"
   ]
  },
  {
   "cell_type": "code",
   "execution_count": 9,
   "metadata": {},
   "outputs": [],
   "source": [
    "tf = TimezoneFinder()\n"
   ]
  },
  {
   "cell_type": "code",
   "execution_count": 10,
   "metadata": {},
   "outputs": [
    {
     "ename": "TypeError",
     "evalue": "TimezoneFinder.timezone_at() got an unexpected keyword argument 'lon'",
     "output_type": "error",
     "traceback": [
      "\u001b[0;31m---------------------------------------------------------------------------\u001b[0m",
      "\u001b[0;31mTypeError\u001b[0m                                 Traceback (most recent call last)",
      "Cell \u001b[0;32mIn[10], line 1\u001b[0m\n\u001b[0;32m----> 1\u001b[0m tz \u001b[39m=\u001b[39m tf\u001b[39m.\u001b[39;49mtimezone_at(lng\u001b[39m=\u001b[39;49m\u001b[39m49.078078\u001b[39;49m, lon\u001b[39m=\u001b[39;49m\u001b[39m-\u001b[39;49m\u001b[39m122.3508038\u001b[39;49m)\n\u001b[1;32m      2\u001b[0m tz\n",
      "\u001b[0;31mTypeError\u001b[0m: TimezoneFinder.timezone_at() got an unexpected keyword argument 'lon'"
     ]
    }
   ],
   "source": [
    "\n",
    "tz = tf.timezone_at(lng=-122.3508038, lat=49.078078)\n",
    "tz"
   ]
  },
  {
   "cell_type": "code",
   "execution_count": 22,
   "metadata": {},
   "outputs": [
    {
     "data": {
      "text/plain": [
       "'Switzerland'"
      ]
     },
     "execution_count": 22,
     "metadata": {},
     "output_type": "execute_result"
    }
   ],
   "source": [
    "data[\"country\"]"
   ]
  },
  {
   "cell_type": "markdown",
   "metadata": {},
   "source": [
    "# GDP PPP in US dollars(2017)\n",
    "https://data.worldbank.org/indicator/NY.GDP.PCAP.PP.KD\n"
   ]
  },
  {
   "cell_type": "code",
   "execution_count": 26,
   "metadata": {},
   "outputs": [],
   "source": [
    "gpd_PPP =  pd.read_csv(\"./Energy_graph/data/metadata/Wages/gdp-per-capita-worldbank.csv\")\n",
    "df = gpd_PPP[gpd_PPP[\"Year\"] == 2020].drop(columns=[\"Year\", \"Code\"])\n",
    "\n",
    "df.reset_index(inplace=True, drop=True)\n",
    "df.set_index(\"Entity\", inplace=True)"
   ]
  },
  {
   "cell_type": "code",
   "execution_count": 27,
   "metadata": {},
   "outputs": [
    {
     "data": {
      "text/html": [
       "<div>\n",
       "<style scoped>\n",
       "    .dataframe tbody tr th:only-of-type {\n",
       "        vertical-align: middle;\n",
       "    }\n",
       "\n",
       "    .dataframe tbody tr th {\n",
       "        vertical-align: top;\n",
       "    }\n",
       "\n",
       "    .dataframe thead th {\n",
       "        text-align: right;\n",
       "    }\n",
       "</style>\n",
       "<table border=\"1\" class=\"dataframe\">\n",
       "  <thead>\n",
       "    <tr style=\"text-align: right;\">\n",
       "      <th></th>\n",
       "      <th>Entity</th>\n",
       "      <th>Code</th>\n",
       "      <th>Year</th>\n",
       "      <th>GDP per capita, PPP (constant 2017 international $)</th>\n",
       "    </tr>\n",
       "  </thead>\n",
       "  <tbody>\n",
       "    <tr>\n",
       "      <th>0</th>\n",
       "      <td>Afghanistan</td>\n",
       "      <td>AFG</td>\n",
       "      <td>2002</td>\n",
       "      <td>1280.4631</td>\n",
       "    </tr>\n",
       "    <tr>\n",
       "      <th>1</th>\n",
       "      <td>Afghanistan</td>\n",
       "      <td>AFG</td>\n",
       "      <td>2003</td>\n",
       "      <td>1292.3335</td>\n",
       "    </tr>\n",
       "    <tr>\n",
       "      <th>2</th>\n",
       "      <td>Afghanistan</td>\n",
       "      <td>AFG</td>\n",
       "      <td>2004</td>\n",
       "      <td>1260.0605</td>\n",
       "    </tr>\n",
       "    <tr>\n",
       "      <th>3</th>\n",
       "      <td>Afghanistan</td>\n",
       "      <td>AFG</td>\n",
       "      <td>2005</td>\n",
       "      <td>1352.3207</td>\n",
       "    </tr>\n",
       "    <tr>\n",
       "      <th>4</th>\n",
       "      <td>Afghanistan</td>\n",
       "      <td>AFG</td>\n",
       "      <td>2006</td>\n",
       "      <td>1366.9932</td>\n",
       "    </tr>\n",
       "    <tr>\n",
       "      <th>...</th>\n",
       "      <td>...</td>\n",
       "      <td>...</td>\n",
       "      <td>...</td>\n",
       "      <td>...</td>\n",
       "    </tr>\n",
       "    <tr>\n",
       "      <th>6341</th>\n",
       "      <td>Zimbabwe</td>\n",
       "      <td>ZWE</td>\n",
       "      <td>2017</td>\n",
       "      <td>2331.7808</td>\n",
       "    </tr>\n",
       "    <tr>\n",
       "      <th>6342</th>\n",
       "      <td>Zimbabwe</td>\n",
       "      <td>ZWE</td>\n",
       "      <td>2018</td>\n",
       "      <td>2399.6216</td>\n",
       "    </tr>\n",
       "    <tr>\n",
       "      <th>6343</th>\n",
       "      <td>Zimbabwe</td>\n",
       "      <td>ZWE</td>\n",
       "      <td>2019</td>\n",
       "      <td>2203.3967</td>\n",
       "    </tr>\n",
       "    <tr>\n",
       "      <th>6344</th>\n",
       "      <td>Zimbabwe</td>\n",
       "      <td>ZWE</td>\n",
       "      <td>2020</td>\n",
       "      <td>1990.3195</td>\n",
       "    </tr>\n",
       "    <tr>\n",
       "      <th>6345</th>\n",
       "      <td>Zimbabwe</td>\n",
       "      <td>ZWE</td>\n",
       "      <td>2021</td>\n",
       "      <td>2115.1445</td>\n",
       "    </tr>\n",
       "  </tbody>\n",
       "</table>\n",
       "<p>6346 rows × 4 columns</p>\n",
       "</div>"
      ],
      "text/plain": [
       "           Entity Code  Year  \\\n",
       "0     Afghanistan  AFG  2002   \n",
       "1     Afghanistan  AFG  2003   \n",
       "2     Afghanistan  AFG  2004   \n",
       "3     Afghanistan  AFG  2005   \n",
       "4     Afghanistan  AFG  2006   \n",
       "...           ...  ...   ...   \n",
       "6341     Zimbabwe  ZWE  2017   \n",
       "6342     Zimbabwe  ZWE  2018   \n",
       "6343     Zimbabwe  ZWE  2019   \n",
       "6344     Zimbabwe  ZWE  2020   \n",
       "6345     Zimbabwe  ZWE  2021   \n",
       "\n",
       "      GDP per capita, PPP (constant 2017 international $)  \n",
       "0                                             1280.4631    \n",
       "1                                             1292.3335    \n",
       "2                                             1260.0605    \n",
       "3                                             1352.3207    \n",
       "4                                             1366.9932    \n",
       "...                                                 ...    \n",
       "6341                                          2331.7808    \n",
       "6342                                          2399.6216    \n",
       "6343                                          2203.3967    \n",
       "6344                                          1990.3195    \n",
       "6345                                          2115.1445    \n",
       "\n",
       "[6346 rows x 4 columns]"
      ]
     },
     "execution_count": 27,
     "metadata": {},
     "output_type": "execute_result"
    }
   ],
   "source": [
    "gpd_PPP"
   ]
  },
  {
   "cell_type": "code",
   "execution_count": 6,
   "metadata": {},
   "outputs": [
    {
     "data": {
      "text/plain": [
       "60167.855"
      ]
     },
     "execution_count": 6,
     "metadata": {},
     "output_type": "execute_result"
    }
   ],
   "source": [
    "DATA_PATH = \"./Energy_graph/data/metadata/\"\n",
    "\n",
    "\n",
    "# get GDP(PPP) for given country and year, the GDP is in 2017 USD \n",
    "def get_country_GDP(country : str, year: int):\n",
    "    gpd_PPP =  pd.read_csv(DATA_PATH +\"Wages/gdp-per-capita-worldbank.csv\")\n",
    "    df = gpd_PPP[gpd_PPP[\"Year\"] == year].drop(columns=[\"Year\", \"Entity\"])\n",
    "\n",
    "    \n",
    "    df.reset_index(inplace=True, drop=True)\n",
    "    df.set_index(\"Code\", inplace=True)\n",
    "\n",
    "    country_code = pycountry.countries.search_fuzzy(country)[0].alpha_3\n",
    "\n",
    "    return df.loc[country_code].values[0]\n",
    "\n",
    "\n",
    "get_country_GDP(\"United States\", 2020)"
   ]
  },
  {
   "cell_type": "code",
   "execution_count": 24,
   "metadata": {},
   "outputs": [
    {
     "data": {
      "text/plain": [
       "46064.254"
      ]
     },
     "execution_count": 24,
     "metadata": {},
     "output_type": "execute_result"
    }
   ],
   "source": [
    "df.loc[res.json()['address']['country']].values[0]"
   ]
  },
  {
   "cell_type": "markdown",
   "metadata": {},
   "source": [
    "# Average wages\n",
    "https://data.oecd.org/earnwage/average-wages.htm"
   ]
  },
  {
   "cell_type": "code",
   "execution_count": 10,
   "metadata": {},
   "outputs": [
    {
     "data": {
      "text/html": [
       "<div>\n",
       "<style scoped>\n",
       "    .dataframe tbody tr th:only-of-type {\n",
       "        vertical-align: middle;\n",
       "    }\n",
       "\n",
       "    .dataframe tbody tr th {\n",
       "        vertical-align: top;\n",
       "    }\n",
       "\n",
       "    .dataframe thead th {\n",
       "        text-align: right;\n",
       "    }\n",
       "</style>\n",
       "<table border=\"1\" class=\"dataframe\">\n",
       "  <thead>\n",
       "    <tr style=\"text-align: right;\">\n",
       "      <th></th>\n",
       "      <th></th>\n",
       "      <th>Value</th>\n",
       "    </tr>\n",
       "    <tr>\n",
       "      <th>LOCATION</th>\n",
       "      <th>TIME</th>\n",
       "      <th></th>\n",
       "    </tr>\n",
       "  </thead>\n",
       "  <tbody>\n",
       "    <tr>\n",
       "      <th rowspan=\"5\" valign=\"top\">AUS</th>\n",
       "      <th>1991</th>\n",
       "      <td>42309.381476</td>\n",
       "    </tr>\n",
       "    <tr>\n",
       "      <th>1992</th>\n",
       "      <td>43173.771334</td>\n",
       "    </tr>\n",
       "    <tr>\n",
       "      <th>1993</th>\n",
       "      <td>43578.241422</td>\n",
       "    </tr>\n",
       "    <tr>\n",
       "      <th>1994</th>\n",
       "      <td>43873.856945</td>\n",
       "    </tr>\n",
       "    <tr>\n",
       "      <th>1995</th>\n",
       "      <td>43715.000000</td>\n",
       "    </tr>\n",
       "    <tr>\n",
       "      <th>...</th>\n",
       "      <th>...</th>\n",
       "      <td>...</td>\n",
       "    </tr>\n",
       "    <tr>\n",
       "      <th rowspan=\"5\" valign=\"top\">CRI</th>\n",
       "      <th>2017</th>\n",
       "      <td>27020.000000</td>\n",
       "    </tr>\n",
       "    <tr>\n",
       "      <th>2018</th>\n",
       "      <td>27709.000000</td>\n",
       "    </tr>\n",
       "    <tr>\n",
       "      <th>2019</th>\n",
       "      <td>28524.000000</td>\n",
       "    </tr>\n",
       "    <tr>\n",
       "      <th>2020</th>\n",
       "      <td>31341.000000</td>\n",
       "    </tr>\n",
       "    <tr>\n",
       "      <th>2021</th>\n",
       "      <td>31117.834263</td>\n",
       "    </tr>\n",
       "  </tbody>\n",
       "</table>\n",
       "<p>1173 rows × 1 columns</p>\n",
       "</div>"
      ],
      "text/plain": [
       "                      Value\n",
       "LOCATION TIME              \n",
       "AUS      1991  42309.381476\n",
       "         1992  43173.771334\n",
       "         1993  43578.241422\n",
       "         1994  43873.856945\n",
       "         1995  43715.000000\n",
       "...                     ...\n",
       "CRI      2017  27020.000000\n",
       "         2018  27709.000000\n",
       "         2019  28524.000000\n",
       "         2020  31341.000000\n",
       "         2021  31117.834263\n",
       "\n",
       "[1173 rows x 1 columns]"
      ]
     },
     "execution_count": 10,
     "metadata": {},
     "output_type": "execute_result"
    }
   ],
   "source": [
    "\n",
    "wages = pd.read_csv(\"./Energy_graph/data/metadata/Wages/average_wages_OECD.csv\")\n",
    "# average wages in 2021 in the OECD countries\n",
    "wages_processed = wages.drop(columns=[ \"INDICATOR\", \"SUBJECT\", \"MEASURE\", \"FREQUENCY\", \"Flag Codes\"]).set_index([\"LOCATION\", \"TIME\"])\n",
    "wages_processed"
   ]
  },
  {
   "cell_type": "markdown",
   "metadata": {},
   "source": [
    "# Population density\n",
    "https://sedac.ciesin.columbia.edu/data/set/gpw-v4-population-density-rev11"
   ]
  },
  {
   "cell_type": "code",
   "execution_count": 20,
   "metadata": {},
   "outputs": [
    {
     "data": {
      "text/plain": [
       "1897.517"
      ]
     },
     "execution_count": 20,
     "metadata": {},
     "output_type": "execute_result"
    }
   ],
   "source": [
    "DATA_PATH = \"./Energy_graph/data/metadata/\"\n",
    "\n",
    "latitude =46.056946\n",
    "longitude = 14.505751\n",
    "\n",
    "\n",
    "def get_population_density(latitude : float, longitude: float) -> float:\n",
    "        \n",
    "    # Open the dataset\n",
    "    with rasterio.open(DATA_PATH+ \"Population/Density_5min/gpw_v4_population_density_rev11_2020_2pt5_min.asc\") as ds:\n",
    "    \n",
    "        # Convert your latitude and longitude to dataset's coordinate system\n",
    "        x, y = transform('EPSG:4326', ds.crs, [longitude], [latitude])\n",
    "\n",
    "        # Fetch the population density value at the given coordinates\n",
    "        row, col = ds.index(x[0], y[0])\n",
    "        population_density = ds.read(1)[row, col]\n",
    "\n",
    "    return population_density\n",
    "\n",
    "get_population_density(latitude, longitude)\n",
    "\n",
    "\n"
   ]
  },
  {
   "cell_type": "code",
   "execution_count": null,
   "metadata": {},
   "outputs": [],
   "source": []
  },
  {
   "cell_type": "markdown",
   "metadata": {},
   "source": [
    "## Elevation and Topography\n",
    "https://open-meteo.com/en/docs/elevation-api"
   ]
  },
  {
   "cell_type": "code",
   "execution_count": 21,
   "metadata": {},
   "outputs": [
    {
     "data": {
      "text/plain": [
       "8395.0"
      ]
     },
     "execution_count": 21,
     "metadata": {},
     "output_type": "execute_result"
    }
   ],
   "source": [
    "lat = 52.52\n",
    "lon = 13.41\n",
    "\n",
    "\n",
    "def get_elevation(lat : float, lon: float) -> float:\n",
    "    # get elevation from open-meteo api\n",
    "    elevation = requests.get(f\"https://api.open-meteo.com/v1/elevation?latitude={lat}&longitude={lon}\")\n",
    "    \n",
    "    return elevation.json()[\"elevation\"][0]\n",
    "\n",
    "get_elevation(27.986065, 86.922623)"
   ]
  },
  {
   "cell_type": "markdown",
   "metadata": {},
   "source": [
    "# Education\n",
    "https://data.oecd.org/eduatt/adult-education-level.htm"
   ]
  },
  {
   "cell_type": "code",
   "execution_count": 22,
   "metadata": {},
   "outputs": [
    {
     "data": {
      "text/html": [
       "<div>\n",
       "<style scoped>\n",
       "    .dataframe tbody tr th:only-of-type {\n",
       "        vertical-align: middle;\n",
       "    }\n",
       "\n",
       "    .dataframe tbody tr th {\n",
       "        vertical-align: top;\n",
       "    }\n",
       "\n",
       "    .dataframe thead th {\n",
       "        text-align: right;\n",
       "    }\n",
       "</style>\n",
       "<table border=\"1\" class=\"dataframe\">\n",
       "  <thead>\n",
       "    <tr style=\"text-align: right;\">\n",
       "      <th></th>\n",
       "      <th>SUBJECT</th>\n",
       "      <th>Value</th>\n",
       "    </tr>\n",
       "    <tr>\n",
       "      <th>LOCATION</th>\n",
       "      <th></th>\n",
       "      <th></th>\n",
       "    </tr>\n",
       "  </thead>\n",
       "  <tbody>\n",
       "    <tr>\n",
       "      <th>AUS</th>\n",
       "      <td>BUPPSRY</td>\n",
       "      <td>31.816732</td>\n",
       "    </tr>\n",
       "    <tr>\n",
       "      <th>AUS</th>\n",
       "      <td>TRY</td>\n",
       "      <td>33.736710</td>\n",
       "    </tr>\n",
       "    <tr>\n",
       "      <th>AUS</th>\n",
       "      <td>UPPSRY</td>\n",
       "      <td>34.446560</td>\n",
       "    </tr>\n",
       "    <tr>\n",
       "      <th>AUT</th>\n",
       "      <td>BUPPSRY</td>\n",
       "      <td>20.062889</td>\n",
       "    </tr>\n",
       "    <tr>\n",
       "      <th>AUT</th>\n",
       "      <td>TRY</td>\n",
       "      <td>25.092672</td>\n",
       "    </tr>\n",
       "    <tr>\n",
       "      <th>...</th>\n",
       "      <td>...</td>\n",
       "      <td>...</td>\n",
       "    </tr>\n",
       "    <tr>\n",
       "      <th>LTU</th>\n",
       "      <td>TRY</td>\n",
       "      <td>28.931429</td>\n",
       "    </tr>\n",
       "    <tr>\n",
       "      <th>LTU</th>\n",
       "      <td>UPPSRY</td>\n",
       "      <td>59.999691</td>\n",
       "    </tr>\n",
       "    <tr>\n",
       "      <th>CRI</th>\n",
       "      <td>BUPPSRY</td>\n",
       "      <td>62.960529</td>\n",
       "    </tr>\n",
       "    <tr>\n",
       "      <th>CRI</th>\n",
       "      <td>TRY</td>\n",
       "      <td>21.768053</td>\n",
       "    </tr>\n",
       "    <tr>\n",
       "      <th>CRI</th>\n",
       "      <td>UPPSRY</td>\n",
       "      <td>15.271419</td>\n",
       "    </tr>\n",
       "  </tbody>\n",
       "</table>\n",
       "<p>113 rows × 2 columns</p>\n",
       "</div>"
      ],
      "text/plain": [
       "          SUBJECT      Value\n",
       "LOCATION                    \n",
       "AUS       BUPPSRY  31.816732\n",
       "AUS           TRY  33.736710\n",
       "AUS        UPPSRY  34.446560\n",
       "AUT       BUPPSRY  20.062889\n",
       "AUT           TRY  25.092672\n",
       "...           ...        ...\n",
       "LTU           TRY  28.931429\n",
       "LTU        UPPSRY  59.999691\n",
       "CRI       BUPPSRY  62.960529\n",
       "CRI           TRY  21.768053\n",
       "CRI        UPPSRY  15.271419\n",
       "\n",
       "[113 rows x 2 columns]"
      ]
     },
     "execution_count": 22,
     "metadata": {},
     "output_type": "execute_result"
    }
   ],
   "source": [
    "path = \"./Energy_graph/data/metadata/Population/Education/adult_education_levels.csv\"\n",
    "\n",
    "df = pd.read_csv(path)\n",
    "df[df[\"TIME\"] == 2007].drop(columns=[\"TIME\", \"Flag Codes\", \"MEASURE\", \"FREQUENCY\", \"INDICATOR\"]).set_index(\"LOCATION\")\n"
   ]
  },
  {
   "cell_type": "code",
   "execution_count": 23,
   "metadata": {},
   "outputs": [
    {
     "data": {
      "text/plain": [
       "(31.816732, 34.44656, 33.73671)"
      ]
     },
     "execution_count": 23,
     "metadata": {},
     "output_type": "execute_result"
    }
   ],
   "source": [
    "\n",
    "def get_country_code(country):\n",
    "    return pycountry.countries.search_fuzzy(country)[0].alpha_3\n",
    "\n",
    "\n",
    "def get_education_level(country: str, year: int) -> float:\n",
    "    df = pd.read_csv(DATA_PATH + \"Population/Education/adult_education_levels.csv\")\n",
    "    if year not in df[\"TIME\"].unique():\n",
    "        raise ValueError(\"Year must be between 2018 and 2021\")\n",
    "    \n",
    "    # drop unnecessary columns and set index to country code\n",
    "    df = df[df[\"TIME\"] == year].drop(columns=[\"TIME\", \"Flag Codes\", \"MEASURE\", \"FREQUENCY\", \"INDICATOR\"]).set_index(\"LOCATION\")\n",
    "\n",
    "    # get ISO-3166 alpha-3 country code from country name\n",
    "    country_code = get_country_code(country)\n",
    "\n",
    "    # ages 25-64\n",
    "    # % of population with below upper secondary education, % of population with upper secondary, % of population with tertiary education\n",
    "    return df.loc[country_code].values[0][1],df.loc[country_code].values[2][1],  df.loc[country_code].values[1][1]\n",
    "\n",
    "get_education_level(\"Australia\", 2007)\n",
    "    "
   ]
  },
  {
   "cell_type": "markdown",
   "metadata": {},
   "source": [
    "# Energy sources\n"
   ]
  },
  {
   "cell_type": "code",
   "execution_count": 13,
   "metadata": {},
   "outputs": [
    {
     "data": {
      "text/html": [
       "<div>\n",
       "<style scoped>\n",
       "    .dataframe tbody tr th:only-of-type {\n",
       "        vertical-align: middle;\n",
       "    }\n",
       "\n",
       "    .dataframe tbody tr th {\n",
       "        vertical-align: top;\n",
       "    }\n",
       "\n",
       "    .dataframe thead th {\n",
       "        text-align: right;\n",
       "    }\n",
       "</style>\n",
       "<table border=\"1\" class=\"dataframe\">\n",
       "  <thead>\n",
       "    <tr style=\"text-align: right;\">\n",
       "      <th></th>\n",
       "      <th>LOCATION</th>\n",
       "      <th>INDICATOR</th>\n",
       "      <th>SUBJECT</th>\n",
       "      <th>MEASURE</th>\n",
       "      <th>FREQUENCY</th>\n",
       "      <th>TIME</th>\n",
       "      <th>Value</th>\n",
       "      <th>Flag Codes</th>\n",
       "    </tr>\n",
       "  </thead>\n",
       "  <tbody>\n",
       "    <tr>\n",
       "      <th>0</th>\n",
       "      <td>AUS</td>\n",
       "      <td>PRYENRGSUPPLY</td>\n",
       "      <td>TOT</td>\n",
       "      <td>MLN_TOE</td>\n",
       "      <td>A</td>\n",
       "      <td>1960</td>\n",
       "      <td>31.483</td>\n",
       "      <td>NaN</td>\n",
       "    </tr>\n",
       "    <tr>\n",
       "      <th>1</th>\n",
       "      <td>AUS</td>\n",
       "      <td>PRYENRGSUPPLY</td>\n",
       "      <td>TOT</td>\n",
       "      <td>MLN_TOE</td>\n",
       "      <td>A</td>\n",
       "      <td>1961</td>\n",
       "      <td>32.664</td>\n",
       "      <td>NaN</td>\n",
       "    </tr>\n",
       "    <tr>\n",
       "      <th>2</th>\n",
       "      <td>AUS</td>\n",
       "      <td>PRYENRGSUPPLY</td>\n",
       "      <td>TOT</td>\n",
       "      <td>MLN_TOE</td>\n",
       "      <td>A</td>\n",
       "      <td>1962</td>\n",
       "      <td>34.085</td>\n",
       "      <td>NaN</td>\n",
       "    </tr>\n",
       "    <tr>\n",
       "      <th>3</th>\n",
       "      <td>AUS</td>\n",
       "      <td>PRYENRGSUPPLY</td>\n",
       "      <td>TOT</td>\n",
       "      <td>MLN_TOE</td>\n",
       "      <td>A</td>\n",
       "      <td>1963</td>\n",
       "      <td>35.961</td>\n",
       "      <td>NaN</td>\n",
       "    </tr>\n",
       "    <tr>\n",
       "      <th>4</th>\n",
       "      <td>AUS</td>\n",
       "      <td>PRYENRGSUPPLY</td>\n",
       "      <td>TOT</td>\n",
       "      <td>MLN_TOE</td>\n",
       "      <td>A</td>\n",
       "      <td>1964</td>\n",
       "      <td>37.404</td>\n",
       "      <td>NaN</td>\n",
       "    </tr>\n",
       "    <tr>\n",
       "      <th>...</th>\n",
       "      <td>...</td>\n",
       "      <td>...</td>\n",
       "      <td>...</td>\n",
       "      <td>...</td>\n",
       "      <td>...</td>\n",
       "      <td>...</td>\n",
       "      <td>...</td>\n",
       "      <td>...</td>\n",
       "    </tr>\n",
       "    <tr>\n",
       "      <th>18471</th>\n",
       "      <td>UGA</td>\n",
       "      <td>PRYENRGSUPPLY</td>\n",
       "      <td>TOT</td>\n",
       "      <td>TOE_1000USD</td>\n",
       "      <td>A</td>\n",
       "      <td>2017</td>\n",
       "      <td>0.175</td>\n",
       "      <td>NaN</td>\n",
       "    </tr>\n",
       "    <tr>\n",
       "      <th>18472</th>\n",
       "      <td>UGA</td>\n",
       "      <td>PRYENRGSUPPLY</td>\n",
       "      <td>TOT</td>\n",
       "      <td>TOE_1000USD</td>\n",
       "      <td>A</td>\n",
       "      <td>2018</td>\n",
       "      <td>0.176</td>\n",
       "      <td>NaN</td>\n",
       "    </tr>\n",
       "    <tr>\n",
       "      <th>18473</th>\n",
       "      <td>UGA</td>\n",
       "      <td>PRYENRGSUPPLY</td>\n",
       "      <td>TOT</td>\n",
       "      <td>TOE_1000USD</td>\n",
       "      <td>A</td>\n",
       "      <td>2019</td>\n",
       "      <td>0.178</td>\n",
       "      <td>NaN</td>\n",
       "    </tr>\n",
       "    <tr>\n",
       "      <th>18474</th>\n",
       "      <td>UGA</td>\n",
       "      <td>PRYENRGSUPPLY</td>\n",
       "      <td>TOT</td>\n",
       "      <td>TOE_1000USD</td>\n",
       "      <td>A</td>\n",
       "      <td>2020</td>\n",
       "      <td>0.172</td>\n",
       "      <td>NaN</td>\n",
       "    </tr>\n",
       "    <tr>\n",
       "      <th>18475</th>\n",
       "      <td>UGA</td>\n",
       "      <td>PRYENRGSUPPLY</td>\n",
       "      <td>TOT</td>\n",
       "      <td>TOE_1000USD</td>\n",
       "      <td>A</td>\n",
       "      <td>2021</td>\n",
       "      <td>NaN</td>\n",
       "      <td>L</td>\n",
       "    </tr>\n",
       "  </tbody>\n",
       "</table>\n",
       "<p>18476 rows × 8 columns</p>\n",
       "</div>"
      ],
      "text/plain": [
       "      LOCATION      INDICATOR SUBJECT      MEASURE FREQUENCY  TIME   Value  \\\n",
       "0          AUS  PRYENRGSUPPLY     TOT      MLN_TOE         A  1960  31.483   \n",
       "1          AUS  PRYENRGSUPPLY     TOT      MLN_TOE         A  1961  32.664   \n",
       "2          AUS  PRYENRGSUPPLY     TOT      MLN_TOE         A  1962  34.085   \n",
       "3          AUS  PRYENRGSUPPLY     TOT      MLN_TOE         A  1963  35.961   \n",
       "4          AUS  PRYENRGSUPPLY     TOT      MLN_TOE         A  1964  37.404   \n",
       "...        ...            ...     ...          ...       ...   ...     ...   \n",
       "18471      UGA  PRYENRGSUPPLY     TOT  TOE_1000USD         A  2017   0.175   \n",
       "18472      UGA  PRYENRGSUPPLY     TOT  TOE_1000USD         A  2018   0.176   \n",
       "18473      UGA  PRYENRGSUPPLY     TOT  TOE_1000USD         A  2019   0.178   \n",
       "18474      UGA  PRYENRGSUPPLY     TOT  TOE_1000USD         A  2020   0.172   \n",
       "18475      UGA  PRYENRGSUPPLY     TOT  TOE_1000USD         A  2021     NaN   \n",
       "\n",
       "      Flag Codes  \n",
       "0            NaN  \n",
       "1            NaN  \n",
       "2            NaN  \n",
       "3            NaN  \n",
       "4            NaN  \n",
       "...          ...  \n",
       "18471        NaN  \n",
       "18472        NaN  \n",
       "18473        NaN  \n",
       "18474        NaN  \n",
       "18475          L  \n",
       "\n",
       "[18476 rows x 8 columns]"
      ]
     },
     "execution_count": 13,
     "metadata": {},
     "output_type": "execute_result"
    }
   ],
   "source": [
    "# https://data.oecd.org/\n",
    "\n",
    "path = \"./Energy_graph/data/metadata/Energy/DP_LIVE_25072023101159292.csv\"\n",
    "df = pd.read_csv(path)\n",
    "df\n",
    "\n",
    "# could potentialy be useful"
   ]
  },
  {
   "cell_type": "markdown",
   "metadata": {},
   "source": [
    "# Walk score US&CANADA only\n"
   ]
  },
  {
   "cell_type": "code",
   "execution_count": null,
   "metadata": {},
   "outputs": [],
   "source": [
    "# https://www.walkscore.com/professional/api.php"
   ]
  },
  {
   "cell_type": "markdown",
   "metadata": {},
   "source": [
    "# Energy prices EEA\n",
    "Gas:\n",
    "https://ec.europa.eu/eurostat/databrowser/view/NRG_PC_202__custom_7003504/default/table?lang=en\n",
    "\n",
    "Electricity:\n",
    "https://ec.europa.eu/eurostat/databrowser/view/NRG_PC_204__custom_7006505/default/table?lang=en"
   ]
  },
  {
   "cell_type": "code",
   "execution_count": 28,
   "metadata": {},
   "outputs": [
    {
     "data": {
      "text/plain": [
       "0.0602"
      ]
     },
     "execution_count": 28,
     "metadata": {},
     "output_type": "execute_result"
    }
   ],
   "source": [
    "\n",
    "def get_semester(date: date):\n",
    "    if date.month < 7:\n",
    "        return str(date.year) + \"-S1\"\n",
    "    else:\n",
    "        return str(date.year) + \"-S2\"\n",
    "    \n",
    "path =\"./Energy_graph/data/metadata/Energy/Gas_prices_EEA.csv\"\n",
    "df = pd.read_csv(path)\n",
    "df = df.drop(columns=[\"DATAFLOW\", \"LAST UPDATE\", \"freq\", \"product\", \"nrg_cons\", \"unit\", \"tax\", \"currency\", \"OBS_FLAG\"])\n",
    "# set index to country code and year\n",
    "df = df.set_index([\"geo\", \"TIME_PERIOD\"])\n",
    "\n",
    "df.loc[\"AT\", \"2021-S2\"].values[0]\n",
    "# df[df[\"nrg_cons\"] != \"GJ20-199\"]"
   ]
  },
  {
   "cell_type": "code",
   "execution_count": 29,
   "metadata": {},
   "outputs": [
    {
     "data": {
      "text/plain": [
       "0.0532"
      ]
     },
     "execution_count": 29,
     "metadata": {},
     "output_type": "execute_result"
    }
   ],
   "source": [
    "from datetime import date\n",
    "# gas prices in PPS in kWh for medium sized households \n",
    "def get_gas_price(country: str, date: date) -> float:\n",
    "    if date.year < 2007 or date.year > 2022:\n",
    "        raise ValueError(\"Year must be between 2007 and 2022\")\n",
    "    \n",
    "    df = pd.read_csv(DATA_PATH + \"Energy/Gas_prices_EEA.csv\")\n",
    "    df= df.drop(columns=[\"DATAFLOW\", \"LAST UPDATE\", \"freq\", \"product\", \"nrg_cons\", \"unit\", \"tax\", \"currency\", \"OBS_FLAG\"])\n",
    "    df = df.set_index([\"geo\", \"TIME_PERIOD\"])\n",
    "\n",
    "    country_code = pycountry.countries.search_fuzzy(country)[0].alpha_2\n",
    "    semester = get_semester(date)\n",
    "\n",
    "    return df.loc[country_code, semester].values[0]\n",
    "    \n",
    "\n",
    "get_gas_price(\"Germany\", date(2019, 7, 1))\n"
   ]
  },
  {
   "cell_type": "code",
   "execution_count": 63,
   "metadata": {},
   "outputs": [
    {
     "data": {
      "text/plain": [
       "0.26426666666666665"
      ]
     },
     "execution_count": 63,
     "metadata": {},
     "output_type": "execute_result"
    }
   ],
   "source": [
    "\n",
    "\n",
    "# electricity prices in PPS per kWh for given country and date(bi-annual data only)\n",
    "def get_electricity_price(country: str, date: date) -> float:\n",
    "    if date.year < 2007 or date.year > 2022:\n",
    "        raise ValueError(\"Year must be between 2007 and 2022\")\n",
    "    \n",
    "    df = pd.read_csv(DATA_PATH + \"Energy/Electricity_prices_EEA.csv\")\n",
    "    df.drop(columns=[\"LAST UPDATE\", \"freq\", \"product\",\"OBS_FLAG\", \"DATAFLOW\", \"currency\", \"tax\", \"unit\"])\n",
    "    # average electricity prices in PPS per kWh for diffrent yearly consumption levels\n",
    "    df_grouped = df.groupby(['geo', 'TIME_PERIOD'])['OBS_VALUE'].mean()\n",
    "\n",
    "    country_code = pycountry.countries.search_fuzzy(country)[0].alpha_2\n",
    "    semester = get_semester(date)\n",
    "    \n",
    "    return df_grouped.loc[country_code, semester]\n",
    "\n",
    "get_electricity_price(\"Germany\", date(2019, 7, 7))"
   ]
  },
  {
   "cell_type": "markdown",
   "metadata": {},
   "source": [
    "# Cooling and heating degree days by country\n",
    "\n",
    "https://ec.europa.eu/eurostat/databrowser/view/NRG_CHDD_A/default/table?lang=en\n",
    "\n",
    "explanation:https://ec.europa.eu/eurostat/cache/metadata/en/nrg_chdd_esms.htm"
   ]
  },
  {
   "cell_type": "code",
   "execution_count": 31,
   "metadata": {},
   "outputs": [
    {
     "data": {
      "text/html": [
       "<div>\n",
       "<style scoped>\n",
       "    .dataframe tbody tr th:only-of-type {\n",
       "        vertical-align: middle;\n",
       "    }\n",
       "\n",
       "    .dataframe tbody tr th {\n",
       "        vertical-align: top;\n",
       "    }\n",
       "\n",
       "    .dataframe thead th {\n",
       "        text-align: right;\n",
       "    }\n",
       "</style>\n",
       "<table border=\"1\" class=\"dataframe\">\n",
       "  <thead>\n",
       "    <tr style=\"text-align: right;\">\n",
       "      <th></th>\n",
       "      <th>indic_nrg</th>\n",
       "      <th>CDD</th>\n",
       "      <th>HDD</th>\n",
       "    </tr>\n",
       "    <tr>\n",
       "      <th>geo</th>\n",
       "      <th>TIME_PERIOD</th>\n",
       "      <th></th>\n",
       "      <th></th>\n",
       "    </tr>\n",
       "  </thead>\n",
       "  <tbody>\n",
       "    <tr>\n",
       "      <th rowspan=\"5\" valign=\"top\">AT</th>\n",
       "      <th>2007</th>\n",
       "      <td>25.74</td>\n",
       "      <td>3363.28</td>\n",
       "    </tr>\n",
       "    <tr>\n",
       "      <th>2008</th>\n",
       "      <td>7.30</td>\n",
       "      <td>3444.43</td>\n",
       "    </tr>\n",
       "    <tr>\n",
       "      <th>2009</th>\n",
       "      <td>9.94</td>\n",
       "      <td>3504.84</td>\n",
       "    </tr>\n",
       "    <tr>\n",
       "      <th>2010</th>\n",
       "      <td>25.27</td>\n",
       "      <td>3905.88</td>\n",
       "    </tr>\n",
       "    <tr>\n",
       "      <th>2011</th>\n",
       "      <td>17.63</td>\n",
       "      <td>3409.28</td>\n",
       "    </tr>\n",
       "    <tr>\n",
       "      <th>...</th>\n",
       "      <th>...</th>\n",
       "      <td>...</td>\n",
       "      <td>...</td>\n",
       "    </tr>\n",
       "    <tr>\n",
       "      <th rowspan=\"5\" valign=\"top\">SK</th>\n",
       "      <th>2018</th>\n",
       "      <td>53.06</td>\n",
       "      <td>2923.83</td>\n",
       "    </tr>\n",
       "    <tr>\n",
       "      <th>2019</th>\n",
       "      <td>65.09</td>\n",
       "      <td>2899.05</td>\n",
       "    </tr>\n",
       "    <tr>\n",
       "      <th>2020</th>\n",
       "      <td>19.95</td>\n",
       "      <td>3046.66</td>\n",
       "    </tr>\n",
       "    <tr>\n",
       "      <th>2021</th>\n",
       "      <td>62.28</td>\n",
       "      <td>3382.63</td>\n",
       "    </tr>\n",
       "    <tr>\n",
       "      <th>2022</th>\n",
       "      <td>67.77</td>\n",
       "      <td>3042.68</td>\n",
       "    </tr>\n",
       "  </tbody>\n",
       "</table>\n",
       "<p>464 rows × 2 columns</p>\n",
       "</div>"
      ],
      "text/plain": [
       "indic_nrg          CDD      HDD\n",
       "geo TIME_PERIOD                \n",
       "AT  2007         25.74  3363.28\n",
       "    2008          7.30  3444.43\n",
       "    2009          9.94  3504.84\n",
       "    2010         25.27  3905.88\n",
       "    2011         17.63  3409.28\n",
       "...                ...      ...\n",
       "SK  2018         53.06  2923.83\n",
       "    2019         65.09  2899.05\n",
       "    2020         19.95  3046.66\n",
       "    2021         62.28  3382.63\n",
       "    2022         67.77  3042.68\n",
       "\n",
       "[464 rows x 2 columns]"
      ]
     },
     "execution_count": 31,
     "metadata": {},
     "output_type": "execute_result"
    }
   ],
   "source": [
    "\n",
    "path = \"./Energy_graph/data/metadata/Energy/Heating_cooling_index.csv\"\n",
    "df = pd.read_csv(path)\n",
    "\n",
    "# drop useless columns\n",
    "df.drop(columns=[\"DATAFLOW\", \"LAST UPDATE\",\"unit\", \"freq\", \"OBS_FLAG\"], inplace=True)\n",
    "\n",
    "\n",
    "# Pivot the DataFrame to reshape it. \n",
    "# The unique values in column 'indic_nrg' become the new columns in the output DataFrame.\n",
    "df_pivot = df.pivot(index=['geo', 'TIME_PERIOD'], columns='indic_nrg', values='OBS_VALUE')\n",
    "df_pivot"
   ]
  },
  {
   "cell_type": "code",
   "execution_count": 32,
   "metadata": {},
   "outputs": [
    {
     "data": {
      "text/plain": [
       "(46.05, 2800.81)"
      ]
     },
     "execution_count": 32,
     "metadata": {},
     "output_type": "execute_result"
    }
   ],
   "source": [
    "\n",
    "def get_cooling_and_heating_degree_days(country : str, year: int) -> float:\n",
    "    df = pd.read_csv(DATA_PATH + \"Energy/Heating_cooling_index.csv\")\n",
    "\n",
    "    # drop useless columns\n",
    "    df.drop(columns=[\"DATAFLOW\", \"LAST UPDATE\",\"unit\", \"freq\", \"OBS_FLAG\"], inplace=True)\n",
    "    df_pivot = df.pivot(index=['geo', 'TIME_PERIOD'], columns='indic_nrg', values='OBS_VALUE')\n",
    "    \n",
    "    country_code = pycountry.countries.search_fuzzy(country)[0].alpha_2\n",
    "    \n",
    "\n",
    "    return df_pivot.loc[country_code, year][\"CDD\"], df_pivot.loc[country_code, year][\"HDD\"]\n",
    "\n",
    "get_cooling_and_heating_degree_days(\"Germany\", 2019)\n"
   ]
  },
  {
   "cell_type": "markdown",
   "metadata": {},
   "source": [
    "# Public holidays\n",
    "https://pypi.org/project/holidays/"
   ]
  },
  {
   "cell_type": "code",
   "execution_count": 12,
   "metadata": {},
   "outputs": [
    {
     "data": {
      "text/plain": [
       "[datetime.date(2023, 1, 1),\n",
       " datetime.date(2023, 4, 7),\n",
       " datetime.date(2023, 4, 10),\n",
       " datetime.date(2023, 5, 1),\n",
       " datetime.date(2023, 5, 18),\n",
       " datetime.date(2023, 5, 29),\n",
       " datetime.date(2023, 10, 3),\n",
       " datetime.date(2023, 12, 25),\n",
       " datetime.date(2023, 12, 26)]"
      ]
     },
     "execution_count": 12,
     "metadata": {},
     "output_type": "execute_result"
    }
   ],
   "source": [
    "\n",
    "\n",
    "\n",
    "from datetime import date\n",
    "\n",
    "import holidays\n",
    "\n",
    "def get_holidays(country, year):\n",
    "    \"\"\"Returns a list of holidays for a given country and year\"\"\"\n",
    "    country = pc.country_name_to_country_alpha2(country)\n",
    "    try:\n",
    "        # Getting the country's holiday calendar\n",
    "        country_holidays = getattr(holidays, country)(years=year)\n",
    "        # Printing all holidays for that year\n",
    "        dates = []\n",
    "        for date, name in sorted(country_holidays.items()):\n",
    "            dates.append(date)\n",
    "\n",
    "        return dates\n",
    "    except AttributeError:\n",
    "        return None\n",
    "\n",
    "# Example usage\n",
    "get_holidays('DE', 2023)\n"
   ]
  },
  {
   "cell_type": "code",
   "execution_count": 10,
   "metadata": {},
   "outputs": [
    {
     "data": {
      "text/plain": [
       "{}"
      ]
     },
     "execution_count": 10,
     "metadata": {},
     "output_type": "execute_result"
    }
   ],
   "source": [
    "dict(us_holidays)"
   ]
  },
  {
   "cell_type": "code",
   "execution_count": 9,
   "metadata": {},
   "outputs": [
    {
     "data": {
      "text/plain": [
       "'Oceania'"
      ]
     },
     "execution_count": 9,
     "metadata": {},
     "output_type": "execute_result"
    }
   ],
   "source": [
    "def country_to_continent(country_name):\n",
    "    country_code = pc.country_name_to_country_alpha2(country_name)\n",
    "    continent_name = pc.country_alpha2_to_continent_code(country_code)\n",
    "\n",
    "    continent_dict = {\n",
    "    'AF': 'Africa',\n",
    "    'AS': 'Asia',\n",
    "    'EU': 'Europe',\n",
    "    'NA': 'North America',\n",
    "    'SA': 'South America',\n",
    "    'OC': 'Oceania',\n",
    "    'AN': 'Antarctica',\n",
    "    }\n",
    "\n",
    "    return continent_dict[continent_name]\n",
    "\n",
    "country_to_continent('New Zealand')"
   ]
  },
  {
   "cell_type": "code",
   "execution_count": 10,
   "metadata": {},
   "outputs": [
    {
     "data": {
      "text/plain": [
       "[{'place_id': 307772656,\n",
       "  'licence': 'Data © OpenStreetMap contributors, ODbL 1.0. https://osm.org/copyright',\n",
       "  'osm_type': 'relation',\n",
       "  'osm_id': 51477,\n",
       "  'boundingbox': ['47.2701114', '55.099161', '5.8663153', '15.0419309'],\n",
       "  'lat': '51.1638175',\n",
       "  'lon': '10.4478313',\n",
       "  'display_name': 'Deutschland',\n",
       "  'class': 'boundary',\n",
       "  'type': 'administrative',\n",
       "  'importance': 0.8896814891722549,\n",
       "  'icon': 'https://nominatim.openstreetmap.org/ui/mapicons/poi_boundary_administrative.p.20.png'}]"
      ]
     },
     "execution_count": 10,
     "metadata": {},
     "output_type": "execute_result"
    }
   ],
   "source": [
    "\n",
    "def search_country(country_name):\n",
    "    url = f\"https://nominatim.openstreetmap.org/search?country={country_name}&format=json\"\n",
    "\n",
    "    response = requests.get(url)\n",
    "    data = response.json()\n",
    "\n",
    "    return data\n",
    "\n",
    "\n",
    "search_country(\"Germany\")\n",
    "\n"
   ]
  },
  {
   "cell_type": "code",
   "execution_count": 26,
   "metadata": {},
   "outputs": [
    {
     "name": "stdout",
     "output_type": "stream",
     "text": [
      "Collecting tzwhere\n",
      "  Downloading tzwhere-3.0.3.tar.gz (23.7 MB)\n",
      "\u001b[2K     \u001b[90m━━━━━━━━━━━━━━━━━━━━━━━━━━━━━━━━━━━━━━━━\u001b[0m \u001b[32m23.7/23.7 MB\u001b[0m \u001b[31m30.3 MB/s\u001b[0m eta \u001b[36m0:00:00\u001b[0m00:01\u001b[0m00:01\u001b[0m\n",
      "\u001b[?25h  Preparing metadata (setup.py) ... \u001b[?25ldone\n",
      "\u001b[?25hCollecting shapely\n",
      "  Downloading shapely-2.0.1-cp310-cp310-manylinux_2_17_x86_64.manylinux2014_x86_64.whl (2.3 MB)\n",
      "\u001b[2K     \u001b[90m━━━━━━━━━━━━━━━━━━━━━━━━━━━━━━━━━━━━━━━━\u001b[0m \u001b[32m2.3/2.3 MB\u001b[0m \u001b[31m71.0 MB/s\u001b[0m eta \u001b[36m0:00:00\u001b[0m\n",
      "\u001b[?25hRequirement already satisfied: numpy>=1.14 in /opt/conda/lib/python3.10/site-packages (from shapely->tzwhere) (1.23.5)\n",
      "Building wheels for collected packages: tzwhere\n",
      "  Building wheel for tzwhere (setup.py) ... \u001b[?25ldone\n",
      "\u001b[?25h  Created wheel for tzwhere: filename=tzwhere-3.0.3-py3-none-any.whl size=23742580 sha256=e0d26e3fcdd1d0273efdde3309d8a3b0bdc0cfa8298ed761e046acb06994542a\n",
      "  Stored in directory: /home/jovyan/shared/anaconda/pip/wheels/a0/db/3b/5a63380a36e6a302b8aef9418997be589256d183179a25a227\n",
      "Successfully built tzwhere\n",
      "Installing collected packages: shapely, tzwhere\n",
      "Successfully installed shapely-2.0.1 tzwhere-3.0.3\n",
      "Note: you may need to restart the kernel to use updated packages.\n"
     ]
    }
   ],
   "source": [
    "%pip install tzwhere\n"
   ]
  },
  {
   "cell_type": "code",
   "execution_count": 27,
   "metadata": {},
   "outputs": [
    {
     "name": "stderr",
     "output_type": "stream",
     "text": [
      "/opt/conda/lib/python3.10/site-packages/tzwhere/tzwhere.py:62: VisibleDeprecationWarning: Creating an ndarray from ragged nested sequences (which is a list-or-tuple of lists-or-tuples-or ndarrays with different lengths or shapes) is deprecated. If you meant to do this, you must specify 'dtype=object' when creating the ndarray.\n",
      "  self.timezoneNamesToPolygons[tzname] = WRAP(polys)\n"
     ]
    },
    {
     "name": "stdout",
     "output_type": "stream",
     "text": [
      "Europe/London\n"
     ]
    }
   ],
   "source": [
    "from tzwhere.tzwhere import tzwhere\n",
    "\n",
    "def get_timezone_from_coordinates(lat, lon):\n",
    "    tz_str = tzwhere().tzNameAt(lat, lon)\n",
    "    return tz_str\n",
    "\n",
    "latitude = 51.5074  # latitude for London, UK\n",
    "longitude = -0.1278  # longitude for London, UK\n",
    "print(get_timezone_from_coordinates(latitude, longitude))  # Prints: 'Europe/London'"
   ]
  }
 ],
 "metadata": {
  "kernelspec": {
   "display_name": "Python 3 (ipykernel)",
   "language": "python",
   "name": "python3"
  },
  "language_info": {
   "codemirror_mode": {
    "name": "ipython",
    "version": 3
   },
   "file_extension": ".py",
   "mimetype": "text/x-python",
   "name": "python",
   "nbconvert_exporter": "python",
   "pygments_lexer": "ipython3",
   "version": "3.10.8"
  },
  "orig_nbformat": 4
 },
 "nbformat": 4,
 "nbformat_minor": 2
}
