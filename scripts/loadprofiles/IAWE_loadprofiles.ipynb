{
 "cells": [
  {
   "cell_type": "code",
   "execution_count": 5,
   "metadata": {},
   "outputs": [
    {
     "name": "stdout",
     "output_type": "stream",
     "text": [
      "Collecting dataset\n",
      "  Downloading dataset-1.6.2-py2.py3-none-any.whl (18 kB)\n",
      "Requirement already satisfied: alembic>=0.6.2 in /opt/conda/lib/python3.10/site-packages (from dataset) (1.8.1)\n",
      "Requirement already satisfied: sqlalchemy<2.0.0,>=1.3.2 in /opt/conda/lib/python3.10/site-packages (from dataset) (1.4.44)\n",
      "Collecting banal>=1.0.1\n",
      "  Downloading banal-1.0.6-py2.py3-none-any.whl (6.1 kB)\n",
      "Requirement already satisfied: Mako in /opt/conda/lib/python3.10/site-packages (from alembic>=0.6.2->dataset) (1.2.4)\n",
      "Requirement already satisfied: greenlet!=0.4.17 in /opt/conda/lib/python3.10/site-packages (from sqlalchemy<2.0.0,>=1.3.2->dataset) (2.0.1)\n",
      "Requirement already satisfied: MarkupSafe>=0.9.2 in /opt/conda/lib/python3.10/site-packages (from Mako->alembic>=0.6.2->dataset) (2.1.1)\n",
      "Installing collected packages: banal, dataset\n",
      "Successfully installed banal-1.0.6 dataset-1.6.2\n",
      "Note: you may need to restart the kernel to use updated packages.\n"
     ]
    }
   ],
   "source": [
    "%pip install dataset\n",
    "\n",
    "import os\n",
    "import pandas as pd\n",
    "import h5py\n",
    "import dataset"
   ]
  },
  {
   "cell_type": "code",
   "execution_count": 10,
   "metadata": {},
   "outputs": [
    {
     "name": "stdout",
     "output_type": "stream",
     "text": [
      "\u001b[0m\u001b[34;42mdatasets\u001b[0m/  \u001b[01;34mEnergy_graph\u001b[0m/  \u001b[34;42mshared\u001b[0m/  Untitled.ipynb\n"
     ]
    }
   ],
   "source": [
    "%ls\n",
    "path =\"datasets/NILM/iawe.h5\"\n",
    "\n",
    "meter_keys = ['/building1/elec/meter1', '/building1/elec/meter2', '/building1/elec/meter3', '/building1/elec/meter4', '/building1/elec/meter5', '/building1/elec/meter6', '/building1/elec/meter7', '/building1/elec/meter8', '/building1/elec/meter9', '/building1/elec/meter10', '/building1/elec/meter11', '/building1/elec/meter12']"
   ]
  },
  {
   "cell_type": "code",
   "execution_count": 9,
   "metadata": {},
   "outputs": [
    {
     "name": "stdout",
     "output_type": "stream",
     "text": [
      "['/building1/elec/meter1', '/building1/elec/meter10', '/building1/elec/meter11', '/building1/elec/meter12', '/building1/elec/meter2', '/building1/elec/meter3', '/building1/elec/meter4', '/building1/elec/meter5', '/building1/elec/meter6', '/building1/elec/meter7', '/building1/elec/meter8', '/building1/elec/meter9', '/building1/elec/cache/meter9/good_sections', '/building1/elec/cache/meter9/total_energy', '/building1/elec/cache/meter8/good_sections', '/building1/elec/cache/meter8/total_energy', '/building1/elec/cache/meter7/total_energy', '/building1/elec/cache/meter6/good_sections', '/building1/elec/cache/meter6/total_energy', '/building1/elec/cache/meter5/total_energy', '/building1/elec/cache/meter4/good_sections', '/building1/elec/cache/meter4/total_energy', '/building1/elec/cache/meter3/good_sections', '/building1/elec/cache/meter3/total_energy', '/building1/elec/cache/meter12/total_energy', '/building1/elec/cache/meter11/total_energy', '/building1/elec/cache/meter10/good_sections', '/building1/elec/cache/meter10/total_energy', '/building1/elec/cache/meter1/good_sections']\n"
     ]
    }
   ],
   "source": [
    "with pd.HDFStore(path, 'r') as hdf:\n",
    "    keys = hdf.keys()\n",
    "print(keys)\n"
   ]
  },
  {
   "cell_type": "code",
   "execution_count": 12,
   "metadata": {},
   "outputs": [],
   "source": [
    "df = pd.read_hdf(path, key='/building1/elec/meter11')"
   ]
  },
  {
   "cell_type": "code",
   "execution_count": 12,
   "metadata": {},
   "outputs": [],
   "source": [
    "dfs = {}\n",
    "for m in meter_keys:\n",
    "    df = pd.read_hdf(path, key=m)\n",
    "    meter = m.split('/')[-1]\n",
    "    dfs[meter] = df\n",
    "\n",
    "\n",
    "\n"
   ]
  },
  {
   "cell_type": "code",
   "execution_count": 13,
   "metadata": {},
   "outputs": [
    {
     "data": {
      "text/html": [
       "<div>\n",
       "<style scoped>\n",
       "    .dataframe tbody tr th:only-of-type {\n",
       "        vertical-align: middle;\n",
       "    }\n",
       "\n",
       "    .dataframe tbody tr th {\n",
       "        vertical-align: top;\n",
       "    }\n",
       "\n",
       "    .dataframe thead tr th {\n",
       "        text-align: left;\n",
       "    }\n",
       "</style>\n",
       "<table border=\"1\" class=\"dataframe\">\n",
       "  <thead>\n",
       "    <tr>\n",
       "      <th>physical_quantity</th>\n",
       "      <th colspan=\"3\" halign=\"left\">power</th>\n",
       "      <th>frequency</th>\n",
       "      <th>voltage</th>\n",
       "      <th>pf</th>\n",
       "      <th>current</th>\n",
       "    </tr>\n",
       "    <tr>\n",
       "      <th>type</th>\n",
       "      <th>active</th>\n",
       "      <th>reactive</th>\n",
       "      <th>apparent</th>\n",
       "      <th></th>\n",
       "      <th></th>\n",
       "      <th></th>\n",
       "      <th></th>\n",
       "    </tr>\n",
       "  </thead>\n",
       "  <tbody>\n",
       "    <tr>\n",
       "      <th>2013-05-24 05:30:00+05:30</th>\n",
       "      <td>0.0</td>\n",
       "      <td>6.000030e-18</td>\n",
       "      <td>0.0</td>\n",
       "      <td>49.997299</td>\n",
       "      <td>232.326004</td>\n",
       "      <td>1.000000e-18</td>\n",
       "      <td>6.000030e-18</td>\n",
       "    </tr>\n",
       "    <tr>\n",
       "      <th>2013-05-24 05:30:01+05:30</th>\n",
       "      <td>0.0</td>\n",
       "      <td>6.000030e-18</td>\n",
       "      <td>0.0</td>\n",
       "      <td>49.994900</td>\n",
       "      <td>232.326004</td>\n",
       "      <td>1.000000e-18</td>\n",
       "      <td>6.000030e-18</td>\n",
       "    </tr>\n",
       "    <tr>\n",
       "      <th>2013-05-24 05:30:02+05:30</th>\n",
       "      <td>0.0</td>\n",
       "      <td>6.000030e-18</td>\n",
       "      <td>0.0</td>\n",
       "      <td>49.994900</td>\n",
       "      <td>232.326004</td>\n",
       "      <td>1.000000e-18</td>\n",
       "      <td>6.000030e-18</td>\n",
       "    </tr>\n",
       "    <tr>\n",
       "      <th>2013-05-24 05:30:03+05:30</th>\n",
       "      <td>0.0</td>\n",
       "      <td>6.000030e-18</td>\n",
       "      <td>0.0</td>\n",
       "      <td>49.993099</td>\n",
       "      <td>232.311005</td>\n",
       "      <td>1.000000e-18</td>\n",
       "      <td>6.000030e-18</td>\n",
       "    </tr>\n",
       "    <tr>\n",
       "      <th>2013-05-24 05:30:04+05:30</th>\n",
       "      <td>0.0</td>\n",
       "      <td>6.000030e-18</td>\n",
       "      <td>0.0</td>\n",
       "      <td>49.991501</td>\n",
       "      <td>232.292999</td>\n",
       "      <td>1.000000e-18</td>\n",
       "      <td>6.000030e-18</td>\n",
       "    </tr>\n",
       "  </tbody>\n",
       "</table>\n",
       "</div>"
      ],
      "text/plain": [
       "physical_quantity          power                         frequency  \\\n",
       "type                      active      reactive apparent              \n",
       "2013-05-24 05:30:00+05:30    0.0  6.000030e-18      0.0  49.997299   \n",
       "2013-05-24 05:30:01+05:30    0.0  6.000030e-18      0.0  49.994900   \n",
       "2013-05-24 05:30:02+05:30    0.0  6.000030e-18      0.0  49.994900   \n",
       "2013-05-24 05:30:03+05:30    0.0  6.000030e-18      0.0  49.993099   \n",
       "2013-05-24 05:30:04+05:30    0.0  6.000030e-18      0.0  49.991501   \n",
       "\n",
       "physical_quantity             voltage            pf       current  \n",
       "type                                                               \n",
       "2013-05-24 05:30:00+05:30  232.326004  1.000000e-18  6.000030e-18  \n",
       "2013-05-24 05:30:01+05:30  232.326004  1.000000e-18  6.000030e-18  \n",
       "2013-05-24 05:30:02+05:30  232.326004  1.000000e-18  6.000030e-18  \n",
       "2013-05-24 05:30:03+05:30  232.311005  1.000000e-18  6.000030e-18  \n",
       "2013-05-24 05:30:04+05:30  232.292999  1.000000e-18  6.000030e-18  "
      ]
     },
     "execution_count": 13,
     "metadata": {},
     "output_type": "execute_result"
    }
   ],
   "source": [
    "dfs[\"meter1\"].head()"
   ]
  },
  {
   "cell_type": "code",
   "execution_count": 8,
   "metadata": {},
   "outputs": [
    {
     "ename": "UnboundLocalError",
     "evalue": "local variable 'dataset' referenced before assignment",
     "output_type": "error",
     "traceback": [
      "\u001b[0;31m---------------------------------------------------------------------------\u001b[0m",
      "\u001b[0;31mNameError\u001b[0m                                 Traceback (most recent call last)",
      "Cell \u001b[0;32mIn[8], line 3\u001b[0m, in \u001b[0;36mload_iawe_dataset\u001b[0;34m()\u001b[0m\n\u001b[1;32m      2\u001b[0m \u001b[39mtry\u001b[39;00m:\n\u001b[0;32m----> 3\u001b[0m     dataset \u001b[39m=\u001b[39m DataSet(\u001b[39m'\u001b[39m\u001b[39miawe.h5\u001b[39m\u001b[39m'\u001b[39m)\n\u001b[1;32m      5\u001b[0m     samples \u001b[39m=\u001b[39m []\n",
      "\u001b[0;31mNameError\u001b[0m: name 'DataSet' is not defined",
      "\nDuring handling of the above exception, another exception occurred:\n",
      "\u001b[0;31mUnboundLocalError\u001b[0m                         Traceback (most recent call last)",
      "Cell \u001b[0;32mIn[8], line 22\u001b[0m\n\u001b[1;32m     19\u001b[0m         dataset\u001b[39m.\u001b[39mstore\u001b[39m.\u001b[39mclose()\n\u001b[1;32m     20\u001b[0m         \u001b[39mraise\u001b[39;00m e\n\u001b[0;32m---> 22\u001b[0m dataset \u001b[39m=\u001b[39m load_iawe_dataset()\n\u001b[1;32m     24\u001b[0m \u001b[39m#deletes useless columns from the IAWE dataset\u001b[39;00m\n\u001b[1;32m     25\u001b[0m \u001b[39m#anze told me that the more for loops you use, the better programmer you are\u001b[39;00m\n\u001b[1;32m     26\u001b[0m \u001b[39mfor\u001b[39;00m i \u001b[39min\u001b[39;00m \u001b[39mrange\u001b[39m(\u001b[39mlen\u001b[39m(dataset)):\n",
      "Cell \u001b[0;32mIn[8], line 19\u001b[0m, in \u001b[0;36mload_iawe_dataset\u001b[0;34m()\u001b[0m\n\u001b[1;32m     16\u001b[0m     \u001b[39mreturn\u001b[39;00m samples\n\u001b[1;32m     18\u001b[0m \u001b[39mexcept\u001b[39;00m \u001b[39mException\u001b[39;00m \u001b[39mas\u001b[39;00m e:\n\u001b[0;32m---> 19\u001b[0m     dataset\u001b[39m.\u001b[39mstore\u001b[39m.\u001b[39mclose()\n\u001b[1;32m     20\u001b[0m     \u001b[39mraise\u001b[39;00m e\n",
      "\u001b[0;31mUnboundLocalError\u001b[0m: local variable 'dataset' referenced before assignment"
     ]
    }
   ],
   "source": []
  }
 ],
 "metadata": {
  "kernelspec": {
   "display_name": "Python 3 (ipykernel)",
   "language": "python",
   "name": "python3"
  },
  "language_info": {
   "codemirror_mode": {
    "name": "ipython",
    "version": 3
   },
   "file_extension": ".py",
   "mimetype": "text/x-python",
   "name": "python",
   "nbconvert_exporter": "python",
   "pygments_lexer": "ipython3",
   "version": "3.10.8"
  },
  "orig_nbformat": 4
 },
 "nbformat": 4,
 "nbformat_minor": 2
}
