{
 "cells": [
  {
   "cell_type": "code",
   "execution_count": 113,
   "metadata": {},
   "outputs": [],
   "source": [
    "import pandas as pd\n",
    "import numpy as np\n",
    "import matplotlib.pyplot as plt\n",
    "from tqdm import tqdm\n"
   ]
  },
  {
   "cell_type": "code",
   "execution_count": 114,
   "metadata": {},
   "outputs": [],
   "source": [
    "def calculate_loadprofiles(df):\n",
    "    # set index to timestamp\n",
    "    df.set_index('timestamp', inplace=True) \n",
    "    loadprofiles = pd.DataFrame(columns=[\"residential_id\", \"daily\", \"weekly\", \"monthly\"])\n",
    "\n",
    "    for i in tqdm(df.residential_id.unique()):\n",
    "        house = df[df.residential_id == i]\n",
    "        daily = house.resample('D').sum()\n",
    "\n",
    "        # calculate loadprofiles\n",
    "        lp_daily = house[\"energy\"].groupby(house.index.hour).mean().values.flatten().tolist()\n",
    "        lp_weekly = daily[\"energy\"].groupby(daily.index.dayofweek).mean().values.flatten().tolist()\n",
    "        lp_monthly = daily[\"energy\"].groupby(daily.index.day).mean().values.flatten().tolist()\n",
    "\n",
    "        # create new row\n",
    "        data = {\"residential_id\": [i], \"daily\": [lp_daily], \"weekly\": [lp_weekly], \"monthly\": [lp_monthly]}\n",
    "        new_row = pd.DataFrame(data)\n",
    "\n",
    "        # concat new row to loadprofiles df\n",
    "        loadprofiles = pd.concat([loadprofiles, new_row], ignore_index=True)\n",
    "    return loadprofiles"
   ]
  },
  {
   "cell_type": "code",
   "execution_count": 115,
   "metadata": {},
   "outputs": [],
   "source": [
    "# data on the compute machine in energy-forecast-compressed.zip\n",
    "\n",
    "meta_data = pd.read_parquet(\"../data/processed/HUE_metadata.parquet\")\n",
    "\n",
    "residentials = pd.read_parquet(\"../data/processed/HUE_residentials.parquet\")"
   ]
  },
  {
   "cell_type": "code",
   "execution_count": 116,
   "metadata": {},
   "outputs": [],
   "source": [
    "# wH -> kWh\n",
    "residentials[\"energy\"] = residentials[\"energy\"] /1000\n",
    "\n"
   ]
  },
  {
   "cell_type": "code",
   "execution_count": 117,
   "metadata": {},
   "outputs": [
    {
     "name": "stderr",
     "output_type": "stream",
     "text": [
      "  0%|          | 0/27 [00:00<?, ?it/s]"
     ]
    },
    {
     "name": "stderr",
     "output_type": "stream",
     "text": [
      "100%|██████████| 27/27 [00:00<00:00, 179.55it/s]\n"
     ]
    }
   ],
   "source": [
    "df = residentials.copy()\n",
    "\n",
    "loadprofiles = calculate_loadprofiles(df)\n",
    "\n"
   ]
  },
  {
   "cell_type": "code",
   "execution_count": 118,
   "metadata": {},
   "outputs": [
    {
     "data": {
      "text/html": [
       "<div>\n",
       "<style scoped>\n",
       "    .dataframe tbody tr th:only-of-type {\n",
       "        vertical-align: middle;\n",
       "    }\n",
       "\n",
       "    .dataframe tbody tr th {\n",
       "        vertical-align: top;\n",
       "    }\n",
       "\n",
       "    .dataframe thead th {\n",
       "        text-align: right;\n",
       "    }\n",
       "</style>\n",
       "<table border=\"1\" class=\"dataframe\">\n",
       "  <thead>\n",
       "    <tr style=\"text-align: right;\">\n",
       "      <th></th>\n",
       "      <th>daily</th>\n",
       "      <th>weekly</th>\n",
       "      <th>monthly</th>\n",
       "    </tr>\n",
       "    <tr>\n",
       "      <th>residential_id</th>\n",
       "      <th></th>\n",
       "      <th></th>\n",
       "      <th></th>\n",
       "    </tr>\n",
       "  </thead>\n",
       "  <tbody>\n",
       "    <tr>\n",
       "      <th>1</th>\n",
       "      <td>[0.876070549630845, 0.6444916387959866, 0.6267...</td>\n",
       "      <td>[26.961379310344824, 25.69296551724138, 25.912...</td>\n",
       "      <td>[26.874073170731705, 26.441536585365856, 25.18...</td>\n",
       "    </tr>\n",
       "    <tr>\n",
       "      <th>2</th>\n",
       "      <td>[0.21031897926634768, 0.19093600000000002, 0.1...</td>\n",
       "      <td>[8.442166666666667, 8.135666666666667, 8.12283...</td>\n",
       "      <td>[9.228048780487805, 9.123414634146341, 8.05317...</td>\n",
       "    </tr>\n",
       "    <tr>\n",
       "      <th>3</th>\n",
       "      <td>[0.5134072022160665, 0.5068474264705882, 0.504...</td>\n",
       "      <td>[21.039745222929934, 21.857898089171975, 21.16...</td>\n",
       "      <td>[23.271666666666665, 21.75, 22.574722222222224...</td>\n",
       "    </tr>\n",
       "    <tr>\n",
       "      <th>4</th>\n",
       "      <td>[0.8284770642201834, 0.7468675799086758, 0.705...</td>\n",
       "      <td>[29.378152866242036, 29.085128205128203, 29.05...</td>\n",
       "      <td>[29.767500000000002, 29.824444444444445, 28.84...</td>\n",
       "    </tr>\n",
       "    <tr>\n",
       "      <th>5</th>\n",
       "      <td>[0.4894490358126722, 0.4128310502283105, 0.387...</td>\n",
       "      <td>[18.316624203821657, 17.56051282051282, 18.336...</td>\n",
       "      <td>[18.683611111111112, 17.485555555555557, 18.55...</td>\n",
       "    </tr>\n",
       "  </tbody>\n",
       "</table>\n",
       "</div>"
      ],
      "text/plain": [
       "                                                            daily  \\\n",
       "residential_id                                                      \n",
       "1               [0.876070549630845, 0.6444916387959866, 0.6267...   \n",
       "2               [0.21031897926634768, 0.19093600000000002, 0.1...   \n",
       "3               [0.5134072022160665, 0.5068474264705882, 0.504...   \n",
       "4               [0.8284770642201834, 0.7468675799086758, 0.705...   \n",
       "5               [0.4894490358126722, 0.4128310502283105, 0.387...   \n",
       "\n",
       "                                                           weekly  \\\n",
       "residential_id                                                      \n",
       "1               [26.961379310344824, 25.69296551724138, 25.912...   \n",
       "2               [8.442166666666667, 8.135666666666667, 8.12283...   \n",
       "3               [21.039745222929934, 21.857898089171975, 21.16...   \n",
       "4               [29.378152866242036, 29.085128205128203, 29.05...   \n",
       "5               [18.316624203821657, 17.56051282051282, 18.336...   \n",
       "\n",
       "                                                          monthly  \n",
       "residential_id                                                     \n",
       "1               [26.874073170731705, 26.441536585365856, 25.18...  \n",
       "2               [9.228048780487805, 9.123414634146341, 8.05317...  \n",
       "3               [23.271666666666665, 21.75, 22.574722222222224...  \n",
       "4               [29.767500000000002, 29.824444444444445, 28.84...  \n",
       "5               [18.683611111111112, 17.485555555555557, 18.55...  "
      ]
     },
     "execution_count": 118,
     "metadata": {},
     "output_type": "execute_result"
    }
   ],
   "source": [
    "\n",
    "loadprofiles.reset_index(drop=True, inplace=True)\n",
    "loadprofiles.set_index('residential_id', inplace=True)\n",
    "loadprofiles.sort_index(inplace=True)\n",
    "loadprofiles.head()\n"
   ]
  },
  {
   "cell_type": "code",
   "execution_count": 119,
   "metadata": {},
   "outputs": [],
   "source": [
    "loadprofiles.to_parquet(\"../data/processed/HUE_loadprofiles.parquet\")"
   ]
  }
 ],
 "metadata": {
  "kernelspec": {
   "display_name": "Python 3 (ipykernel)",
   "language": "python",
   "name": "python3"
  },
  "language_info": {
   "codemirror_mode": {
    "name": "ipython",
    "version": 3
   },
   "file_extension": ".py",
   "mimetype": "text/x-python",
   "name": "python",
   "nbconvert_exporter": "python",
   "pygments_lexer": "ipython3",
   "version": "3.10.8"
  },
  "orig_nbformat": 4
 },
 "nbformat": 4,
 "nbformat_minor": 2
}
