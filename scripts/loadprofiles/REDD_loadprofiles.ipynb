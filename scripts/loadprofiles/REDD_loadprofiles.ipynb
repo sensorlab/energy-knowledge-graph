{
 "cells": [
  {
   "cell_type": "code",
   "execution_count": 2,
   "metadata": {},
   "outputs": [],
   "source": [
    "import pandas as pd\n",
    "import os\n",
    "import pickle\n",
    "from functools import reduce\n",
    "from tqdm import tqdm\n",
    "import matplotlib as plt\n"
   ]
  },
  {
   "cell_type": "code",
   "execution_count": null,
   "metadata": {},
   "outputs": [],
   "source": [
    "path = \"../../data/REDD/\"\n",
    "# keys ['building1', 'building2', 'building3', 'building4', 'building5', 'building6']\n",
    "\n",
    "df = pd.read_hdf(os.path.join(path, \"redd.h5\"), '/building6')\n",
    "\n",
    "df.head()\n",
    "\n",
    "['/building6/elec/meter1', '/building6/elec/meter10', '/building6/elec/meter11', '/building6/elec/meter12', '/building6/elec/meter13', '/building6/elec/meter14', '/building6/elec/meter15', '/building6/elec/meter16', '/building6/elec/meter17', '/building6/elec/meter2', '/building6/elec/meter3', '/building6/elec/meter4', '/building6/elec/meter5', '/building6/elec/meter6', '/building6/elec/meter7', '/building6/elec/meter8', '/building6/elec/meter9', '/building6/elec/cache/meter8/good_sections', '/building6/elec/cache/meter14/good_sections',\n",
    "  '/building5/elec/meter1', '/building5/elec/meter10', '/building5/elec/meter11', '/building5/elec/meter12', '/building5/elec/meter13', '/building5/elec/meter14', '/building5/elec/meter15', '/building5/elec/meter16', '/building5/elec/meter17', '/building5/elec/meter18', '/building5/elec/meter19', '/building5/elec/meter2', '/building5/elec/meter20', '/building5/elec/meter21', '/building5/elec/meter22', '/building5/elec/meter23', '/building5/elec/meter24', '/building5/elec/meter25', '/building5/elec/meter26', '/building5/elec/meter3',\n",
    "    '/building5/elec/meter4', '/building5/elec/meter5', '/building5/elec/meter6', '/building5/elec/meter7', '/building5/elec/meter8', '/building5/elec/meter9', '/building5/elec/cache/meter4/good_sections', '/building5/elec/cache/meter3/good_sections', '/building5/elec/cache/meter23/good_sections', '/building5/elec/cache/meter19/good_sections', '/building5/elec/cache/meter18/good_sections', '/building5/elec/cache/meter17/good_sections', '/building5/elec/cache/meter14/good_sections',\n",
    "      '/building4/elec/meter1', '/building4/elec/meter10', '/building4/elec/meter11', '/building4/elec/meter12', '/building4/elec/meter13', '/building4/elec/meter14', '/building4/elec/meter15', '/building4/elec/meter16', '/building4/elec/meter17', '/building4/elec/meter18', '/building4/elec/meter19', '/building4/elec/meter2', '/building4/elec/meter20', '/building4/elec/meter3', '/building4/elec/meter4', '/building4/elec/meter5', '/building4/elec/meter6', '/building4/elec/meter7', '/building4/elec/meter8', '/building4/elec/meter9', '/building4/elec/cache/meter3/good_sections', '/building4/elec/cache/meter19/good_sections', '/building4/elec/cache/meter18/good_sections', '/building4/elec/cache/meter13/good_sections',\n",
    "        '/building3/elec/meter1', '/building3/elec/meter10', '/building3/elec/meter11', '/building3/elec/meter12', '/building3/elec/meter13', '/building3/elec/meter14', '/building3/elec/meter15', '/building3/elec/meter16', '/building3/elec/meter17', '/building3/elec/meter18', '/building3/elec/meter19', '/building3/elec/meter2', '/building3/elec/meter20', '/building3/elec/meter21', '/building3/elec/meter22', '/building3/elec/meter3', '/building3/elec/meter4', '/building3/elec/meter5', '/building3/elec/meter6', '/building3/elec/meter7', '/building3/elec/meter8', '/building3/elec/meter9', '/building3/elec/cache/meter7/good_sections', '/building3/elec/cache/meter5/good_sections', '/building3/elec/cache/meter19/good_sections', '/building3/elec/cache/meter17/good_sections', '/building3/elec/cache/meter16/good_sections', '/building3/elec/cache/meter15/good_sections', '/building3/elec/cache/meter11/good_sections',\n",
    "          '/building2/elec/meter1', '/building2/elec/meter10', '/building2/elec/meter11', '/building2/elec/meter2', '/building2/elec/meter3', '/building2/elec/meter4', '/building2/elec/meter5', '/building2/elec/meter6', '/building2/elec/meter7', '/building2/elec/meter8', '/building2/elec/meter9', '/building2/elec/cache/meter9/good_sections', '/building2/elec/cache/meter6/good_sections', '/building2/elec/cache/meter5/good_sections', '/building2/elec/cache/meter4/good_sections', '/building2/elec/cache/meter18/good_sections', '/building2/elec/cache/meter17/good_sections', '/building2/elec/cache/meter11/good_sections', '/building2/elec/cache/meter10/good_sections',\n",
    "            '/building1/elec/meter1', '/building1/elec/meter10', '/building1/elec/meter11', '/building1/elec/meter12', '/building1/elec/meter13', '/building1/elec/meter14', '/building1/elec/meter15', '/building1/elec/meter16', '/building1/elec/meter17', '/building1/elec/meter18', '/building1/elec/meter19', '/building1/elec/meter2', '/building1/elec/meter20', '/building1/elec/meter3', '/building1/elec/meter4', '/building1/elec/meter5', '/building1/elec/meter6', '/building1/elec/meter7', '/building1/elec/meter8', '/building1/elec/meter9', '/building1/elec/cache/meter9/good_sections', '/building1/elec/cache/meter6/good_sections', '/building1/elec/cache/meter5/good_sections', '/building1/elec/cache/meter4/good_sections', '/building1/elec/cache/meter18/good_sections', '/building1/elec/cache/meter17/good_sections', '/building1/elec/cache/meter11/good_sections', '/building1/elec/cache/meter10/good_sections']\n"
   ]
  },
  {
   "cell_type": "code",
   "execution_count": 10,
   "metadata": {},
   "outputs": [
    {
     "name": "stdout",
     "output_type": "stream",
     "text": [
      "['/building6/elec/meter1', '/building6/elec/meter10', '/building6/elec/meter11', '/building6/elec/meter12', '/building6/elec/meter13', '/building6/elec/meter14', '/building6/elec/meter15', '/building6/elec/meter16', '/building6/elec/meter17', '/building6/elec/meter2', '/building6/elec/meter3', '/building6/elec/meter4', '/building6/elec/meter5', '/building6/elec/meter6', '/building6/elec/meter7', '/building6/elec/meter8', '/building6/elec/meter9', '/building6/elec/cache/meter8/good_sections', '/building6/elec/cache/meter14/good_sections', '/building5/elec/meter1', '/building5/elec/meter10', '/building5/elec/meter11', '/building5/elec/meter12', '/building5/elec/meter13', '/building5/elec/meter14', '/building5/elec/meter15', '/building5/elec/meter16', '/building5/elec/meter17', '/building5/elec/meter18', '/building5/elec/meter19', '/building5/elec/meter2', '/building5/elec/meter20', '/building5/elec/meter21', '/building5/elec/meter22', '/building5/elec/meter23', '/building5/elec/meter24', '/building5/elec/meter25', '/building5/elec/meter26', '/building5/elec/meter3', '/building5/elec/meter4', '/building5/elec/meter5', '/building5/elec/meter6', '/building5/elec/meter7', '/building5/elec/meter8', '/building5/elec/meter9', '/building5/elec/cache/meter4/good_sections', '/building5/elec/cache/meter3/good_sections', '/building5/elec/cache/meter23/good_sections', '/building5/elec/cache/meter19/good_sections', '/building5/elec/cache/meter18/good_sections', '/building5/elec/cache/meter17/good_sections', '/building5/elec/cache/meter14/good_sections', '/building4/elec/meter1', '/building4/elec/meter10', '/building4/elec/meter11', '/building4/elec/meter12', '/building4/elec/meter13', '/building4/elec/meter14', '/building4/elec/meter15', '/building4/elec/meter16', '/building4/elec/meter17', '/building4/elec/meter18', '/building4/elec/meter19', '/building4/elec/meter2', '/building4/elec/meter20', '/building4/elec/meter3', '/building4/elec/meter4', '/building4/elec/meter5', '/building4/elec/meter6', '/building4/elec/meter7', '/building4/elec/meter8', '/building4/elec/meter9', '/building4/elec/cache/meter3/good_sections', '/building4/elec/cache/meter19/good_sections', '/building4/elec/cache/meter18/good_sections', '/building4/elec/cache/meter13/good_sections', '/building3/elec/meter1', '/building3/elec/meter10', '/building3/elec/meter11', '/building3/elec/meter12', '/building3/elec/meter13', '/building3/elec/meter14', '/building3/elec/meter15', '/building3/elec/meter16', '/building3/elec/meter17', '/building3/elec/meter18', '/building3/elec/meter19', '/building3/elec/meter2', '/building3/elec/meter20', '/building3/elec/meter21', '/building3/elec/meter22', '/building3/elec/meter3', '/building3/elec/meter4', '/building3/elec/meter5', '/building3/elec/meter6', '/building3/elec/meter7', '/building3/elec/meter8', '/building3/elec/meter9', '/building3/elec/cache/meter7/good_sections', '/building3/elec/cache/meter5/good_sections', '/building3/elec/cache/meter19/good_sections', '/building3/elec/cache/meter17/good_sections', '/building3/elec/cache/meter16/good_sections', '/building3/elec/cache/meter15/good_sections', '/building3/elec/cache/meter11/good_sections', '/building2/elec/meter1', '/building2/elec/meter10', '/building2/elec/meter11', '/building2/elec/meter2', '/building2/elec/meter3', '/building2/elec/meter4', '/building2/elec/meter5', '/building2/elec/meter6', '/building2/elec/meter7', '/building2/elec/meter8', '/building2/elec/meter9', '/building2/elec/cache/meter9/good_sections', '/building2/elec/cache/meter6/good_sections', '/building2/elec/cache/meter5/good_sections', '/building2/elec/cache/meter4/good_sections', '/building2/elec/cache/meter18/good_sections', '/building2/elec/cache/meter17/good_sections', '/building2/elec/cache/meter11/good_sections', '/building2/elec/cache/meter10/good_sections', '/building1/elec/meter1', '/building1/elec/meter10', '/building1/elec/meter11', '/building1/elec/meter12', '/building1/elec/meter13', '/building1/elec/meter14', '/building1/elec/meter15', '/building1/elec/meter16', '/building1/elec/meter17', '/building1/elec/meter18', '/building1/elec/meter19', '/building1/elec/meter2', '/building1/elec/meter20', '/building1/elec/meter3', '/building1/elec/meter4', '/building1/elec/meter5', '/building1/elec/meter6', '/building1/elec/meter7', '/building1/elec/meter8', '/building1/elec/meter9', '/building1/elec/cache/meter9/good_sections', '/building1/elec/cache/meter6/good_sections', '/building1/elec/cache/meter5/good_sections', '/building1/elec/cache/meter4/good_sections', '/building1/elec/cache/meter18/good_sections', '/building1/elec/cache/meter17/good_sections', '/building1/elec/cache/meter11/good_sections', '/building1/elec/cache/meter10/good_sections']\n"
     ]
    }
   ],
   "source": [
    "with pd.HDFStore(path+\"redd.h5\") as store:\n",
    "    print(store.keys())\n"
   ]
  },
  {
   "cell_type": "code",
   "execution_count": 7,
   "metadata": {},
   "outputs": [
    {
     "name": "stdout",
     "output_type": "stream",
     "text": [
      "['building1', 'building2', 'building3', 'building4', 'building5', 'building6']\n"
     ]
    }
   ],
   "source": [
    "import h5py\n",
    "\n",
    "filename = 'redd.h5'\n",
    "\n",
    "with h5py.File(path+filename, 'r') as f:\n",
    "    keys = list(f.keys())\n",
    "print(keys)\n",
    "\n",
    "\n",
    "https://hub.over10k.ijs.si/user/vhanzel/?token=4645bdb011ff42b6aa3c4ac8b97504ec\n",
    "\n"
   ]
  }
 ],
 "metadata": {
  "kernelspec": {
   "display_name": "energy-graph",
   "language": "python",
   "name": "python3"
  },
  "language_info": {
   "codemirror_mode": {
    "name": "ipython",
    "version": 3
   },
   "file_extension": ".py",
   "mimetype": "text/x-python",
   "name": "python",
   "nbconvert_exporter": "python",
   "pygments_lexer": "ipython3",
   "version": "3.11.4"
  },
  "orig_nbformat": 4
 },
 "nbformat": 4,
 "nbformat_minor": 2
}
