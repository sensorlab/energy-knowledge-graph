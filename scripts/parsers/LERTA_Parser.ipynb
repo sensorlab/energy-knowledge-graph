{
 "cells": [
  {
   "cell_type": "code",
   "execution_count": 40,
   "metadata": {},
   "outputs": [],
   "source": [
    "import os \n",
    "import pandas as pd\n",
    "import numpy as np\n",
    "import pickle\n"
   ]
  },
  {
   "cell_type": "code",
   "execution_count": 19,
   "metadata": {},
   "outputs": [],
   "source": [
    "\n",
    "# load datasets\n",
    "LERTA1 = pd.read_csv('../../data/LERTA/CLEAN_Lerta_House1.csv', sep=',')\n",
    "LETRA2 = pd.read_csv('../../data/LERTA/CLEAN_Lerta_House2.csv', sep=',')\n",
    "LETRA3 = pd.read_csv('../../data/LERTA/CLEAN_Lerta_House3.csv', sep=',')\n",
    "LETRA4 = pd.read_csv('../../data/LERTA/CLEAN_Lerta_House4.csv', sep=',')\n"
   ]
  },
  {
   "cell_type": "code",
   "execution_count": 20,
   "metadata": {},
   "outputs": [],
   "source": [
    "# time to datetime\n",
    "LERTA1['Time'] = pd.to_datetime(LERTA1['Time'], format='%Y-%m-%d %H:%M:%S')\n",
    "LETRA2['Time'] = pd.to_datetime(LETRA2['Time'], format='%Y-%m-%d %H:%M:%S')\n",
    "LETRA3['Time'] = pd.to_datetime(LETRA3['Time'], format='%Y-%m-%d %H:%M:%S')\n",
    "LETRA4['Time'] = pd.to_datetime(LETRA4['Time'], format='%Y-%m-%d %H:%M:%S')\n",
    "\n",
    "# set index\n",
    "LERTA1 = LERTA1.set_index('Time')\n",
    "LETRA2 = LETRA2.set_index('Time')\n",
    "LETRA3 = LETRA3.set_index('Time')\n",
    "LETRA4 = LETRA4.set_index('Time')\n",
    "\n"
   ]
  },
  {
   "cell_type": "code",
   "execution_count": 21,
   "metadata": {},
   "outputs": [],
   "source": [
    "# conversion to kWh\n",
    "LETRA1 = watts2kwh(LERTA1)\n",
    "LETRA2 = watts2kwh(LETRA2)\n",
    "LETRA3 = watts2kwh(LETRA3)\n",
    "LETRA4 = watts2kwh(LETRA4)"
   ]
  },
  {
   "cell_type": "code",
   "execution_count": 25,
   "metadata": {},
   "outputs": [
    {
     "data": {
      "text/plain": [
       "0.013128333333333334"
      ]
     },
     "execution_count": 25,
     "metadata": {},
     "output_type": "execute_result"
    }
   ],
   "source": [
    "LETRA1[\"AGGREGATE\"].max()"
   ]
  },
  {
   "cell_type": "code",
   "execution_count": 38,
   "metadata": {},
   "outputs": [],
   "source": [
    "# resample to given interval\n",
    "def resample2interval(interval, df : pd.DataFrame):\n",
    "    df = df.resample(interval).sum()\n",
    "    return df\n",
    "def watts2kwh(df):\n",
    "    # converts from W to kWh 6 second intervals\n",
    "    df = (df/1000)  * (6/3600)\n",
    "    return df\n",
    "\n",
    "def calculate_loadprofiles(df):\n",
    "    # resample to daily and hourly\n",
    "    hourly = df.resample('H').sum()\n",
    "    daily = df.resample('D').sum()\n",
    "\n",
    "\n",
    "        \n",
    "    # daily load profile\n",
    "    loadprofile_daily = hourly.groupby(hourly.index.hour).mean()\n",
    "\n",
    "    # weekly load profile\n",
    "    loadprofile_weekly = hourly.groupby(hourly.index.dayofweek).mean()\n",
    "\n",
    "    # monthly load profile\n",
    "    loadprofile_monthly = hourly.groupby(hourly.index.day).mean()\n",
    "\n",
    "    # save to dictioanry\n",
    "    loadprofiles = {\n",
    "        \"daily\": loadprofile_daily,\n",
    "        \"weekly\": loadprofile_weekly,\n",
    "        \"monthly\": loadprofile_monthly\n",
    "    }\n",
    "    return loadprofiles\n",
    "\n"
   ]
  },
  {
   "cell_type": "code",
   "execution_count": 41,
   "metadata": {},
   "outputs": [],
   "source": [
    "# calculate load profiles and save them to dictionary\n",
    "houses_loadprofiles = {\n",
    "    \"house1\": calculate_loadprofiles(LETRA1),\n",
    "    \"house2\": calculate_loadprofiles(LETRA2),\n",
    "    \"house3\": calculate_loadprofiles(LETRA3),\n",
    "    \"house4\": calculate_loadprofiles(LETRA4)\n",
    "}\n",
    "\n",
    "#  save to pickle\n",
    "with open('../../data/LERTA/loadprofiles.pickle', 'wb') as handle:\n",
    "    pickle.dump(houses_loadprofiles, handle, protocol=pickle.HIGHEST_PROTOCOL)\n",
    "\n",
    "\n",
    "\n",
    "\n"
   ]
  }
 ],
 "metadata": {
  "kernelspec": {
   "display_name": "energy-graph",
   "language": "python",
   "name": "python3"
  },
  "language_info": {
   "codemirror_mode": {
    "name": "ipython",
    "version": 3
   },
   "file_extension": ".py",
   "mimetype": "text/x-python",
   "name": "python",
   "nbconvert_exporter": "python",
   "pygments_lexer": "ipython3",
   "version": "3.10.8"
  },
  "orig_nbformat": 4
 },
 "nbformat": 4,
 "nbformat_minor": 2
}
