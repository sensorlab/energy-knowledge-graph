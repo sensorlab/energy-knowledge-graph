{
 "cells": [
  {
   "cell_type": "code",
   "execution_count": 1,
   "metadata": {},
   "outputs": [],
   "source": [
    "import pandas as pd \n",
    "import os\n",
    "import requests\n",
    "import matplotlib.pyplot as plt "
   ]
  },
  {
   "cell_type": "code",
   "execution_count": 2,
   "metadata": {},
   "outputs": [],
   "source": [
    "lat = 49.083333\n",
    "lon = -122.350\n",
    "# lat: 49.083333    lon: -122.350\n",
    "url = f'https://nominatim.openstreetmap.org/reverse?format=json&lat={lat}&lon={lon}&accept-language=en'\n",
    "res = requests.get(url)\n",
    "\n"
   ]
  },
  {
   "cell_type": "code",
   "execution_count": 29,
   "metadata": {},
   "outputs": [
    {
     "data": {
      "text/plain": [
       "'Canada'"
      ]
     },
     "execution_count": 29,
     "metadata": {},
     "output_type": "execute_result"
    }
   ],
   "source": [
    "res.json()['address']['country']"
   ]
  },
  {
   "cell_type": "code",
   "execution_count": 3,
   "metadata": {},
   "outputs": [],
   "source": [
    "income_US = pd.read_csv(\"./Energy_graph/data/metadata/kaggle_income.csv\", encoding=\"latin-1\")\n",
    "\n",
    "income_US\n",
    "def find_closest(df, lat, lon):\n",
    "    df['distance'] = df.apply(lambda row: geodesic((lat, lon), (row['Lat'], row['Lon'])).miles, axis=1)\n",
    "    closest_row = df.loc[df['distance'].idxmin()]\n",
    "    return closest_row"
   ]
  },
  {
   "cell_type": "code",
   "execution_count": 21,
   "metadata": {},
   "outputs": [],
   "source": [
    "gpd_PPP =  pd.read_csv(\"./Energy_graph/data/metadata/gdp-per-capita-worldbank.csv\")\n",
    "df = gpd_PPP[gpd_PPP[\"Year\"] == 2020].drop(columns=[\"Year\", \"Code\"])\n",
    "\n",
    "df.reset_index(inplace=True, drop=True)\n",
    "df.set_index(\"Entity\", inplace=True)"
   ]
  },
  {
   "cell_type": "code",
   "execution_count": 37,
   "metadata": {},
   "outputs": [
    {
     "data": {
      "text/plain": [
       "46064.254"
      ]
     },
     "execution_count": 37,
     "metadata": {},
     "output_type": "execute_result"
    }
   ],
   "source": [
    "df.loc[res.json()['address']['country']].values[0]"
   ]
  }
 ],
 "metadata": {
  "kernelspec": {
   "display_name": "Python 3 (ipykernel)",
   "language": "python",
   "name": "python3"
  },
  "language_info": {
   "codemirror_mode": {
    "name": "ipython",
    "version": 3
   },
   "file_extension": ".py",
   "mimetype": "text/x-python",
   "name": "python",
   "nbconvert_exporter": "python",
   "pygments_lexer": "ipython3",
   "version": "3.10.8"
  },
  "orig_nbformat": 4
 },
 "nbformat": 4,
 "nbformat_minor": 2
}
