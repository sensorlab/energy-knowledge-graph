{
 "cells": [
  {
   "cell_type": "code",
   "execution_count": 1,
   "metadata": {},
   "outputs": [
    {
     "name": "stdout",
     "output_type": "stream",
     "text": [
      "Collecting rdflib\n",
      "  Using cached rdflib-7.0.0-py3-none-any.whl (531 kB)\n",
      "Collecting isodate<0.7.0,>=0.6.0\n",
      "  Using cached isodate-0.6.1-py2.py3-none-any.whl (41 kB)\n",
      "Requirement already satisfied: pyparsing<4,>=2.1.0 in /opt/conda/lib/python3.10/site-packages (from rdflib) (3.0.9)\n",
      "Requirement already satisfied: six in /opt/conda/lib/python3.10/site-packages (from isodate<0.7.0,>=0.6.0->rdflib) (1.16.0)\n",
      "Installing collected packages: isodate, rdflib\n",
      "Successfully installed isodate-0.6.1 rdflib-7.0.0\n",
      "Note: you may need to restart the kernel to use updated packages.\n"
     ]
    }
   ],
   "source": [
    "%pip install rdflib"
   ]
  },
  {
   "cell_type": "code",
   "execution_count": null,
   "metadata": {},
   "outputs": [],
   "source": [
    "import rdflib\n",
    "from rdflib.namespace import XSD\n",
    "\n",
    "def convert_scientific_to_decimal(literal):\n",
    "    \"\"\" Convert a literal with scientific notation to decimal notation. \"\"\"\n",
    "    if literal.datatype in [XSD.double, XSD.float]:\n",
    "        return rdflib.Literal(float(literal), datatype=literal.datatype)\n",
    "    return literal\n",
    "\n",
    "def process_turtle_file(input_file, output_file):\n",
    "    \"\"\" Process a Turtle file to convert scientific notation to decimal notation. \"\"\"\n",
    "    g = rdflib.Graph()\n",
    "    g.parse(input_file, format=\"turtle\")\n",
    "\n",
    "    new_graph = rdflib.Graph()\n",
    "\n",
    "    for subject, predicate, obj in g:\n",
    "        new_obj = convert_scientific_to_decimal(obj) if isinstance(obj, rdflib.Literal) else obj\n",
    "        new_graph.add((subject, predicate, new_obj))\n",
    "\n",
    "    new_graph.serialize(destination=output_file, format='turtle')\n",
    "\n",
    "# Replace 'input.ttl' and 'output.ttl' with your file paths\n",
    "process_turtle_file('./Energy_graph/r2rml/example/house_names.ttl', './Energy_graph/r2rml/example/output.ttl')\n"
   ]
  }
 ],
 "metadata": {
  "kernelspec": {
   "display_name": "Python 3 (ipykernel)",
   "language": "python",
   "name": "python3"
  },
  "language_info": {
   "codemirror_mode": {
    "name": "ipython",
    "version": 3
   },
   "file_extension": ".py",
   "mimetype": "text/x-python",
   "name": "python",
   "nbconvert_exporter": "python",
   "pygments_lexer": "ipython3",
   "version": "3.10.8"
  }
 },
 "nbformat": 4,
 "nbformat_minor": 2
}
